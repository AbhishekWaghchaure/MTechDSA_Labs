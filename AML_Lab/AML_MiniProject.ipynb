{
 "cells": [
  {
   "cell_type": "code",
   "execution_count": 86,
   "metadata": {
    "collapsed": true
   },
   "outputs": [],
   "source": [
    "import pandas as pd\n",
    "import numpy as np\n",
    "from sklearn.impute import SimpleImputer"
   ]
  },
  {
   "cell_type": "code",
   "execution_count": 87,
   "outputs": [
    {
     "data": {
      "text/plain": "        id           car_name  yr_mfr fuel_type  kms_run  sale_price     city  \\\n0        1       maruti swift    2015    petrol     8063      386399    noida   \n1        2    maruti alto 800    2016    petrol    23104      265499    noida   \n2        3  hyundai grand i10    2017    petrol    23402      477699    noida   \n3        4       maruti swift    2013    diesel    39124      307999    noida   \n4        5  hyundai grand i10    2015    petrol    22116      361499    noida   \n...    ...                ...     ...       ...      ...         ...      ...   \n6394  6395    toyota fortuner    2012    diesel   116838     1100000  lucknow   \n6395  6396        hyundai i20    2012    diesel    47317      370000  lucknow   \n6396  6397      toyota innova    2009    diesel   274167      415000  lucknow   \n6397  6398    tata indica ev2    2011    diesel   119634      150000  lucknow   \n6398  6399  hyundai grand i10    2015    diesel   101527      350000  lucknow   \n\n      times_viewed   body_type transmission  ... total_owners  broker_quote  \\\n0            18715   hatchback       manual  ...            2        397677   \n1             2676   hatchback       manual  ...            1        272935   \n2              609   hatchback       manual  ...            1        469605   \n3             6511   hatchback       manual  ...            1        294262   \n4             3225   hatchback       manual  ...            1        360716   \n...            ...         ...          ...  ...          ...           ...   \n6394           327  luxury suv       manual  ...            2        765000   \n6395           214   hatchback       manual  ...            1             0   \n6396           247         suv       manual  ...            2        250000   \n6397           157   hatchback       manual  ...            2         33000   \n6398           144   hatchback       manual  ...            2        232000   \n\n     original_price  car_rating            ad_created_on fitness_certificate  \\\n0          404177.0       great  2021-04-04T07:09:18.583                True   \n1          354313.0       great  2021-03-22T14:07:32.833                True   \n2               NaN       great  2021-03-20T05:36:31.311                True   \n3          374326.0       great  2021-01-21T12:59:19.299                True   \n4          367216.0       great  2021-04-01T13:33:40.733                True   \n...             ...         ...                      ...                 ...   \n6394            NaN        good  2019-09-06T04:20:28.916               False   \n6395            NaN  overpriced  2019-09-02T09:43:11.541               False   \n6396            NaN  overpriced  2019-08-28T14:42:16.246               False   \n6397            NaN  overpriced  2019-08-26T06:10:57.269               False   \n6398            NaN        good  2019-08-25T06:09:38.375               False   \n\n     emi_starts_from booking_down_pymnt reserved warranty_avail  \n0               8975              57960    False          False  \n1               6167              39825    False          False  \n2              11096              71655    False          False  \n3               7154              46200    False          False  \n4               8397              54225    False          False  \n...              ...                ...      ...            ...  \n6394           25550             165000    False           True  \n6395            8594              55500    False           True  \n6396            9639              62250    False          False  \n6397            3484              22500    False          False  \n6398            8130              52500    False           True  \n\n[6399 rows x 30 columns]",
      "text/html": "<div>\n<style scoped>\n    .dataframe tbody tr th:only-of-type {\n        vertical-align: middle;\n    }\n\n    .dataframe tbody tr th {\n        vertical-align: top;\n    }\n\n    .dataframe thead th {\n        text-align: right;\n    }\n</style>\n<table border=\"1\" class=\"dataframe\">\n  <thead>\n    <tr style=\"text-align: right;\">\n      <th></th>\n      <th>id</th>\n      <th>car_name</th>\n      <th>yr_mfr</th>\n      <th>fuel_type</th>\n      <th>kms_run</th>\n      <th>sale_price</th>\n      <th>city</th>\n      <th>times_viewed</th>\n      <th>body_type</th>\n      <th>transmission</th>\n      <th>...</th>\n      <th>total_owners</th>\n      <th>broker_quote</th>\n      <th>original_price</th>\n      <th>car_rating</th>\n      <th>ad_created_on</th>\n      <th>fitness_certificate</th>\n      <th>emi_starts_from</th>\n      <th>booking_down_pymnt</th>\n      <th>reserved</th>\n      <th>warranty_avail</th>\n    </tr>\n  </thead>\n  <tbody>\n    <tr>\n      <th>0</th>\n      <td>1</td>\n      <td>maruti swift</td>\n      <td>2015</td>\n      <td>petrol</td>\n      <td>8063</td>\n      <td>386399</td>\n      <td>noida</td>\n      <td>18715</td>\n      <td>hatchback</td>\n      <td>manual</td>\n      <td>...</td>\n      <td>2</td>\n      <td>397677</td>\n      <td>404177.0</td>\n      <td>great</td>\n      <td>2021-04-04T07:09:18.583</td>\n      <td>True</td>\n      <td>8975</td>\n      <td>57960</td>\n      <td>False</td>\n      <td>False</td>\n    </tr>\n    <tr>\n      <th>1</th>\n      <td>2</td>\n      <td>maruti alto 800</td>\n      <td>2016</td>\n      <td>petrol</td>\n      <td>23104</td>\n      <td>265499</td>\n      <td>noida</td>\n      <td>2676</td>\n      <td>hatchback</td>\n      <td>manual</td>\n      <td>...</td>\n      <td>1</td>\n      <td>272935</td>\n      <td>354313.0</td>\n      <td>great</td>\n      <td>2021-03-22T14:07:32.833</td>\n      <td>True</td>\n      <td>6167</td>\n      <td>39825</td>\n      <td>False</td>\n      <td>False</td>\n    </tr>\n    <tr>\n      <th>2</th>\n      <td>3</td>\n      <td>hyundai grand i10</td>\n      <td>2017</td>\n      <td>petrol</td>\n      <td>23402</td>\n      <td>477699</td>\n      <td>noida</td>\n      <td>609</td>\n      <td>hatchback</td>\n      <td>manual</td>\n      <td>...</td>\n      <td>1</td>\n      <td>469605</td>\n      <td>NaN</td>\n      <td>great</td>\n      <td>2021-03-20T05:36:31.311</td>\n      <td>True</td>\n      <td>11096</td>\n      <td>71655</td>\n      <td>False</td>\n      <td>False</td>\n    </tr>\n    <tr>\n      <th>3</th>\n      <td>4</td>\n      <td>maruti swift</td>\n      <td>2013</td>\n      <td>diesel</td>\n      <td>39124</td>\n      <td>307999</td>\n      <td>noida</td>\n      <td>6511</td>\n      <td>hatchback</td>\n      <td>manual</td>\n      <td>...</td>\n      <td>1</td>\n      <td>294262</td>\n      <td>374326.0</td>\n      <td>great</td>\n      <td>2021-01-21T12:59:19.299</td>\n      <td>True</td>\n      <td>7154</td>\n      <td>46200</td>\n      <td>False</td>\n      <td>False</td>\n    </tr>\n    <tr>\n      <th>4</th>\n      <td>5</td>\n      <td>hyundai grand i10</td>\n      <td>2015</td>\n      <td>petrol</td>\n      <td>22116</td>\n      <td>361499</td>\n      <td>noida</td>\n      <td>3225</td>\n      <td>hatchback</td>\n      <td>manual</td>\n      <td>...</td>\n      <td>1</td>\n      <td>360716</td>\n      <td>367216.0</td>\n      <td>great</td>\n      <td>2021-04-01T13:33:40.733</td>\n      <td>True</td>\n      <td>8397</td>\n      <td>54225</td>\n      <td>False</td>\n      <td>False</td>\n    </tr>\n    <tr>\n      <th>...</th>\n      <td>...</td>\n      <td>...</td>\n      <td>...</td>\n      <td>...</td>\n      <td>...</td>\n      <td>...</td>\n      <td>...</td>\n      <td>...</td>\n      <td>...</td>\n      <td>...</td>\n      <td>...</td>\n      <td>...</td>\n      <td>...</td>\n      <td>...</td>\n      <td>...</td>\n      <td>...</td>\n      <td>...</td>\n      <td>...</td>\n      <td>...</td>\n      <td>...</td>\n      <td>...</td>\n    </tr>\n    <tr>\n      <th>6394</th>\n      <td>6395</td>\n      <td>toyota fortuner</td>\n      <td>2012</td>\n      <td>diesel</td>\n      <td>116838</td>\n      <td>1100000</td>\n      <td>lucknow</td>\n      <td>327</td>\n      <td>luxury suv</td>\n      <td>manual</td>\n      <td>...</td>\n      <td>2</td>\n      <td>765000</td>\n      <td>NaN</td>\n      <td>good</td>\n      <td>2019-09-06T04:20:28.916</td>\n      <td>False</td>\n      <td>25550</td>\n      <td>165000</td>\n      <td>False</td>\n      <td>True</td>\n    </tr>\n    <tr>\n      <th>6395</th>\n      <td>6396</td>\n      <td>hyundai i20</td>\n      <td>2012</td>\n      <td>diesel</td>\n      <td>47317</td>\n      <td>370000</td>\n      <td>lucknow</td>\n      <td>214</td>\n      <td>hatchback</td>\n      <td>manual</td>\n      <td>...</td>\n      <td>1</td>\n      <td>0</td>\n      <td>NaN</td>\n      <td>overpriced</td>\n      <td>2019-09-02T09:43:11.541</td>\n      <td>False</td>\n      <td>8594</td>\n      <td>55500</td>\n      <td>False</td>\n      <td>True</td>\n    </tr>\n    <tr>\n      <th>6396</th>\n      <td>6397</td>\n      <td>toyota innova</td>\n      <td>2009</td>\n      <td>diesel</td>\n      <td>274167</td>\n      <td>415000</td>\n      <td>lucknow</td>\n      <td>247</td>\n      <td>suv</td>\n      <td>manual</td>\n      <td>...</td>\n      <td>2</td>\n      <td>250000</td>\n      <td>NaN</td>\n      <td>overpriced</td>\n      <td>2019-08-28T14:42:16.246</td>\n      <td>False</td>\n      <td>9639</td>\n      <td>62250</td>\n      <td>False</td>\n      <td>False</td>\n    </tr>\n    <tr>\n      <th>6397</th>\n      <td>6398</td>\n      <td>tata indica ev2</td>\n      <td>2011</td>\n      <td>diesel</td>\n      <td>119634</td>\n      <td>150000</td>\n      <td>lucknow</td>\n      <td>157</td>\n      <td>hatchback</td>\n      <td>manual</td>\n      <td>...</td>\n      <td>2</td>\n      <td>33000</td>\n      <td>NaN</td>\n      <td>overpriced</td>\n      <td>2019-08-26T06:10:57.269</td>\n      <td>False</td>\n      <td>3484</td>\n      <td>22500</td>\n      <td>False</td>\n      <td>False</td>\n    </tr>\n    <tr>\n      <th>6398</th>\n      <td>6399</td>\n      <td>hyundai grand i10</td>\n      <td>2015</td>\n      <td>diesel</td>\n      <td>101527</td>\n      <td>350000</td>\n      <td>lucknow</td>\n      <td>144</td>\n      <td>hatchback</td>\n      <td>manual</td>\n      <td>...</td>\n      <td>2</td>\n      <td>232000</td>\n      <td>NaN</td>\n      <td>good</td>\n      <td>2019-08-25T06:09:38.375</td>\n      <td>False</td>\n      <td>8130</td>\n      <td>52500</td>\n      <td>False</td>\n      <td>True</td>\n    </tr>\n  </tbody>\n</table>\n<p>6399 rows × 30 columns</p>\n</div>"
     },
     "execution_count": 87,
     "metadata": {},
     "output_type": "execute_result"
    }
   ],
   "source": [
    "df = pd.read_csv(\"cars.csv\")\n",
    "df"
   ],
   "metadata": {
    "collapsed": false
   }
  },
  {
   "cell_type": "code",
   "execution_count": 88,
   "outputs": [
    {
     "name": "stdout",
     "output_type": "stream",
     "text": [
      "<class 'pandas.core.frame.DataFrame'>\n",
      "RangeIndex: 6399 entries, 0 to 6398\n",
      "Data columns (total 30 columns):\n",
      " #   Column               Non-Null Count  Dtype  \n",
      "---  ------               --------------  -----  \n",
      " 0   id                   6399 non-null   int64  \n",
      " 1   car_name             6399 non-null   object \n",
      " 2   yr_mfr               6399 non-null   int64  \n",
      " 3   fuel_type            6399 non-null   object \n",
      " 4   kms_run              6399 non-null   int64  \n",
      " 5   sale_price           6399 non-null   int64  \n",
      " 6   city                 6399 non-null   object \n",
      " 7   times_viewed         6399 non-null   int64  \n",
      " 8   body_type            6309 non-null   object \n",
      " 9   transmission         5925 non-null   object \n",
      " 10  variant              6399 non-null   object \n",
      " 11  assured_buy          6399 non-null   bool   \n",
      " 12  registered_city      6391 non-null   object \n",
      " 13  registered_state     6391 non-null   object \n",
      " 14  is_hot               6399 non-null   bool   \n",
      " 15  rto                  6399 non-null   object \n",
      " 16  source               6285 non-null   object \n",
      " 17  make                 6399 non-null   object \n",
      " 18  model                6399 non-null   object \n",
      " 19  car_availability     5857 non-null   object \n",
      " 20  total_owners         6399 non-null   int64  \n",
      " 21  broker_quote         6399 non-null   int64  \n",
      " 22  original_price       3575 non-null   float64\n",
      " 23  car_rating           6392 non-null   object \n",
      " 24  ad_created_on        6398 non-null   object \n",
      " 25  fitness_certificate  6391 non-null   object \n",
      " 26  emi_starts_from      6399 non-null   int64  \n",
      " 27  booking_down_pymnt   6399 non-null   int64  \n",
      " 28  reserved             6399 non-null   bool   \n",
      " 29  warranty_avail       6399 non-null   bool   \n",
      "dtypes: bool(4), float64(1), int64(9), object(16)\n",
      "memory usage: 1.3+ MB\n"
     ]
    }
   ],
   "source": [
    "df.info()"
   ],
   "metadata": {
    "collapsed": false
   }
  },
  {
   "cell_type": "code",
   "execution_count": 89,
   "outputs": [
    {
     "data": {
      "text/plain": "id                        0\ncar_name                  0\nyr_mfr                    0\nfuel_type                 0\nkms_run                   0\nsale_price                0\ncity                      0\ntimes_viewed              0\nbody_type                90\ntransmission            474\nvariant                   0\nassured_buy               0\nregistered_city           8\nregistered_state          8\nis_hot                    0\nrto                       0\nsource                  114\nmake                      0\nmodel                     0\ncar_availability        542\ntotal_owners              0\nbroker_quote              0\noriginal_price         2824\ncar_rating                7\nad_created_on             1\nfitness_certificate       8\nemi_starts_from           0\nbooking_down_pymnt        0\nreserved                  0\nwarranty_avail            0\ndtype: int64"
     },
     "execution_count": 89,
     "metadata": {},
     "output_type": "execute_result"
    }
   ],
   "source": [
    "df.isnull().sum()"
   ],
   "metadata": {
    "collapsed": false
   }
  },
  {
   "cell_type": "code",
   "execution_count": 90,
   "outputs": [
    {
     "data": {
      "text/plain": "count    3.575000e+03\nmean     5.507506e+05\nstd      3.114276e+05\nmin      1.150990e+05\n25%      3.424855e+05\n50%      4.672500e+05\n75%      6.663375e+05\nmax      2.765057e+06\nName: original_price, dtype: float64"
     },
     "execution_count": 90,
     "metadata": {},
     "output_type": "execute_result"
    }
   ],
   "source": [
    "df['original_price'].describe()"
   ],
   "metadata": {
    "collapsed": false
   }
  },
  {
   "cell_type": "code",
   "execution_count": 91,
   "outputs": [
    {
     "data": {
      "text/plain": "             source\n0     inperson_sale\n1     inperson_sale\n2     inperson_sale\n3     inperson_sale\n4     inperson_sale\n...             ...\n6394         online\n6395         online\n6396         online\n6397         online\n6398         online\n\n[6399 rows x 1 columns]",
      "text/html": "<div>\n<style scoped>\n    .dataframe tbody tr th:only-of-type {\n        vertical-align: middle;\n    }\n\n    .dataframe tbody tr th {\n        vertical-align: top;\n    }\n\n    .dataframe thead th {\n        text-align: right;\n    }\n</style>\n<table border=\"1\" class=\"dataframe\">\n  <thead>\n    <tr style=\"text-align: right;\">\n      <th></th>\n      <th>source</th>\n    </tr>\n  </thead>\n  <tbody>\n    <tr>\n      <th>0</th>\n      <td>inperson_sale</td>\n    </tr>\n    <tr>\n      <th>1</th>\n      <td>inperson_sale</td>\n    </tr>\n    <tr>\n      <th>2</th>\n      <td>inperson_sale</td>\n    </tr>\n    <tr>\n      <th>3</th>\n      <td>inperson_sale</td>\n    </tr>\n    <tr>\n      <th>4</th>\n      <td>inperson_sale</td>\n    </tr>\n    <tr>\n      <th>...</th>\n      <td>...</td>\n    </tr>\n    <tr>\n      <th>6394</th>\n      <td>online</td>\n    </tr>\n    <tr>\n      <th>6395</th>\n      <td>online</td>\n    </tr>\n    <tr>\n      <th>6396</th>\n      <td>online</td>\n    </tr>\n    <tr>\n      <th>6397</th>\n      <td>online</td>\n    </tr>\n    <tr>\n      <th>6398</th>\n      <td>online</td>\n    </tr>\n  </tbody>\n</table>\n<p>6399 rows × 1 columns</p>\n</div>"
     },
     "execution_count": 91,
     "metadata": {},
     "output_type": "execute_result"
    }
   ],
   "source": [
    "df.iloc[:,16:17]"
   ],
   "metadata": {
    "collapsed": false
   }
  },
  {
   "cell_type": "markdown",
   "source": [
    "####  Null operation on original_price using mean by Simple Imputer"
   ],
   "metadata": {
    "collapsed": false
   }
  },
  {
   "cell_type": "code",
   "execution_count": 92,
   "outputs": [],
   "source": [
    "impute_Op = SimpleImputer(missing_values=np.nan, strategy='mean')\n",
    "impute_Op.fit(df.iloc[:,22:23])\n",
    "df.iloc[:,22:23] = impute_Op.transform(df.iloc[:,22:23])"
   ],
   "metadata": {
    "collapsed": false
   }
  },
  {
   "cell_type": "code",
   "execution_count": 93,
   "outputs": [
    {
     "name": "stdout",
     "output_type": "stream",
     "text": [
      "<class 'pandas.core.series.Series'>\n",
      "RangeIndex: 6399 entries, 0 to 6398\n",
      "Series name: original_price\n",
      "Non-Null Count  Dtype  \n",
      "--------------  -----  \n",
      "6399 non-null   float64\n",
      "dtypes: float64(1)\n",
      "memory usage: 50.1 KB\n"
     ]
    }
   ],
   "source": [
    "df['original_price'].isnull().sum()\n",
    "df['original_price'].info()"
   ],
   "metadata": {
    "collapsed": false
   }
  },
  {
   "cell_type": "code",
   "execution_count": 94,
   "outputs": [
    {
     "data": {
      "text/plain": "array(['in_stock', 'in_transit', nan, 'out_of_stock', 'pickup_pending'],\n      dtype=object)"
     },
     "execution_count": 94,
     "metadata": {},
     "output_type": "execute_result"
    }
   ],
   "source": [
    "df['car_availability'].unique()"
   ],
   "metadata": {
    "collapsed": false
   }
  },
  {
   "cell_type": "code",
   "execution_count": 95,
   "outputs": [
    {
     "data": {
      "text/plain": "542"
     },
     "execution_count": 95,
     "metadata": {},
     "output_type": "execute_result"
    }
   ],
   "source": [
    "df['car_availability'].isnull().sum()"
   ],
   "metadata": {
    "collapsed": false
   }
  },
  {
   "cell_type": "code",
   "execution_count": 96,
   "outputs": [
    {
     "data": {
      "text/plain": "car_availability\nin_stock          5604\nin_transit         193\nout_of_stock        22\npickup_pending      38\ndtype: int64"
     },
     "execution_count": 96,
     "metadata": {},
     "output_type": "execute_result"
    }
   ],
   "source": [
    "df.groupby(['car_availability']).size()"
   ],
   "metadata": {
    "collapsed": false
   }
  },
  {
   "cell_type": "code",
   "execution_count": 97,
   "outputs": [
    {
     "data": {
      "text/plain": "Empty DataFrame\nColumns: [id, car_name, yr_mfr, fuel_type, kms_run, sale_price, city, times_viewed, body_type, transmission, variant, assured_buy, registered_city, registered_state, is_hot, rto, source, make, model, car_availability, total_owners, broker_quote, original_price, car_rating, ad_created_on, fitness_certificate, emi_starts_from, booking_down_pymnt, reserved, warranty_avail]\nIndex: []\n\n[0 rows x 30 columns]",
      "text/html": "<div>\n<style scoped>\n    .dataframe tbody tr th:only-of-type {\n        vertical-align: middle;\n    }\n\n    .dataframe tbody tr th {\n        vertical-align: top;\n    }\n\n    .dataframe thead th {\n        text-align: right;\n    }\n</style>\n<table border=\"1\" class=\"dataframe\">\n  <thead>\n    <tr style=\"text-align: right;\">\n      <th></th>\n      <th>id</th>\n      <th>car_name</th>\n      <th>yr_mfr</th>\n      <th>fuel_type</th>\n      <th>kms_run</th>\n      <th>sale_price</th>\n      <th>city</th>\n      <th>times_viewed</th>\n      <th>body_type</th>\n      <th>transmission</th>\n      <th>...</th>\n      <th>total_owners</th>\n      <th>broker_quote</th>\n      <th>original_price</th>\n      <th>car_rating</th>\n      <th>ad_created_on</th>\n      <th>fitness_certificate</th>\n      <th>emi_starts_from</th>\n      <th>booking_down_pymnt</th>\n      <th>reserved</th>\n      <th>warranty_avail</th>\n    </tr>\n  </thead>\n  <tbody>\n  </tbody>\n</table>\n<p>0 rows × 30 columns</p>\n</div>"
     },
     "execution_count": 97,
     "metadata": {},
     "output_type": "execute_result"
    }
   ],
   "source": [
    "temp = df[df['car_availability'] == 'NaN']\n",
    "temp"
   ],
   "metadata": {
    "collapsed": false
   }
  },
  {
   "cell_type": "markdown",
   "source": [
    "Null operation on car_availability using most_frequent by Simple Imputer"
   ],
   "metadata": {
    "collapsed": false
   }
  },
  {
   "cell_type": "code",
   "execution_count": 98,
   "outputs": [],
   "source": [
    "impute_Ca = SimpleImputer(missing_values= np.nan, strategy='most_frequent')\n",
    "impute_Ca.fit(df.iloc[:,19:20])\n",
    "df.iloc[:,19:20] = impute_Ca.transform(df.iloc[:,19:20])"
   ],
   "metadata": {
    "collapsed": false
   }
  },
  {
   "cell_type": "code",
   "execution_count": 99,
   "outputs": [
    {
     "name": "stdout",
     "output_type": "stream",
     "text": [
      "<class 'pandas.core.series.Series'>\n",
      "RangeIndex: 6399 entries, 0 to 6398\n",
      "Series name: car_availability\n",
      "Non-Null Count  Dtype \n",
      "--------------  ----- \n",
      "6399 non-null   object\n",
      "dtypes: object(1)\n",
      "memory usage: 50.1+ KB\n"
     ]
    },
    {
     "data": {
      "text/plain": "0"
     },
     "execution_count": 99,
     "metadata": {},
     "output_type": "execute_result"
    }
   ],
   "source": [
    "df['car_availability'].info()\n",
    "df['car_availability'].isnull().sum()"
   ],
   "metadata": {
    "collapsed": false
   }
  },
  {
   "cell_type": "code",
   "execution_count": 100,
   "outputs": [
    {
     "data": {
      "text/plain": "array(['manual', nan, 'automatic'], dtype=object)"
     },
     "execution_count": 100,
     "metadata": {},
     "output_type": "execute_result"
    }
   ],
   "source": [
    "df['transmission'].unique()"
   ],
   "metadata": {
    "collapsed": false
   }
  },
  {
   "cell_type": "code",
   "execution_count": 101,
   "outputs": [
    {
     "data": {
      "text/plain": "474"
     },
     "execution_count": 101,
     "metadata": {},
     "output_type": "execute_result"
    }
   ],
   "source": [
    "df['transmission'].isnull().sum()"
   ],
   "metadata": {
    "collapsed": false
   }
  },
  {
   "cell_type": "code",
   "execution_count": 102,
   "outputs": [
    {
     "data": {
      "text/plain": "count       5925\nunique         2\ntop       manual\nfreq        5381\nName: transmission, dtype: object"
     },
     "execution_count": 102,
     "metadata": {},
     "output_type": "execute_result"
    }
   ],
   "source": [
    "df['transmission'].describe()"
   ],
   "metadata": {
    "collapsed": false
   }
  },
  {
   "cell_type": "code",
   "execution_count": 103,
   "outputs": [
    {
     "data": {
      "text/plain": "transmission\nautomatic     544\nmanual       5381\ndtype: int64"
     },
     "execution_count": 103,
     "metadata": {},
     "output_type": "execute_result"
    }
   ],
   "source": [
    "df.groupby(['transmission']).size()"
   ],
   "metadata": {
    "collapsed": false
   }
  },
  {
   "cell_type": "markdown",
   "source": [
    "Null operation on transmission using most_frequent by Simple Imputer"
   ],
   "metadata": {
    "collapsed": false
   }
  },
  {
   "cell_type": "code",
   "execution_count": 104,
   "outputs": [],
   "source": [
    "impute_tr = SimpleImputer(missing_values=np.nan, strategy='most_frequent')\n",
    "impute_tr.fit(df.iloc[:,9:10])\n",
    "df.iloc[:,9:10] = impute_tr.transform(df.iloc[:,9:10])"
   ],
   "metadata": {
    "collapsed": false
   }
  },
  {
   "cell_type": "code",
   "execution_count": 105,
   "outputs": [
    {
     "data": {
      "text/plain": "0"
     },
     "execution_count": 105,
     "metadata": {},
     "output_type": "execute_result"
    }
   ],
   "source": [
    "df['transmission'].isnull().sum()"
   ],
   "metadata": {
    "collapsed": false
   }
  },
  {
   "cell_type": "code",
   "execution_count": 106,
   "outputs": [
    {
     "data": {
      "text/plain": "array(['hatchback', 'sedan', 'suv', 'luxury sedan', 'luxury suv', nan],\n      dtype=object)"
     },
     "execution_count": 106,
     "metadata": {},
     "output_type": "execute_result"
    }
   ],
   "source": [
    "df['body_type'].unique()"
   ],
   "metadata": {
    "collapsed": false
   }
  },
  {
   "cell_type": "code",
   "execution_count": 107,
   "outputs": [
    {
     "data": {
      "text/plain": "body_type\nhatchback       3798\nluxury sedan     135\nluxury suv       169\nsedan           1261\nsuv              946\ndtype: int64"
     },
     "execution_count": 107,
     "metadata": {},
     "output_type": "execute_result"
    }
   ],
   "source": [
    "df.groupby(['body_type']).size()"
   ],
   "metadata": {
    "collapsed": false
   }
  },
  {
   "cell_type": "markdown",
   "source": [
    "Null operation on transmission using most_frequent by Simple Imputer"
   ],
   "metadata": {
    "collapsed": false
   }
  },
  {
   "cell_type": "code",
   "execution_count": 108,
   "outputs": [],
   "source": [
    "impute_bt = SimpleImputer(missing_values= np.nan, strategy='most_frequent')\n",
    "impute_bt.fit(df.iloc[:,8:9])\n",
    "df.iloc[:,8:9] = impute_bt.transform(df.iloc[:,8:9])"
   ],
   "metadata": {
    "collapsed": false
   }
  },
  {
   "cell_type": "code",
   "execution_count": 109,
   "outputs": [
    {
     "data": {
      "text/plain": "array(['hatchback', 'sedan', 'suv', 'luxury sedan', 'luxury suv'],\n      dtype=object)"
     },
     "execution_count": 109,
     "metadata": {},
     "output_type": "execute_result"
    }
   ],
   "source": [
    "df['body_type'].unique()"
   ],
   "metadata": {
    "collapsed": false
   }
  },
  {
   "cell_type": "code",
   "execution_count": 110,
   "outputs": [
    {
     "data": {
      "text/plain": "0"
     },
     "execution_count": 110,
     "metadata": {},
     "output_type": "execute_result"
    }
   ],
   "source": [
    "df['body_type'].isnull().sum()"
   ],
   "metadata": {
    "collapsed": false
   }
  },
  {
   "cell_type": "markdown",
   "source": [
    "Null operation on source using most_frequent by Simple Imputer"
   ],
   "metadata": {
    "collapsed": false
   }
  },
  {
   "cell_type": "code",
   "execution_count": 111,
   "outputs": [
    {
     "data": {
      "text/plain": "array(['inperson_sale', nan, 'online', 'customer_to_customer'],\n      dtype=object)"
     },
     "execution_count": 111,
     "metadata": {},
     "output_type": "execute_result"
    }
   ],
   "source": [
    "df['source'].unique()"
   ],
   "metadata": {
    "collapsed": false
   }
  },
  {
   "cell_type": "code",
   "execution_count": 112,
   "outputs": [
    {
     "data": {
      "text/plain": "114"
     },
     "execution_count": 112,
     "metadata": {},
     "output_type": "execute_result"
    }
   ],
   "source": [
    "df['source'].isnull().sum()"
   ],
   "metadata": {
    "collapsed": false
   }
  },
  {
   "cell_type": "code",
   "execution_count": 113,
   "outputs": [
    {
     "data": {
      "text/plain": "count              6285\nunique                3\ntop       inperson_sale\nfreq               5904\nName: source, dtype: object"
     },
     "execution_count": 113,
     "metadata": {},
     "output_type": "execute_result"
    }
   ],
   "source": [
    "df['source'].describe()"
   ],
   "metadata": {
    "collapsed": false
   }
  },
  {
   "cell_type": "code",
   "execution_count": 114,
   "outputs": [],
   "source": [
    "impute_s = SimpleImputer(missing_values= np.nan, strategy='most_frequent')\n",
    "impute_s.fit(df.iloc[:,16:17])\n",
    "df.iloc[:,16:17] = impute_s.transform(df.iloc[:,16:17])"
   ],
   "metadata": {
    "collapsed": false
   }
  },
  {
   "cell_type": "code",
   "execution_count": 115,
   "outputs": [
    {
     "data": {
      "text/plain": "0"
     },
     "execution_count": 115,
     "metadata": {},
     "output_type": "execute_result"
    }
   ],
   "source": [
    "df['source'].isnull().sum()"
   ],
   "metadata": {
    "collapsed": false
   }
  },
  {
   "cell_type": "code",
   "execution_count": 116,
   "outputs": [
    {
     "data": {
      "text/plain": "id                     0\ncar_name               0\nyr_mfr                 0\nfuel_type              0\nkms_run                0\nsale_price             0\ncity                   0\ntimes_viewed           0\nbody_type              0\ntransmission           0\nvariant                0\nassured_buy            0\nregistered_city        8\nregistered_state       8\nis_hot                 0\nrto                    0\nsource                 0\nmake                   0\nmodel                  0\ncar_availability       0\ntotal_owners           0\nbroker_quote           0\noriginal_price         0\ncar_rating             7\nad_created_on          1\nfitness_certificate    8\nemi_starts_from        0\nbooking_down_pymnt     0\nreserved               0\nwarranty_avail         0\ndtype: int64"
     },
     "execution_count": 116,
     "metadata": {},
     "output_type": "execute_result"
    }
   ],
   "source": [
    "df.isnull().sum()"
   ],
   "metadata": {
    "collapsed": false
   }
  },
  {
   "cell_type": "markdown",
   "source": [
    "#### Null Value Handling of remaining columns with less null values done by dropping them\n",
    "registered_city       8\n",
    "registered_state      8\n",
    "car_rating            7\n",
    "ad_created_on        1\n",
    "fitness_certificate  8"
   ],
   "metadata": {
    "collapsed": false
   }
  },
  {
   "cell_type": "code",
   "execution_count": 117,
   "outputs": [],
   "source": [
    "df_nullProcessed = df.dropna()"
   ],
   "metadata": {
    "collapsed": false
   }
  },
  {
   "cell_type": "code",
   "execution_count": 119,
   "outputs": [
    {
     "data": {
      "text/plain": "id                     0\ncar_name               0\nyr_mfr                 0\nfuel_type              0\nkms_run                0\nsale_price             0\ncity                   0\ntimes_viewed           0\nbody_type              0\ntransmission           0\nvariant                0\nassured_buy            0\nregistered_city        0\nregistered_state       0\nis_hot                 0\nrto                    0\nsource                 0\nmake                   0\nmodel                  0\ncar_availability       0\ntotal_owners           0\nbroker_quote           0\noriginal_price         0\ncar_rating             0\nad_created_on          0\nfitness_certificate    0\nemi_starts_from        0\nbooking_down_pymnt     0\nreserved               0\nwarranty_avail         0\ndtype: int64"
     },
     "execution_count": 119,
     "metadata": {},
     "output_type": "execute_result"
    }
   ],
   "source": [
    "df_nullProcessed.isnull().sum()"
   ],
   "metadata": {
    "collapsed": false
   }
  },
  {
   "cell_type": "code",
   "execution_count": 122,
   "outputs": [
    {
     "data": {
      "text/plain": "hatchback       3876\nsedan           1256\nsuv              946\nluxury suv       169\nluxury sedan     135\nName: body_type, dtype: int64"
     },
     "execution_count": 122,
     "metadata": {},
     "output_type": "execute_result"
    }
   ],
   "source": [
    "df_nullProcessed['body_type'].value_counts()"
   ],
   "metadata": {
    "collapsed": false
   }
  },
  {
   "cell_type": "code",
   "execution_count": null,
   "outputs": [],
   "source": [
    "\n"
   ],
   "metadata": {
    "collapsed": false
   }
  }
 ],
 "metadata": {
  "kernelspec": {
   "display_name": "Python 3",
   "language": "python",
   "name": "python3"
  },
  "language_info": {
   "codemirror_mode": {
    "name": "ipython",
    "version": 2
   },
   "file_extension": ".py",
   "mimetype": "text/x-python",
   "name": "python",
   "nbconvert_exporter": "python",
   "pygments_lexer": "ipython2",
   "version": "2.7.6"
  }
 },
 "nbformat": 4,
 "nbformat_minor": 0
}
