{
 "cells": [
  {
   "cell_type": "code",
   "execution_count": 185,
   "metadata": {
    "collapsed": true
   },
   "outputs": [
    {
     "data": {
      "text/plain": "   Unnamed: 0  id           car_name  yr_mfr fuel_type  kms_run  sale_price  \\\n0           0   1       maruti swift    2015    petrol     8063      386399   \n1           1   2    maruti alto 800    2016    petrol    23104      265499   \n2           2   3  hyundai grand i10    2017    petrol    23402      477699   \n3           3   4       maruti swift    2013    diesel    39124      307999   \n4           4   5  hyundai grand i10    2015    petrol    22116      361499   \n\n    city  times_viewed  body_type  ... total_owners broker_quote  \\\n0  noida         18715  hatchback  ...            2       397677   \n1  noida          2676  hatchback  ...            1       272935   \n2  noida           609  hatchback  ...            1       469605   \n3  noida          6511  hatchback  ...            1       294262   \n4  noida          3225  hatchback  ...            1       360716   \n\n   original_price car_rating            ad_created_on  fitness_certificate  \\\n0   404177.000000      great  2021-04-04T07:09:18.583                 True   \n1   354313.000000      great  2021-03-22T14:07:32.833                 True   \n2   550750.603916      great  2021-03-20T05:36:31.311                 True   \n3   374326.000000      great  2021-01-21T12:59:19.299                 True   \n4   367216.000000      great  2021-04-01T13:33:40.733                 True   \n\n  emi_starts_from booking_down_pymnt reserved warranty_avail  \n0            8975              57960    False          False  \n1            6167              39825    False          False  \n2           11096              71655    False          False  \n3            7154              46200    False          False  \n4            8397              54225    False          False  \n\n[5 rows x 31 columns]",
      "text/html": "<div>\n<style scoped>\n    .dataframe tbody tr th:only-of-type {\n        vertical-align: middle;\n    }\n\n    .dataframe tbody tr th {\n        vertical-align: top;\n    }\n\n    .dataframe thead th {\n        text-align: right;\n    }\n</style>\n<table border=\"1\" class=\"dataframe\">\n  <thead>\n    <tr style=\"text-align: right;\">\n      <th></th>\n      <th>Unnamed: 0</th>\n      <th>id</th>\n      <th>car_name</th>\n      <th>yr_mfr</th>\n      <th>fuel_type</th>\n      <th>kms_run</th>\n      <th>sale_price</th>\n      <th>city</th>\n      <th>times_viewed</th>\n      <th>body_type</th>\n      <th>...</th>\n      <th>total_owners</th>\n      <th>broker_quote</th>\n      <th>original_price</th>\n      <th>car_rating</th>\n      <th>ad_created_on</th>\n      <th>fitness_certificate</th>\n      <th>emi_starts_from</th>\n      <th>booking_down_pymnt</th>\n      <th>reserved</th>\n      <th>warranty_avail</th>\n    </tr>\n  </thead>\n  <tbody>\n    <tr>\n      <th>0</th>\n      <td>0</td>\n      <td>1</td>\n      <td>maruti swift</td>\n      <td>2015</td>\n      <td>petrol</td>\n      <td>8063</td>\n      <td>386399</td>\n      <td>noida</td>\n      <td>18715</td>\n      <td>hatchback</td>\n      <td>...</td>\n      <td>2</td>\n      <td>397677</td>\n      <td>404177.000000</td>\n      <td>great</td>\n      <td>2021-04-04T07:09:18.583</td>\n      <td>True</td>\n      <td>8975</td>\n      <td>57960</td>\n      <td>False</td>\n      <td>False</td>\n    </tr>\n    <tr>\n      <th>1</th>\n      <td>1</td>\n      <td>2</td>\n      <td>maruti alto 800</td>\n      <td>2016</td>\n      <td>petrol</td>\n      <td>23104</td>\n      <td>265499</td>\n      <td>noida</td>\n      <td>2676</td>\n      <td>hatchback</td>\n      <td>...</td>\n      <td>1</td>\n      <td>272935</td>\n      <td>354313.000000</td>\n      <td>great</td>\n      <td>2021-03-22T14:07:32.833</td>\n      <td>True</td>\n      <td>6167</td>\n      <td>39825</td>\n      <td>False</td>\n      <td>False</td>\n    </tr>\n    <tr>\n      <th>2</th>\n      <td>2</td>\n      <td>3</td>\n      <td>hyundai grand i10</td>\n      <td>2017</td>\n      <td>petrol</td>\n      <td>23402</td>\n      <td>477699</td>\n      <td>noida</td>\n      <td>609</td>\n      <td>hatchback</td>\n      <td>...</td>\n      <td>1</td>\n      <td>469605</td>\n      <td>550750.603916</td>\n      <td>great</td>\n      <td>2021-03-20T05:36:31.311</td>\n      <td>True</td>\n      <td>11096</td>\n      <td>71655</td>\n      <td>False</td>\n      <td>False</td>\n    </tr>\n    <tr>\n      <th>3</th>\n      <td>3</td>\n      <td>4</td>\n      <td>maruti swift</td>\n      <td>2013</td>\n      <td>diesel</td>\n      <td>39124</td>\n      <td>307999</td>\n      <td>noida</td>\n      <td>6511</td>\n      <td>hatchback</td>\n      <td>...</td>\n      <td>1</td>\n      <td>294262</td>\n      <td>374326.000000</td>\n      <td>great</td>\n      <td>2021-01-21T12:59:19.299</td>\n      <td>True</td>\n      <td>7154</td>\n      <td>46200</td>\n      <td>False</td>\n      <td>False</td>\n    </tr>\n    <tr>\n      <th>4</th>\n      <td>4</td>\n      <td>5</td>\n      <td>hyundai grand i10</td>\n      <td>2015</td>\n      <td>petrol</td>\n      <td>22116</td>\n      <td>361499</td>\n      <td>noida</td>\n      <td>3225</td>\n      <td>hatchback</td>\n      <td>...</td>\n      <td>1</td>\n      <td>360716</td>\n      <td>367216.000000</td>\n      <td>great</td>\n      <td>2021-04-01T13:33:40.733</td>\n      <td>True</td>\n      <td>8397</td>\n      <td>54225</td>\n      <td>False</td>\n      <td>False</td>\n    </tr>\n  </tbody>\n</table>\n<p>5 rows × 31 columns</p>\n</div>"
     },
     "execution_count": 185,
     "metadata": {},
     "output_type": "execute_result"
    }
   ],
   "source": [
    "import pandas as pd\n",
    "df = pd.read_csv('cars_nullhandled.csv')\n",
    "df.head()"
   ]
  },
  {
   "cell_type": "code",
   "execution_count": 186,
   "outputs": [
    {
     "name": "stdout",
     "output_type": "stream",
     "text": [
      "<class 'pandas.core.frame.DataFrame'>\n",
      "RangeIndex: 6399 entries, 0 to 6398\n",
      "Data columns (total 31 columns):\n",
      " #   Column               Non-Null Count  Dtype  \n",
      "---  ------               --------------  -----  \n",
      " 0   Unnamed: 0           6399 non-null   int64  \n",
      " 1   id                   6399 non-null   int64  \n",
      " 2   car_name             6399 non-null   object \n",
      " 3   yr_mfr               6399 non-null   int64  \n",
      " 4   fuel_type            6399 non-null   object \n",
      " 5   kms_run              6399 non-null   int64  \n",
      " 6   sale_price           6399 non-null   int64  \n",
      " 7   city                 6399 non-null   object \n",
      " 8   times_viewed         6399 non-null   int64  \n",
      " 9   body_type            6399 non-null   object \n",
      " 10  transmission         6399 non-null   object \n",
      " 11  variant              6399 non-null   object \n",
      " 12  assured_buy          6399 non-null   bool   \n",
      " 13  registered_city      6391 non-null   object \n",
      " 14  registered_state     6391 non-null   object \n",
      " 15  is_hot               6399 non-null   bool   \n",
      " 16  rto                  6399 non-null   object \n",
      " 17  source               6399 non-null   object \n",
      " 18  make                 6399 non-null   object \n",
      " 19  model                6399 non-null   object \n",
      " 20  car_availability     6399 non-null   object \n",
      " 21  total_owners         6399 non-null   int64  \n",
      " 22  broker_quote         6399 non-null   int64  \n",
      " 23  original_price       6399 non-null   float64\n",
      " 24  car_rating           6392 non-null   object \n",
      " 25  ad_created_on        6398 non-null   object \n",
      " 26  fitness_certificate  6391 non-null   object \n",
      " 27  emi_starts_from      6399 non-null   int64  \n",
      " 28  booking_down_pymnt   6399 non-null   int64  \n",
      " 29  reserved             6399 non-null   bool   \n",
      " 30  warranty_avail       6399 non-null   bool   \n",
      "dtypes: bool(4), float64(1), int64(10), object(16)\n",
      "memory usage: 1.3+ MB\n"
     ]
    }
   ],
   "source": [
    "df.info()"
   ],
   "metadata": {
    "collapsed": false
   }
  },
  {
   "cell_type": "code",
   "execution_count": 187,
   "outputs": [
    {
     "data": {
      "text/plain": "['assured_buy', 'is_hot', 'reserved', 'warranty_avail']"
     },
     "execution_count": 187,
     "metadata": {},
     "output_type": "execute_result"
    }
   ],
   "source": [
    "bool_columns = list(df.select_dtypes(include='bool'))\n",
    "bool_columns"
   ],
   "metadata": {
    "collapsed": false
   }
  },
  {
   "cell_type": "code",
   "execution_count": 188,
   "outputs": [],
   "source": [
    "df['assured_buy'] = df['assured_buy'].astype(int)\n",
    "df['is_hot'] = df['is_hot'].astype(int)\n",
    "df['reserved'] = df['reserved'].astype(int)\n",
    "df['warranty_avail'] = df['warranty_avail'].astype(int)"
   ],
   "metadata": {
    "collapsed": false
   }
  },
  {
   "cell_type": "code",
   "execution_count": 189,
   "outputs": [
    {
     "data": {
      "text/plain": "[]"
     },
     "execution_count": 189,
     "metadata": {},
     "output_type": "execute_result"
    }
   ],
   "source": [
    "bool_columns = list(df.select_dtypes(include='bool'))\n",
    "bool_columns"
   ],
   "metadata": {
    "collapsed": false
   }
  },
  {
   "cell_type": "code",
   "execution_count": 190,
   "outputs": [
    {
     "name": "stdout",
     "output_type": "stream",
     "text": [
      "<class 'pandas.core.frame.DataFrame'>\n",
      "RangeIndex: 6399 entries, 0 to 6398\n",
      "Data columns (total 31 columns):\n",
      " #   Column               Non-Null Count  Dtype  \n",
      "---  ------               --------------  -----  \n",
      " 0   Unnamed: 0           6399 non-null   int64  \n",
      " 1   id                   6399 non-null   int64  \n",
      " 2   car_name             6399 non-null   object \n",
      " 3   yr_mfr               6399 non-null   int64  \n",
      " 4   fuel_type            6399 non-null   object \n",
      " 5   kms_run              6399 non-null   int64  \n",
      " 6   sale_price           6399 non-null   int64  \n",
      " 7   city                 6399 non-null   object \n",
      " 8   times_viewed         6399 non-null   int64  \n",
      " 9   body_type            6399 non-null   object \n",
      " 10  transmission         6399 non-null   object \n",
      " 11  variant              6399 non-null   object \n",
      " 12  assured_buy          6399 non-null   int64  \n",
      " 13  registered_city      6391 non-null   object \n",
      " 14  registered_state     6391 non-null   object \n",
      " 15  is_hot               6399 non-null   int64  \n",
      " 16  rto                  6399 non-null   object \n",
      " 17  source               6399 non-null   object \n",
      " 18  make                 6399 non-null   object \n",
      " 19  model                6399 non-null   object \n",
      " 20  car_availability     6399 non-null   object \n",
      " 21  total_owners         6399 non-null   int64  \n",
      " 22  broker_quote         6399 non-null   int64  \n",
      " 23  original_price       6399 non-null   float64\n",
      " 24  car_rating           6392 non-null   object \n",
      " 25  ad_created_on        6398 non-null   object \n",
      " 26  fitness_certificate  6391 non-null   object \n",
      " 27  emi_starts_from      6399 non-null   int64  \n",
      " 28  booking_down_pymnt   6399 non-null   int64  \n",
      " 29  reserved             6399 non-null   int64  \n",
      " 30  warranty_avail       6399 non-null   int64  \n",
      "dtypes: float64(1), int64(14), object(16)\n",
      "memory usage: 1.5+ MB\n"
     ]
    }
   ],
   "source": [
    "df.info()"
   ],
   "metadata": {
    "collapsed": false
   }
  },
  {
   "cell_type": "code",
   "execution_count": 191,
   "outputs": [
    {
     "data": {
      "text/plain": "['car_name',\n 'fuel_type',\n 'city',\n 'body_type',\n 'transmission',\n 'variant',\n 'registered_city',\n 'registered_state',\n 'rto',\n 'source',\n 'make',\n 'model',\n 'car_availability',\n 'car_rating',\n 'ad_created_on',\n 'fitness_certificate']"
     },
     "execution_count": 191,
     "metadata": {},
     "output_type": "execute_result"
    }
   ],
   "source": [
    "object = list(df.select_dtypes(include='object'))\n",
    "object"
   ],
   "metadata": {
    "collapsed": false
   }
  },
  {
   "cell_type": "code",
   "execution_count": 192,
   "outputs": [
    {
     "ename": "TypeError",
     "evalue": "cannot concatenate object of type '<class 'sklearn.preprocessing._encoders.OneHotEncoder'>'; only Series and DataFrame objs are valid",
     "output_type": "error",
     "traceback": [
      "\u001B[0;31m---------------------------------------------------------------------------\u001B[0m",
      "\u001B[0;31mTypeError\u001B[0m                                 Traceback (most recent call last)",
      "Input \u001B[0;32mIn [192]\u001B[0m, in \u001B[0;36m<cell line: 8>\u001B[0;34m()\u001B[0m\n\u001B[1;32m      6\u001B[0m car_name_encoded \u001B[38;5;241m=\u001B[39m pd\u001B[38;5;241m.\u001B[39mDataFrame(res_car_name, index\u001B[38;5;241m=\u001B[39mdf\u001B[38;5;241m.\u001B[39mindex,columns\u001B[38;5;241m=\u001B[39mcar_name\u001B[38;5;241m.\u001B[39mcategories_)\n\u001B[1;32m      7\u001B[0m car_name_encoded\n\u001B[0;32m----> 8\u001B[0m df \u001B[38;5;241m=\u001B[39m \u001B[43mpd\u001B[49m\u001B[38;5;241;43m.\u001B[39;49m\u001B[43mconcat\u001B[49m\u001B[43m(\u001B[49m\u001B[43m[\u001B[49m\u001B[43mcar_name\u001B[49m\u001B[43m,\u001B[49m\u001B[43mdf\u001B[49m\u001B[43m]\u001B[49m\u001B[43m,\u001B[49m\u001B[43m \u001B[49m\u001B[43maxis\u001B[49m\u001B[38;5;241;43m=\u001B[39;49m\u001B[38;5;241;43m1\u001B[39;49m\u001B[43m)\u001B[49m\n",
      "File \u001B[0;32m/opt/anaconda3/lib/python3.9/site-packages/pandas/util/_decorators.py:311\u001B[0m, in \u001B[0;36mdeprecate_nonkeyword_arguments.<locals>.decorate.<locals>.wrapper\u001B[0;34m(*args, **kwargs)\u001B[0m\n\u001B[1;32m    305\u001B[0m \u001B[38;5;28;01mif\u001B[39;00m \u001B[38;5;28mlen\u001B[39m(args) \u001B[38;5;241m>\u001B[39m num_allow_args:\n\u001B[1;32m    306\u001B[0m     warnings\u001B[38;5;241m.\u001B[39mwarn(\n\u001B[1;32m    307\u001B[0m         msg\u001B[38;5;241m.\u001B[39mformat(arguments\u001B[38;5;241m=\u001B[39marguments),\n\u001B[1;32m    308\u001B[0m         \u001B[38;5;167;01mFutureWarning\u001B[39;00m,\n\u001B[1;32m    309\u001B[0m         stacklevel\u001B[38;5;241m=\u001B[39mstacklevel,\n\u001B[1;32m    310\u001B[0m     )\n\u001B[0;32m--> 311\u001B[0m \u001B[38;5;28;01mreturn\u001B[39;00m \u001B[43mfunc\u001B[49m\u001B[43m(\u001B[49m\u001B[38;5;241;43m*\u001B[39;49m\u001B[43margs\u001B[49m\u001B[43m,\u001B[49m\u001B[43m \u001B[49m\u001B[38;5;241;43m*\u001B[39;49m\u001B[38;5;241;43m*\u001B[39;49m\u001B[43mkwargs\u001B[49m\u001B[43m)\u001B[49m\n",
      "File \u001B[0;32m/opt/anaconda3/lib/python3.9/site-packages/pandas/core/reshape/concat.py:347\u001B[0m, in \u001B[0;36mconcat\u001B[0;34m(objs, axis, join, ignore_index, keys, levels, names, verify_integrity, sort, copy)\u001B[0m\n\u001B[1;32m    143\u001B[0m \u001B[38;5;129m@deprecate_nonkeyword_arguments\u001B[39m(version\u001B[38;5;241m=\u001B[39m\u001B[38;5;28;01mNone\u001B[39;00m, allowed_args\u001B[38;5;241m=\u001B[39m[\u001B[38;5;124m\"\u001B[39m\u001B[38;5;124mobjs\u001B[39m\u001B[38;5;124m\"\u001B[39m])\n\u001B[1;32m    144\u001B[0m \u001B[38;5;28;01mdef\u001B[39;00m \u001B[38;5;21mconcat\u001B[39m(\n\u001B[1;32m    145\u001B[0m     objs: Iterable[NDFrame] \u001B[38;5;241m|\u001B[39m Mapping[Hashable, NDFrame],\n\u001B[0;32m   (...)\u001B[0m\n\u001B[1;32m    154\u001B[0m     copy: \u001B[38;5;28mbool\u001B[39m \u001B[38;5;241m=\u001B[39m \u001B[38;5;28;01mTrue\u001B[39;00m,\n\u001B[1;32m    155\u001B[0m ) \u001B[38;5;241m-\u001B[39m\u001B[38;5;241m>\u001B[39m DataFrame \u001B[38;5;241m|\u001B[39m Series:\n\u001B[1;32m    156\u001B[0m     \u001B[38;5;124;03m\"\"\"\u001B[39;00m\n\u001B[1;32m    157\u001B[0m \u001B[38;5;124;03m    Concatenate pandas objects along a particular axis with optional set logic\u001B[39;00m\n\u001B[1;32m    158\u001B[0m \u001B[38;5;124;03m    along the other axes.\u001B[39;00m\n\u001B[0;32m   (...)\u001B[0m\n\u001B[1;32m    345\u001B[0m \u001B[38;5;124;03m    ValueError: Indexes have overlapping values: ['a']\u001B[39;00m\n\u001B[1;32m    346\u001B[0m \u001B[38;5;124;03m    \"\"\"\u001B[39;00m\n\u001B[0;32m--> 347\u001B[0m     op \u001B[38;5;241m=\u001B[39m \u001B[43m_Concatenator\u001B[49m\u001B[43m(\u001B[49m\n\u001B[1;32m    348\u001B[0m \u001B[43m        \u001B[49m\u001B[43mobjs\u001B[49m\u001B[43m,\u001B[49m\n\u001B[1;32m    349\u001B[0m \u001B[43m        \u001B[49m\u001B[43maxis\u001B[49m\u001B[38;5;241;43m=\u001B[39;49m\u001B[43maxis\u001B[49m\u001B[43m,\u001B[49m\n\u001B[1;32m    350\u001B[0m \u001B[43m        \u001B[49m\u001B[43mignore_index\u001B[49m\u001B[38;5;241;43m=\u001B[39;49m\u001B[43mignore_index\u001B[49m\u001B[43m,\u001B[49m\n\u001B[1;32m    351\u001B[0m \u001B[43m        \u001B[49m\u001B[43mjoin\u001B[49m\u001B[38;5;241;43m=\u001B[39;49m\u001B[43mjoin\u001B[49m\u001B[43m,\u001B[49m\n\u001B[1;32m    352\u001B[0m \u001B[43m        \u001B[49m\u001B[43mkeys\u001B[49m\u001B[38;5;241;43m=\u001B[39;49m\u001B[43mkeys\u001B[49m\u001B[43m,\u001B[49m\n\u001B[1;32m    353\u001B[0m \u001B[43m        \u001B[49m\u001B[43mlevels\u001B[49m\u001B[38;5;241;43m=\u001B[39;49m\u001B[43mlevels\u001B[49m\u001B[43m,\u001B[49m\n\u001B[1;32m    354\u001B[0m \u001B[43m        \u001B[49m\u001B[43mnames\u001B[49m\u001B[38;5;241;43m=\u001B[39;49m\u001B[43mnames\u001B[49m\u001B[43m,\u001B[49m\n\u001B[1;32m    355\u001B[0m \u001B[43m        \u001B[49m\u001B[43mverify_integrity\u001B[49m\u001B[38;5;241;43m=\u001B[39;49m\u001B[43mverify_integrity\u001B[49m\u001B[43m,\u001B[49m\n\u001B[1;32m    356\u001B[0m \u001B[43m        \u001B[49m\u001B[43mcopy\u001B[49m\u001B[38;5;241;43m=\u001B[39;49m\u001B[43mcopy\u001B[49m\u001B[43m,\u001B[49m\n\u001B[1;32m    357\u001B[0m \u001B[43m        \u001B[49m\u001B[43msort\u001B[49m\u001B[38;5;241;43m=\u001B[39;49m\u001B[43msort\u001B[49m\u001B[43m,\u001B[49m\n\u001B[1;32m    358\u001B[0m \u001B[43m    \u001B[49m\u001B[43m)\u001B[49m\n\u001B[1;32m    360\u001B[0m     \u001B[38;5;28;01mreturn\u001B[39;00m op\u001B[38;5;241m.\u001B[39mget_result()\n",
      "File \u001B[0;32m/opt/anaconda3/lib/python3.9/site-packages/pandas/core/reshape/concat.py:437\u001B[0m, in \u001B[0;36m_Concatenator.__init__\u001B[0;34m(self, objs, axis, join, keys, levels, names, ignore_index, verify_integrity, copy, sort)\u001B[0m\n\u001B[1;32m    432\u001B[0m     \u001B[38;5;28;01mif\u001B[39;00m \u001B[38;5;129;01mnot\u001B[39;00m \u001B[38;5;28misinstance\u001B[39m(obj, (ABCSeries, ABCDataFrame)):\n\u001B[1;32m    433\u001B[0m         msg \u001B[38;5;241m=\u001B[39m (\n\u001B[1;32m    434\u001B[0m             \u001B[38;5;124mf\u001B[39m\u001B[38;5;124m\"\u001B[39m\u001B[38;5;124mcannot concatenate object of type \u001B[39m\u001B[38;5;124m'\u001B[39m\u001B[38;5;132;01m{\u001B[39;00m\u001B[38;5;28mtype\u001B[39m(obj)\u001B[38;5;132;01m}\u001B[39;00m\u001B[38;5;124m'\u001B[39m\u001B[38;5;124m; \u001B[39m\u001B[38;5;124m\"\u001B[39m\n\u001B[1;32m    435\u001B[0m             \u001B[38;5;124m\"\u001B[39m\u001B[38;5;124monly Series and DataFrame objs are valid\u001B[39m\u001B[38;5;124m\"\u001B[39m\n\u001B[1;32m    436\u001B[0m         )\n\u001B[0;32m--> 437\u001B[0m         \u001B[38;5;28;01mraise\u001B[39;00m \u001B[38;5;167;01mTypeError\u001B[39;00m(msg)\n\u001B[1;32m    439\u001B[0m     ndims\u001B[38;5;241m.\u001B[39madd(obj\u001B[38;5;241m.\u001B[39mndim)\n\u001B[1;32m    441\u001B[0m \u001B[38;5;66;03m# get the sample\u001B[39;00m\n\u001B[1;32m    442\u001B[0m \u001B[38;5;66;03m# want the highest ndim that we have, and must be non-empty\u001B[39;00m\n\u001B[1;32m    443\u001B[0m \u001B[38;5;66;03m# unless all objs are empty\u001B[39;00m\n",
      "\u001B[0;31mTypeError\u001B[0m: cannot concatenate object of type '<class 'sklearn.preprocessing._encoders.OneHotEncoder'>'; only Series and DataFrame objs are valid"
     ]
    }
   ],
   "source": [
    "# # \"One-Hot-Encoding\" method implemented for 'car_name' column\n",
    "# from sklearn.preprocessing import OneHotEncoder\n",
    "# car_name = OneHotEncoder(sparse=False)\n",
    "# res_car_name = car_name.fit_transform(df[[\"car_name\"]])\n",
    "# res_car_name\n",
    "# car_name_encoded = pd.DataFrame(res_car_name, index=df.index,columns=car_name.categories_)\n",
    "# car_name_encoded\n",
    "# df = pd.concat([car_name,df], axis=1)"
   ],
   "metadata": {
    "collapsed": false
   }
  },
  {
   "cell_type": "code",
   "execution_count": null,
   "outputs": [],
   "source": [
    "# \"One-Hot-Encoding\" method implemented for 'fuel_type' column\n",
    "from sklearn.preprocessing import OneHotEncoder\n",
    "fuel = OneHotEncoder(sparse=False)\n",
    "res_fuel = fuel.fit_transform(df[[\"fuel_type\"]])\n",
    "res_fuel\n",
    "fuel_encoded = pd.DataFrame(res_fuel, index=df.index,columns=fuel.categories_)\n",
    "fuel_encoded\n",
    "df = pd.concat([fuel_encoded,df], axis=1)"
   ],
   "metadata": {
    "collapsed": false
   }
  },
  {
   "cell_type": "code",
   "execution_count": null,
   "outputs": [],
   "source": [
    "# \"One-Hot-Encoding\" method implemented for 'transmission' column\n",
    "transmission = OneHotEncoder(sparse=False)\n",
    "res_transmission = transmission.fit_transform(df[[\"transmission\"]])\n",
    "res_transmission\n",
    "transmission_encoded = pd.DataFrame(res_transmission, index=df.index,columns=transmission.categories_)\n",
    "transmission_encoded\n",
    "df = pd.concat([transmission_encoded,df], axis=1)"
   ],
   "metadata": {
    "collapsed": false
   }
  },
  {
   "cell_type": "code",
   "execution_count": null,
   "outputs": [],
   "source": [
    "# One hot encoding for the 'body_type' column\n",
    "bodytype = OneHotEncoder(sparse=False)\n",
    "res_bodytype = bodytype.fit_transform(df[[\"body_type\"]])\n",
    "res_bodytype\n",
    "bodytype_encoded = pd.DataFrame(res_bodytype, index=df.index,columns=bodytype.categories_)\n",
    "bodytype_encoded\n",
    "df = pd.concat([bodytype_encoded,df], axis=1)"
   ],
   "metadata": {
    "collapsed": false
   }
  },
  {
   "cell_type": "code",
   "execution_count": null,
   "outputs": [],
   "source": [
    "registeredcity = OneHotEncoder(sparse=False)\n",
    "res_registeredcity = registeredcity.fit_transform(df[[\"registered_city\"]])\n",
    "res_registeredcity\n",
    "registeredcity_encoded = pd.DataFrame(res_registeredcity, index=df.index,columns=registeredcity.categories_)\n",
    "registeredcity_encoded\n",
    "df = pd.concat([registeredcity_encoded,df], axis=1)"
   ],
   "metadata": {
    "collapsed": false
   }
  },
  {
   "cell_type": "code",
   "execution_count": null,
   "outputs": [],
   "source": [
    "rto = OneHotEncoder(sparse=False)\n",
    "res_rto = rto.fit_transform(df[[\"rto\"]])\n",
    "res_rto\n",
    "rto_encoded = pd.DataFrame(res_rto, index=df.index,columns=rto.categories_)\n",
    "rto_encoded\n",
    "df = pd.concat([rto_encoded,df], axis=1)"
   ],
   "metadata": {
    "collapsed": false
   }
  },
  {
   "cell_type": "code",
   "execution_count": null,
   "outputs": [],
   "source": [
    "source = OneHotEncoder(sparse=False)\n",
    "res_source = source.fit_transform(df[[\"source\"]])\n",
    "res_source\n",
    "source_encoded = pd.DataFrame(res_source, index=df.index,columns=source.categories_)\n",
    "source_encoded\n",
    "df = pd.concat([source_encoded,df], axis=1)"
   ],
   "metadata": {
    "collapsed": false
   }
  },
  {
   "cell_type": "code",
   "execution_count": null,
   "outputs": [],
   "source": [
    "make = OneHotEncoder(sparse=False)\n",
    "res_make = make.fit_transform(df[[\"make\"]])\n",
    "res_make\n",
    "make_encoded = pd.DataFrame(res_make, index=df.index,columns=make.categories_)\n",
    "make_encoded\n",
    "df = pd.concat([make_encoded,df], axis=1)"
   ],
   "metadata": {
    "collapsed": false
   }
  },
  {
   "cell_type": "code",
   "execution_count": null,
   "outputs": [],
   "source": [
    "carrating = OneHotEncoder(sparse=False)\n",
    "res_carrating = carrating.fit_transform(df[[\"car_rating\"]])\n",
    "res_carrating\n",
    "carrating_encoded = pd.DataFrame(res_carrating, index=df.index,columns=carrating.categories_)\n",
    "carrating_encoded\n",
    "df = pd.concat([carrating_encoded,df], axis=1)"
   ],
   "metadata": {
    "collapsed": false
   }
  },
  {
   "cell_type": "code",
   "execution_count": null,
   "outputs": [],
   "source": [
    "carname = OneHotEncoder(sparse=False)\n",
    "res_carname = carname.fit_transform(df[[\"car_name\"]])\n",
    "res_carname\n",
    "carname_encoded = pd.DataFrame(res_carname, index=df.index,columns=carname.categories_)\n",
    "carname_encoded\n",
    "df = pd.concat([carname_encoded,df], axis=1)"
   ],
   "metadata": {
    "collapsed": false
   }
  },
  {
   "cell_type": "code",
   "execution_count": null,
   "outputs": [],
   "source": [
    "variant = OneHotEncoder(sparse=False)\n",
    "res_variant = variant.fit_transform(df[[\"variant\"]])\n",
    "res_variant\n",
    "variant_encoded = pd.DataFrame(res_variant, index=df.index,columns=variant.categories_)\n",
    "variant_encoded\n",
    "df = pd.concat([variant_encoded,df], axis=1)"
   ],
   "metadata": {
    "collapsed": false
   }
  },
  {
   "cell_type": "code",
   "execution_count": null,
   "outputs": [],
   "source": [
    "city = OneHotEncoder(sparse=False)\n",
    "res_city = city.fit_transform(df[[\"city\"]])\n",
    "res_city\n",
    "city_encoded = pd.DataFrame(res_city, index=df.index,columns=city.categories_)\n",
    "city_encoded\n",
    "df = pd.concat([city_encoded,df], axis=1)"
   ],
   "metadata": {
    "collapsed": false
   }
  },
  {
   "cell_type": "code",
   "execution_count": null,
   "outputs": [],
   "source": [
    "df['car_name']"
   ],
   "metadata": {
    "collapsed": false
   }
  },
  {
   "cell_type": "code",
   "execution_count": null,
   "outputs": [],
   "source": [
    "object = list(df.select_dtypes(include='object'))\n",
    "object"
   ],
   "metadata": {
    "collapsed": false
   }
  },
  {
   "cell_type": "code",
   "execution_count": null,
   "outputs": [],
   "source": [
    "df = df.drop(columns=['car_name','fuel_type','city','body_type','transmission','variant','registered_city','registered_state','rto','source','make','model','car_availability','car_rating','ad_created_on','fitness_certificate'],axis=1)"
   ],
   "metadata": {
    "collapsed": false
   }
  },
  {
   "cell_type": "code",
   "execution_count": null,
   "outputs": [],
   "source": [
    "X = df\n",
    "X = X.drop(['sale_price'],axis=1)"
   ],
   "metadata": {
    "collapsed": false
   }
  },
  {
   "cell_type": "code",
   "execution_count": null,
   "outputs": [],
   "source": [
    "X.shape"
   ],
   "metadata": {
    "collapsed": false
   }
  },
  {
   "cell_type": "code",
   "execution_count": null,
   "outputs": [],
   "source": [
    "Y = df.loc[:,'sale_price']\n",
    "Y.shape"
   ],
   "metadata": {
    "collapsed": false
   }
  },
  {
   "cell_type": "markdown",
   "source": [
    "****************************************************************************************************************"
   ],
   "metadata": {
    "collapsed": false
   }
  },
  {
   "cell_type": "markdown",
   "source": [
    "Models\n",
    "1 A)Linear Regression"
   ],
   "metadata": {
    "collapsed": false
   }
  },
  {
   "cell_type": "code",
   "execution_count": null,
   "outputs": [],
   "source": [
    "from sklearn.model_selection import train_test_split\n",
    "x_train,x_test,y_train,y_test = train_test_split(X,Y,test_size = 0.3,random_state=52)"
   ],
   "metadata": {
    "collapsed": false
   }
  },
  {
   "cell_type": "code",
   "execution_count": null,
   "outputs": [],
   "source": [
    "print(x_train.shape)\n",
    "print(x_test.shape)"
   ],
   "metadata": {
    "collapsed": false
   }
  },
  {
   "cell_type": "code",
   "execution_count": null,
   "outputs": [],
   "source": [
    "from sklearn.linear_model import LinearRegression\n",
    "model = LinearRegression()\n",
    "model.fit(x_train,y_train)\n",
    "pred = model.predict(x_test)"
   ],
   "metadata": {
    "collapsed": false
   }
  },
  {
   "cell_type": "code",
   "execution_count": null,
   "outputs": [],
   "source": [
    "from sklearn.metrics import r2_score\n",
    "from sklearn.metrics import mean_absolute_error\n",
    "from sklearn.metrics import mean_squared_error\n",
    "import numpy as np\n",
    "from sklearn.model_selection import cross_val_score\n",
    "r2 = r2_score(y_test,pred)\n",
    "print(\"R2 score: \",np.round(r2,3))\n",
    "n=5790 # n = number of observations (rows)\n",
    "k= 1419# k = number of dimensions (independent variables)\n",
    "adj_r2_score = 1 - ((1-r2)*(n-1)/(n-k-1))\n",
    "print(\"Adjusted R2_score: \",np.round(adj_r2_score,3))\n",
    "print(\"MAE: \",np.round(mean_absolute_error(y_test,pred),3))\n",
    "print(\"MSE: \",np.round(mean_squared_error(y_test,pred),3))\n",
    "mse = mean_squared_error(y_test,pred)\n",
    "rmse = np.sqrt(mse)\n",
    "print(\"RMSE: \", np.round(rmse, 3))\n",
    "#scores = cross_val_score(model,x_train,y_train,cv=10,scoring='neg_mean_squared_error')\n",
    "#avg_score = np.mean(-scores)\n",
    "#print(\"Average score using cross validation: \",avg_score)"
   ],
   "metadata": {
    "collapsed": false
   }
  },
  {
   "cell_type": "markdown",
   "source": [
    "1 B) Linear Regression with Standardization"
   ],
   "metadata": {
    "collapsed": false
   }
  },
  {
   "cell_type": "code",
   "execution_count": null,
   "outputs": [],
   "source": [
    "x_train,x_test,y_train,y_test = train_test_split(X,Y,test_size = 0.3,random_state=52)"
   ],
   "metadata": {
    "collapsed": false
   }
  },
  {
   "cell_type": "code",
   "execution_count": null,
   "outputs": [],
   "source": [
    "from sklearn.preprocessing import StandardScaler\n",
    "scale= StandardScaler()\n",
    "x_train_linear = scale.fit_transform(x_train)\n",
    "x_test_linear = scale.transform(x_test)"
   ],
   "metadata": {
    "collapsed": false
   }
  },
  {
   "cell_type": "code",
   "execution_count": null,
   "outputs": [],
   "source": [
    "model_01 = LinearRegression()\n",
    "model_01.fit(x_train_linear,y_train)\n",
    "reg_pred = model_01.predict(x_test_linear)"
   ],
   "metadata": {
    "collapsed": false
   }
  },
  {
   "cell_type": "code",
   "execution_count": null,
   "outputs": [],
   "source": [
    "r2 = r2_score(y_test,reg_pred)\n",
    "print(\"R2 score: \",np.round(r2,3))\n",
    "n=5790 # n = number of observations (rows)\n",
    "k=1419 # k = number of dimensions (independent variables)\n",
    "adj_r2_score = 1 - ((1-r2)*(n-1)/(n-k-1))\n",
    "print(\"Adjusted R2_score: \",np.round(adj_r2_score,3))\n",
    "print(\"MAE: \",np.round(mean_absolute_error(y_test,reg_pred),3))\n",
    "print(\"MSE: \",np.round(mean_squared_error(y_test,reg_pred),3))\n",
    "mse = mean_squared_error(y_test,reg_pred)\n",
    "rmse = np.sqrt(mse)\n",
    "print(\"RMSE: \", np.round(rmse, 3))\n",
    "#scores = cross_val_score(model01,x_train,y_train,cv=10,scoring='neg_mean_squared_error')\n",
    "#avg_score = np.mean(-scores)\n",
    "#print(\"Average score using cross validation: \",avg_score)"
   ],
   "metadata": {
    "collapsed": false
   }
  },
  {
   "cell_type": "markdown",
   "source": [
    "1 C) Linear Regression with PCA"
   ],
   "metadata": {
    "collapsed": false
   }
  },
  {
   "cell_type": "code",
   "execution_count": null,
   "outputs": [],
   "source": [
    "x_train,x_test,y_train,y_test = train_test_split(X,Y,test_size = 0.3,random_state=52)"
   ],
   "metadata": {
    "collapsed": false
   }
  },
  {
   "cell_type": "code",
   "execution_count": null,
   "outputs": [],
   "source": [
    "scale= StandardScaler()\n",
    "x_train_linear = scale.fit_transform(x_train)\n",
    "x_test_linear = scale.transform(x_test)"
   ],
   "metadata": {
    "collapsed": false
   }
  },
  {
   "cell_type": "code",
   "execution_count": null,
   "outputs": [],
   "source": [
    "from sklearn.decomposition import PCA\n",
    "pca = PCA(n_components = 5)\n",
    "pca_train = pca.fit_transform(x_train_linear)\n",
    "pca_test = pca.transform(x_test_linear)"
   ],
   "metadata": {
    "collapsed": false
   }
  },
  {
   "cell_type": "code",
   "execution_count": null,
   "outputs": [],
   "source": [
    "model_01 = LinearRegression()\n",
    "model_01.fit(pca_train,y_train)\n",
    "reg_pred = model_01.predict(pca_test)"
   ],
   "metadata": {
    "collapsed": false
   }
  },
  {
   "cell_type": "code",
   "execution_count": null,
   "outputs": [],
   "source": [
    "r2 = r2_score(y_test,reg_pred)\n",
    "print(\"R2 score: \",np.round(r2,3))\n",
    "n=5790 # n = number of observations (rows)\n",
    "k=1419 # k = number of dimensions (independent variables)\n",
    "adj_r2_score = 1 - ((1-r2)*(n-1)/(n-k-1))\n",
    "print(\"Adjusted R2_score: \",np.round(adj_r2_score,3))\n",
    "print(\"MAE: \",np.round(mean_absolute_error(y_test,reg_pred),3))\n",
    "print(\"MSE: \",np.round(mean_squared_error(y_test,reg_pred),3))\n",
    "mse = mean_squared_error(y_test,reg_pred)\n",
    "rmse = np.sqrt(mse)\n",
    "print(\"RMSE: \", np.round(rmse, 3))"
   ],
   "metadata": {
    "collapsed": false
   }
  },
  {
   "cell_type": "markdown",
   "source": [
    "2 A) SVR"
   ],
   "metadata": {
    "collapsed": false
   }
  },
  {
   "cell_type": "code",
   "execution_count": null,
   "outputs": [],
   "source": [
    "x_train,x_test,y_train,y_test = train_test_split(X,Y,random_state=52,test_size=0.4)"
   ],
   "metadata": {
    "collapsed": false
   }
  },
  {
   "cell_type": "code",
   "execution_count": null,
   "outputs": [],
   "source": [
    "x_train_svr = scale.fit_transform(x_train)\n",
    "x_test_svr = scale.transform(x_test)"
   ],
   "metadata": {
    "collapsed": false
   }
  },
  {
   "cell_type": "code",
   "execution_count": null,
   "outputs": [],
   "source": [
    "from sklearn.svm import SVR\n",
    "regressor = SVR()\n",
    "regressor.fit(x_train_svr, y_train)\n",
    "svr_pred = regressor.predict(x_test_svr)"
   ],
   "metadata": {
    "collapsed": false
   }
  },
  {
   "cell_type": "code",
   "execution_count": null,
   "outputs": [],
   "source": [
    "r2 = r2_score(y_test,svr_pred)\n",
    "print(\"R2 score: \",r2)\n",
    "n=5790 # n = number of observations (rows)\n",
    "k=1419 # k = number of dimensions (independent variables)\n",
    "adj_r2_score = 1 - ((1-r2)*(n-1)/(n-k-1))\n",
    "print(\"Adjusted R2_score: \",adj_r2_score)\n",
    "print(\"MAE: \",mean_absolute_error(y_test,svr_pred))\n",
    "print(\"MSE: \",mean_squared_error(y_test,svr_pred))\n",
    "mse = mean_squared_error(y_test,svr_pred)\n",
    "rmse = np.sqrt(mse)\n",
    "print(\"RMSE: \", np.round(rmse, 2))\n",
    "#scores = cross_val_score(model,X,Y,scoring=\"neg_mean_squared_error\",cv=5, n_jobs=1)\n",
    "#rmse = np.sqrt(-scores)\n",
    "#print(\"RMSE values: \", np.round(rmse, 2))\n",
    "#print(\"RMSE average: \", np.mean(rmse))"
   ],
   "metadata": {
    "collapsed": false
   }
  },
  {
   "cell_type": "markdown",
   "source": [
    "3 A) Random Forest"
   ],
   "metadata": {
    "collapsed": false
   }
  },
  {
   "cell_type": "code",
   "execution_count": null,
   "outputs": [],
   "source": [
    "x_train,x_test,y_train,y_test = train_test_split(X,Y,random_state=52,test_size=0.2)"
   ],
   "metadata": {
    "collapsed": false
   }
  },
  {
   "cell_type": "code",
   "execution_count": null,
   "outputs": [],
   "source": [
    "from sklearn.ensemble import RandomForestRegressor\n",
    "rf = RandomForestRegressor()\n",
    "rf.fit(x_train,y_train)\n",
    "rfr_pred = rf.predict(x_test)"
   ],
   "metadata": {
    "collapsed": false
   }
  },
  {
   "cell_type": "code",
   "execution_count": null,
   "outputs": [],
   "source": [
    "r2 = r2_score(y_test,rfr_pred)\n",
    "print(\"R2 score: \",np.round(r2,3))\n",
    "n=5790 # n = number of observations (rows)\n",
    "k=1419 # k = number of dimensions (independent variables)\n",
    "adj_r2_score = 1 - ((1-r2)*(n-1)/(n-k-1))\n",
    "print(\"Adjusted R2_score: \",np.round(adj_r2_score,3))\n",
    "print(\"MAE: \",np.round(mean_absolute_error(y_test,rfr_pred),3))\n",
    "print(\"MSE: \",np.round(mean_squared_error(y_test,rfr_pred),3))\n",
    "mse = mean_squared_error(y_test,rfr_pred)\n",
    "rmse = np.sqrt(mse)\n",
    "print(\"RMSE: \", np.round(rmse, 3))"
   ],
   "metadata": {
    "collapsed": false
   }
  },
  {
   "cell_type": "markdown",
   "source": [
    "3 B) Random Forest With Standardization"
   ],
   "metadata": {
    "collapsed": false
   }
  },
  {
   "cell_type": "code",
   "execution_count": null,
   "outputs": [],
   "source": [
    "x_train_rf = scale.fit_transform(x_train)\n",
    "x_test_rf = scale.transform(x_test)"
   ],
   "metadata": {
    "collapsed": false
   }
  },
  {
   "cell_type": "code",
   "execution_count": null,
   "outputs": [],
   "source": [
    "from sklearn.ensemble import RandomForestRegressor\n",
    "rf = RandomForestRegressor()\n",
    "rf.fit(x_train_rf,y_train)\n",
    "rfr_pred = rf.predict(x_test_rf)"
   ],
   "metadata": {
    "collapsed": false
   }
  },
  {
   "cell_type": "code",
   "execution_count": null,
   "outputs": [],
   "source": [
    "r2 = r2_score(y_test,rfr_pred)\n",
    "print(\"R2 score: \",np.round(r2,3))\n",
    "n=5790 # n = number of observations (rows)\n",
    "k=1419 # k = number of dimensions (independent variables)\n",
    "adj_r2_score = 1 - ((1-r2)*(n-1)/(n-k-1))\n",
    "print(\"Adjusted R2_score: \",np.round(adj_r2_score,3))\n",
    "print(\"MAE: \",np.round(mean_absolute_error(y_test,rfr_pred),3))\n",
    "print(\"MSE: \",np.round(mean_squared_error(y_test,rfr_pred),3))\n",
    "mse = mean_squared_error(y_test,rfr_pred)\n",
    "rmse = np.sqrt(mse)\n",
    "print(\"RMSE: \", np.round(rmse, 3))\n",
    "#scores = cross_val_score(rf,x_train,y_train,cv=10,scoring='neg_mean_squared_error')\n",
    "#avg_score = np.mean(-scores)\n",
    "#print(\"Average score using cross validation: \",avg_score)"
   ],
   "metadata": {
    "collapsed": false
   }
  },
  {
   "cell_type": "markdown",
   "source": [
    "3 C) Random Forest With PCA"
   ],
   "metadata": {
    "collapsed": false
   }
  },
  {
   "cell_type": "code",
   "execution_count": null,
   "outputs": [],
   "source": [
    "x_train,x_test,y_train,y_test = train_test_split(X,Y,random_state=52,test_size=0.2)"
   ],
   "metadata": {
    "collapsed": false
   }
  },
  {
   "cell_type": "code",
   "execution_count": null,
   "outputs": [],
   "source": [
    "x_train_rf = scale.fit_transform(x_train)\n",
    "x_test_rf = scale.transform(x_test)"
   ],
   "metadata": {
    "collapsed": false
   }
  },
  {
   "cell_type": "code",
   "execution_count": null,
   "outputs": [],
   "source": [
    "from sklearn.decomposition import PCA\n",
    "pca = PCA(n_components = 5)\n",
    "pca_train = pca.fit_transform(x_train_rf)\n",
    "pca_test = pca.transform(x_test_rf)"
   ],
   "metadata": {
    "collapsed": false
   }
  },
  {
   "cell_type": "code",
   "execution_count": null,
   "outputs": [],
   "source": [
    "rf = RandomForestRegressor()\n",
    "rf.fit(pca_train,y_train)\n",
    "rfr_pred = rf.predict(pca_test)"
   ],
   "metadata": {
    "collapsed": false
   }
  },
  {
   "cell_type": "code",
   "execution_count": null,
   "outputs": [],
   "source": [
    "r2 = r2_score(y_test,rfr_pred)\n",
    "print(\"R2 score: \",np.round(r2,3))\n",
    "n=5790 # n = number of observations (rows)\n",
    "k=1419 # k = number of dimensions (independent variables)\n",
    "adj_r2_score = 1 - ((1-r2)*(n-1)/(n-k-1))\n",
    "print(\"Adjusted R2_score: \",np.round(adj_r2_score,3))\n",
    "print(\"MAE: \",np.round(mean_absolute_error(y_test,rfr_pred),3))\n",
    "print(\"MSE: \",np.round(mean_squared_error(y_test,rfr_pred),3))\n",
    "mse = mean_squared_error(y_test,rfr_pred)\n",
    "rmse = np.sqrt(mse)\n",
    "print(\"RMSE: \", np.round(rmse, 3))"
   ],
   "metadata": {
    "collapsed": false
   }
  },
  {
   "cell_type": "markdown",
   "source": [
    "4 A) Decision Tree"
   ],
   "metadata": {
    "collapsed": false
   }
  },
  {
   "cell_type": "code",
   "execution_count": null,
   "outputs": [],
   "source": [
    "x_train,x_test,y_train,y_test = train_test_split(X,Y,random_state=52,train_size=0.8)"
   ],
   "metadata": {
    "collapsed": false
   }
  },
  {
   "cell_type": "code",
   "execution_count": null,
   "outputs": [],
   "source": [
    "from sklearn.tree import DecisionTreeRegressor\n",
    "decision = DecisionTreeRegressor()\n",
    "decision.fit(x_train, y_train)\n",
    "dtr_pred = decision.predict(x_test)"
   ],
   "metadata": {
    "collapsed": false
   }
  },
  {
   "cell_type": "code",
   "execution_count": null,
   "outputs": [],
   "source": [
    "r2 = r2_score(y_test,dtr_pred)\n",
    "print(\"R2 score: \",np.round(r2,3))\n",
    "n=5790 # n = number of observations (rows)\n",
    "k=1419 # k = number of dimensions (independent variables)\n",
    "adj_r2_score = 1 - ((1-r2)*(n-1)/(n-k-1))\n",
    "print(\"Adjusted R2_score: \",np.round(adj_r2_score,3))\n",
    "print(\"MAE: \",np.round(mean_absolute_error(y_test,dtr_pred),3))\n",
    "print(\"MSE: \",np.round(mean_squared_error(y_test,dtr_pred),3))\n",
    "mse = mean_squared_error(y_test,dtr_pred)\n",
    "rmse = np.sqrt(mse)\n",
    "print(\"RMSE: \", np.round(rmse, 3))\n",
    "#scores = cross_val_score(decision,x_train,y_train,cv=10,scoring='neg_mean_squared_error')\n",
    "#avg_score = np.mean(-scores)\n",
    "#print(\"Average score using cross validation: \",avg_score)"
   ],
   "metadata": {
    "collapsed": false
   }
  },
  {
   "cell_type": "markdown",
   "source": [
    "4 B) Decision Tree With Standardization"
   ],
   "metadata": {
    "collapsed": false
   }
  },
  {
   "cell_type": "code",
   "execution_count": null,
   "outputs": [],
   "source": [
    "x_train,x_test,y_train,y_test = train_test_split(X,Y,random_state=52,train_size=0.8)"
   ],
   "metadata": {
    "collapsed": false
   }
  },
  {
   "cell_type": "code",
   "execution_count": null,
   "outputs": [],
   "source": [
    "x_train_dt = scale.fit_transform(x_train)\n",
    "x_test_dt = scale.transform(x_test)"
   ],
   "metadata": {
    "collapsed": false
   }
  },
  {
   "cell_type": "code",
   "execution_count": null,
   "outputs": [],
   "source": [
    "decision = DecisionTreeRegressor()\n",
    "decision.fit(x_train_dt, y_train)\n",
    "dtr_pred = decision.predict(x_test_dt)"
   ],
   "metadata": {
    "collapsed": false
   }
  },
  {
   "cell_type": "code",
   "execution_count": null,
   "outputs": [],
   "source": [
    "r2 = r2_score(y_test,dtr_pred)\n",
    "print(\"R2 score: \",np.round(r2,3))\n",
    "n=5790 # n = number of observations (rows)\n",
    "k=1419 # k = number of dimensions (independent variables)\n",
    "adj_r2_score = 1 - ((1-r2)*(n-1)/(n-k-1))\n",
    "print(\"Adjusted R2_score: \",np.round(adj_r2_score,3))\n",
    "print(\"MAE: \",np.round(mean_absolute_error(y_test,dtr_pred),3))\n",
    "print(\"MSE: \",np.round(mean_squared_error(y_test,dtr_pred),3))\n",
    "mse = mean_squared_error(y_test,dtr_pred)\n",
    "rmse = np.sqrt(mse)\n",
    "print(\"RMSE: \", np.round(rmse, 3))"
   ],
   "metadata": {
    "collapsed": false
   }
  },
  {
   "cell_type": "markdown",
   "source": [
    "4 C) Decision Tree With PCA"
   ],
   "metadata": {
    "collapsed": false
   }
  },
  {
   "cell_type": "code",
   "execution_count": null,
   "outputs": [],
   "source": [
    "x_train,x_test,y_train,y_test = train_test_split(X,Y,random_state=52,train_size=0.8)"
   ],
   "metadata": {
    "collapsed": false
   }
  },
  {
   "cell_type": "code",
   "execution_count": null,
   "outputs": [],
   "source": [
    "x_train_dt = scale.fit_transform(x_train)\n",
    "x_test_dt = scale.transform(x_test)"
   ],
   "metadata": {
    "collapsed": false
   }
  },
  {
   "cell_type": "code",
   "execution_count": null,
   "outputs": [],
   "source": [
    "from sklearn.decomposition import PCA\n",
    "pca = PCA(n_components = 5)\n",
    "pca_train = pca.fit_transform(x_train_dt)\n",
    "pca_test = pca.transform(x_test_dt)"
   ],
   "metadata": {
    "collapsed": false
   }
  },
  {
   "cell_type": "code",
   "execution_count": null,
   "outputs": [],
   "source": [
    "decision = DecisionTreeRegressor()\n",
    "decision.fit(pca_train, y_train)\n",
    "dtr_pred = decision.predict(pca_test)"
   ],
   "metadata": {
    "collapsed": false
   }
  },
  {
   "cell_type": "code",
   "execution_count": null,
   "outputs": [],
   "source": [
    "r2 = r2_score(y_test,dtr_pred)\n",
    "print(\"R2 score: \",np.round(r2,3))\n",
    "n=5790 # n = number of observations (rows)\n",
    "k=1419 # k = number of dimensions (independent variables)\n",
    "adj_r2_score = 1 - ((1-r2)*(n-1)/(n-k-1))\n",
    "print(\"Adjusted R2_score: \",np.round(adj_r2_score,3))\n",
    "print(\"MAE: \",np.round(mean_absolute_error(y_test,dtr_pred),3))\n",
    "print(\"MSE: \",np.round(mean_squared_error(y_test,dtr_pred),3))\n",
    "mse = mean_squared_error(y_test,dtr_pred)\n",
    "rmse = np.sqrt(mse)\n",
    "print(\"RMSE: \", np.round(rmse, 3))"
   ],
   "metadata": {
    "collapsed": false
   }
  },
  {
   "cell_type": "markdown",
   "source": [
    "5 A) Lasso Regression"
   ],
   "metadata": {
    "collapsed": false
   }
  },
  {
   "cell_type": "code",
   "execution_count": null,
   "outputs": [],
   "source": [
    "x_train,x_test,y_train,y_test = train_test_split(X,Y,random_state=52,train_size=0.8)"
   ],
   "metadata": {
    "collapsed": false
   }
  },
  {
   "cell_type": "code",
   "execution_count": null,
   "outputs": [],
   "source": [
    "scale= StandardScaler()\n",
    "x_train_lasso = scale.fit_transform(x_train)\n",
    "x_test_lasso = scale.transform(x_test)"
   ],
   "metadata": {
    "collapsed": false
   }
  },
  {
   "cell_type": "code",
   "execution_count": null,
   "outputs": [],
   "source": [
    "from sklearn import linear_model\n",
    "lassoReg = linear_model.Lasso()\n",
    "lassoReg.fit(x_train,y_train)\n",
    "lr_pred = lassoReg.predict(x_test)"
   ],
   "metadata": {
    "collapsed": false
   }
  },
  {
   "cell_type": "code",
   "execution_count": null,
   "outputs": [],
   "source": [
    "r2 = r2_score(y_test,lr_pred)\n",
    "print(\"R2 score: \",np.round(r2,3))\n",
    "n=5790 # n = number of observations (rows)\n",
    "k=1419 # k = number of dimensions (independent variables)\n",
    "adj_r2_score = 1 - ((1-r2)*(n-1)/(n-k-1))\n",
    "print(\"Adjusted R2_score: \",np.round(adj_r2_score,3))\n",
    "print(\"MAE: \",np.round(mean_absolute_error(y_test,lr_pred),3))\n",
    "print(\"MSE: \",np.round(mean_squared_error(y_test,lr_pred),3))\n",
    "mse = mean_squared_error(y_test,lr_pred)\n",
    "rmse = np.sqrt(mse)\n",
    "print(\"RMSE: \", np.round(rmse, 3))\n",
    "#scores = cross_val_score(lassoReg,x_train,y_train,cv=10,scoring='neg_mean_squared_error')\n",
    "#avg_score = np.mean(-scores)\n",
    "#print(\"Average score using cross validation: \",avg_score)"
   ],
   "metadata": {
    "collapsed": false
   }
  },
  {
   "cell_type": "markdown",
   "source": [
    "5 B) Lasso Regression with Standardization"
   ],
   "metadata": {
    "collapsed": false
   }
  },
  {
   "cell_type": "code",
   "execution_count": null,
   "outputs": [],
   "source": [
    "x_train,x_test,y_train,y_test = train_test_split(X,Y,random_state=52,train_size=0.8)"
   ],
   "metadata": {
    "collapsed": false
   }
  },
  {
   "cell_type": "code",
   "execution_count": null,
   "outputs": [],
   "source": [
    "scale= StandardScaler()\n",
    "x_train_lasso = scale.fit_transform(x_train)\n",
    "x_test_lasso = scale.transform(x_test)"
   ],
   "metadata": {
    "collapsed": false
   }
  },
  {
   "cell_type": "code",
   "execution_count": null,
   "outputs": [],
   "source": [
    "lassoReg = linear_model.Lasso()\n",
    "lassoReg.fit(x_train_lasso,y_train)\n",
    "lr_pred = lassoReg.predict(x_test_lasso)"
   ],
   "metadata": {
    "collapsed": false
   }
  },
  {
   "cell_type": "code",
   "execution_count": null,
   "outputs": [],
   "source": [
    "r2 = r2_score(y_test,lr_pred)\n",
    "print(\"R2 score: \",np.round(r2,3))\n",
    "n=5790 # n = number of observations (rows)\n",
    "k=1419 # k = number of dimensions (independent variables)\n",
    "adj_r2_score = 1 - ((1-r2)*(n-1)/(n-k-1))\n",
    "print(\"Adjusted R2_score: \",np.round(adj_r2_score,3))\n",
    "print(\"MAE: \",np.round(mean_absolute_error(y_test,lr_pred),3))\n",
    "print(\"MSE: \",np.round(mean_squared_error(y_test,lr_pred),3))\n",
    "mse = mean_squared_error(y_test,lr_pred)\n",
    "rmse = np.sqrt(mse)\n",
    "print(\"RMSE: \", np.round(rmse, 3))"
   ],
   "metadata": {
    "collapsed": false
   }
  },
  {
   "cell_type": "markdown",
   "source": [
    "5 C) Lasso Regression with PCA"
   ],
   "metadata": {
    "collapsed": false
   }
  },
  {
   "cell_type": "code",
   "execution_count": null,
   "outputs": [],
   "source": [
    "x_train,x_test,y_train,y_test = train_test_split(X,Y,random_state=52,train_size=0.8)"
   ],
   "metadata": {
    "collapsed": false
   }
  },
  {
   "cell_type": "code",
   "execution_count": null,
   "outputs": [],
   "source": [
    "scale= StandardScaler()\n",
    "x_train_lasso = scale.fit_transform(x_train)\n",
    "x_test_lasso = scale.transform(x_test)"
   ],
   "metadata": {
    "collapsed": false
   }
  },
  {
   "cell_type": "code",
   "execution_count": null,
   "outputs": [],
   "source": [
    "from sklearn.decomposition import PCA\n",
    "pca = PCA(n_components = 5)\n",
    "pca_train = pca.fit_transform(x_train_lasso)\n",
    "pca_test = pca.transform(x_test_lasso)"
   ],
   "metadata": {
    "collapsed": false
   }
  },
  {
   "cell_type": "code",
   "execution_count": null,
   "outputs": [],
   "source": [
    "lassoReg = linear_model.Lasso()\n",
    "lassoReg.fit(pca_train,y_train)\n",
    "lr_pred = lassoReg.predict(pca_test)"
   ],
   "metadata": {
    "collapsed": false
   }
  },
  {
   "cell_type": "code",
   "execution_count": null,
   "outputs": [],
   "source": [
    "r2 = r2_score(y_test,lr_pred)\n",
    "print(\"R2 score: \",np.round(r2,3))\n",
    "n=5790 # n = number of observations (rows)\n",
    "k=1419 # k = number of dimensions (independent variables)\n",
    "adj_r2_score = 1 - ((1-r2)*(n-1)/(n-k-1))\n",
    "print(\"Adjusted R2_score: \",np.round(adj_r2_score,3))\n",
    "print(\"MAE: \",np.round(mean_absolute_error(y_test,lr_pred),3))\n",
    "print(\"MSE: \",np.round(mean_squared_error(y_test,lr_pred),3))\n",
    "mse = mean_squared_error(y_test,lr_pred)\n",
    "rmse = np.sqrt(mse)\n",
    "print(\"RMSE: \", np.round(rmse, 3))"
   ],
   "metadata": {
    "collapsed": false
   }
  }
 ],
 "metadata": {
  "kernelspec": {
   "display_name": "Python 3",
   "language": "python",
   "name": "python3"
  },
  "language_info": {
   "codemirror_mode": {
    "name": "ipython",
    "version": 2
   },
   "file_extension": ".py",
   "mimetype": "text/x-python",
   "name": "python",
   "nbconvert_exporter": "python",
   "pygments_lexer": "ipython2",
   "version": "2.7.6"
  }
 },
 "nbformat": 4,
 "nbformat_minor": 0
}
