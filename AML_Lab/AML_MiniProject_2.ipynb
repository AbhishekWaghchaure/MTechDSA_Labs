{
 "cells": [
  {
   "cell_type": "code",
   "execution_count": 35,
   "metadata": {
    "collapsed": true
   },
   "outputs": [
    {
     "data": {
      "text/plain": "   Unnamed: 0  id           car_name  yr_mfr fuel_type  kms_run  sale_price  \\\n0           0   1       maruti swift    2015    petrol     8063      386399   \n1           1   2    maruti alto 800    2016    petrol    23104      265499   \n2           2   3  hyundai grand i10    2017    petrol    23402      477699   \n3           3   4       maruti swift    2013    diesel    39124      307999   \n4           4   5  hyundai grand i10    2015    petrol    22116      361499   \n\n    city  times_viewed  body_type  ... total_owners broker_quote  \\\n0  noida         18715  hatchback  ...            2       397677   \n1  noida          2676  hatchback  ...            1       272935   \n2  noida           609  hatchback  ...            1       469605   \n3  noida          6511  hatchback  ...            1       294262   \n4  noida          3225  hatchback  ...            1       360716   \n\n   original_price car_rating            ad_created_on  fitness_certificate  \\\n0   404177.000000      great  2021-04-04T07:09:18.583                 True   \n1   354313.000000      great  2021-03-22T14:07:32.833                 True   \n2   550750.603916      great  2021-03-20T05:36:31.311                 True   \n3   374326.000000      great  2021-01-21T12:59:19.299                 True   \n4   367216.000000      great  2021-04-01T13:33:40.733                 True   \n\n  emi_starts_from booking_down_pymnt reserved warranty_avail  \n0            8975              57960    False          False  \n1            6167              39825    False          False  \n2           11096              71655    False          False  \n3            7154              46200    False          False  \n4            8397              54225    False          False  \n\n[5 rows x 31 columns]",
      "text/html": "<div>\n<style scoped>\n    .dataframe tbody tr th:only-of-type {\n        vertical-align: middle;\n    }\n\n    .dataframe tbody tr th {\n        vertical-align: top;\n    }\n\n    .dataframe thead th {\n        text-align: right;\n    }\n</style>\n<table border=\"1\" class=\"dataframe\">\n  <thead>\n    <tr style=\"text-align: right;\">\n      <th></th>\n      <th>Unnamed: 0</th>\n      <th>id</th>\n      <th>car_name</th>\n      <th>yr_mfr</th>\n      <th>fuel_type</th>\n      <th>kms_run</th>\n      <th>sale_price</th>\n      <th>city</th>\n      <th>times_viewed</th>\n      <th>body_type</th>\n      <th>...</th>\n      <th>total_owners</th>\n      <th>broker_quote</th>\n      <th>original_price</th>\n      <th>car_rating</th>\n      <th>ad_created_on</th>\n      <th>fitness_certificate</th>\n      <th>emi_starts_from</th>\n      <th>booking_down_pymnt</th>\n      <th>reserved</th>\n      <th>warranty_avail</th>\n    </tr>\n  </thead>\n  <tbody>\n    <tr>\n      <th>0</th>\n      <td>0</td>\n      <td>1</td>\n      <td>maruti swift</td>\n      <td>2015</td>\n      <td>petrol</td>\n      <td>8063</td>\n      <td>386399</td>\n      <td>noida</td>\n      <td>18715</td>\n      <td>hatchback</td>\n      <td>...</td>\n      <td>2</td>\n      <td>397677</td>\n      <td>404177.000000</td>\n      <td>great</td>\n      <td>2021-04-04T07:09:18.583</td>\n      <td>True</td>\n      <td>8975</td>\n      <td>57960</td>\n      <td>False</td>\n      <td>False</td>\n    </tr>\n    <tr>\n      <th>1</th>\n      <td>1</td>\n      <td>2</td>\n      <td>maruti alto 800</td>\n      <td>2016</td>\n      <td>petrol</td>\n      <td>23104</td>\n      <td>265499</td>\n      <td>noida</td>\n      <td>2676</td>\n      <td>hatchback</td>\n      <td>...</td>\n      <td>1</td>\n      <td>272935</td>\n      <td>354313.000000</td>\n      <td>great</td>\n      <td>2021-03-22T14:07:32.833</td>\n      <td>True</td>\n      <td>6167</td>\n      <td>39825</td>\n      <td>False</td>\n      <td>False</td>\n    </tr>\n    <tr>\n      <th>2</th>\n      <td>2</td>\n      <td>3</td>\n      <td>hyundai grand i10</td>\n      <td>2017</td>\n      <td>petrol</td>\n      <td>23402</td>\n      <td>477699</td>\n      <td>noida</td>\n      <td>609</td>\n      <td>hatchback</td>\n      <td>...</td>\n      <td>1</td>\n      <td>469605</td>\n      <td>550750.603916</td>\n      <td>great</td>\n      <td>2021-03-20T05:36:31.311</td>\n      <td>True</td>\n      <td>11096</td>\n      <td>71655</td>\n      <td>False</td>\n      <td>False</td>\n    </tr>\n    <tr>\n      <th>3</th>\n      <td>3</td>\n      <td>4</td>\n      <td>maruti swift</td>\n      <td>2013</td>\n      <td>diesel</td>\n      <td>39124</td>\n      <td>307999</td>\n      <td>noida</td>\n      <td>6511</td>\n      <td>hatchback</td>\n      <td>...</td>\n      <td>1</td>\n      <td>294262</td>\n      <td>374326.000000</td>\n      <td>great</td>\n      <td>2021-01-21T12:59:19.299</td>\n      <td>True</td>\n      <td>7154</td>\n      <td>46200</td>\n      <td>False</td>\n      <td>False</td>\n    </tr>\n    <tr>\n      <th>4</th>\n      <td>4</td>\n      <td>5</td>\n      <td>hyundai grand i10</td>\n      <td>2015</td>\n      <td>petrol</td>\n      <td>22116</td>\n      <td>361499</td>\n      <td>noida</td>\n      <td>3225</td>\n      <td>hatchback</td>\n      <td>...</td>\n      <td>1</td>\n      <td>360716</td>\n      <td>367216.000000</td>\n      <td>great</td>\n      <td>2021-04-01T13:33:40.733</td>\n      <td>True</td>\n      <td>8397</td>\n      <td>54225</td>\n      <td>False</td>\n      <td>False</td>\n    </tr>\n  </tbody>\n</table>\n<p>5 rows × 31 columns</p>\n</div>"
     },
     "execution_count": 35,
     "metadata": {},
     "output_type": "execute_result"
    }
   ],
   "source": [
    "import pandas as pd\n",
    "df = pd.read_csv('cars_nullhandled.csv')\n",
    "df.head()"
   ]
  },
  {
   "cell_type": "code",
   "execution_count": 36,
   "outputs": [
    {
     "name": "stdout",
     "output_type": "stream",
     "text": [
      "<class 'pandas.core.frame.DataFrame'>\n",
      "RangeIndex: 6399 entries, 0 to 6398\n",
      "Data columns (total 31 columns):\n",
      " #   Column               Non-Null Count  Dtype  \n",
      "---  ------               --------------  -----  \n",
      " 0   Unnamed: 0           6399 non-null   int64  \n",
      " 1   id                   6399 non-null   int64  \n",
      " 2   car_name             6399 non-null   object \n",
      " 3   yr_mfr               6399 non-null   int64  \n",
      " 4   fuel_type            6399 non-null   object \n",
      " 5   kms_run              6399 non-null   int64  \n",
      " 6   sale_price           6399 non-null   int64  \n",
      " 7   city                 6399 non-null   object \n",
      " 8   times_viewed         6399 non-null   int64  \n",
      " 9   body_type            6399 non-null   object \n",
      " 10  transmission         6399 non-null   object \n",
      " 11  variant              6399 non-null   object \n",
      " 12  assured_buy          6399 non-null   bool   \n",
      " 13  registered_city      6391 non-null   object \n",
      " 14  registered_state     6391 non-null   object \n",
      " 15  is_hot               6399 non-null   bool   \n",
      " 16  rto                  6399 non-null   object \n",
      " 17  source               6399 non-null   object \n",
      " 18  make                 6399 non-null   object \n",
      " 19  model                6399 non-null   object \n",
      " 20  car_availability     6399 non-null   object \n",
      " 21  total_owners         6399 non-null   int64  \n",
      " 22  broker_quote         6399 non-null   int64  \n",
      " 23  original_price       6399 non-null   float64\n",
      " 24  car_rating           6392 non-null   object \n",
      " 25  ad_created_on        6398 non-null   object \n",
      " 26  fitness_certificate  6391 non-null   object \n",
      " 27  emi_starts_from      6399 non-null   int64  \n",
      " 28  booking_down_pymnt   6399 non-null   int64  \n",
      " 29  reserved             6399 non-null   bool   \n",
      " 30  warranty_avail       6399 non-null   bool   \n",
      "dtypes: bool(4), float64(1), int64(10), object(16)\n",
      "memory usage: 1.3+ MB\n"
     ]
    },
    {
     "data": {
      "text/plain": "['assured_buy', 'is_hot', 'reserved', 'warranty_avail']"
     },
     "execution_count": 36,
     "metadata": {},
     "output_type": "execute_result"
    }
   ],
   "source": [
    "df.info()\n",
    "bool_columns = list(df.select_dtypes(include='bool'))\n",
    "bool_columns"
   ],
   "metadata": {
    "collapsed": false
   }
  },
  {
   "cell_type": "code",
   "execution_count": 37,
   "outputs": [
    {
     "data": {
      "text/plain": "[]"
     },
     "execution_count": 37,
     "metadata": {},
     "output_type": "execute_result"
    }
   ],
   "source": [
    "df['assured_buy'] = df['assured_buy'].astype(int)\n",
    "df['is_hot'] = df['is_hot'].astype(int)\n",
    "df['reserved'] = df['reserved'].astype(int)\n",
    "df['warranty_avail'] = df['warranty_avail'].astype(int)\n",
    "bool_columns = list(df.select_dtypes(include='bool'))\n",
    "bool_columns"
   ],
   "metadata": {
    "collapsed": false
   }
  },
  {
   "cell_type": "code",
   "execution_count": 38,
   "outputs": [
    {
     "data": {
      "text/plain": "['car_name',\n 'fuel_type',\n 'city',\n 'body_type',\n 'transmission',\n 'variant',\n 'registered_city',\n 'registered_state',\n 'rto',\n 'source',\n 'make',\n 'model',\n 'car_availability',\n 'car_rating',\n 'ad_created_on',\n 'fitness_certificate']"
     },
     "execution_count": 38,
     "metadata": {},
     "output_type": "execute_result"
    }
   ],
   "source": [
    "object = list(df.select_dtypes(include='object'))\n",
    "object"
   ],
   "metadata": {
    "collapsed": false
   }
  },
  {
   "cell_type": "markdown",
   "source": [
    "Performed Label Encoding on all object data types"
   ],
   "metadata": {
    "collapsed": false
   }
  },
  {
   "cell_type": "code",
   "execution_count": 39,
   "outputs": [],
   "source": [
    "from sklearn import preprocessing\n",
    "label_encoder = preprocessing.LabelEncoder()\n",
    "for obj in object:\n",
    "    df[obj]= label_encoder.fit_transform(df[obj])"
   ],
   "metadata": {
    "collapsed": false
   }
  },
  {
   "cell_type": "code",
   "execution_count": 40,
   "outputs": [
    {
     "data": {
      "text/plain": "0       103\n1        86\n2        48\n3       103\n4        48\n       ... \n6394    169\n6395     51\n6396    171\n6397    150\n6398     48\nName: car_name, Length: 6399, dtype: int64"
     },
     "execution_count": 40,
     "metadata": {},
     "output_type": "execute_result"
    }
   ],
   "source": [
    "df['car_name']"
   ],
   "metadata": {
    "collapsed": false
   }
  },
  {
   "cell_type": "code",
   "execution_count": 41,
   "outputs": [],
   "source": [
    "df = df.drop(columns=['car_name','fuel_type','city','body_type','transmission','variant','registered_city','registered_state','rto','source','make','model','car_availability','car_rating','ad_created_on','fitness_certificate'],axis=1)"
   ],
   "metadata": {
    "collapsed": false
   }
  },
  {
   "cell_type": "code",
   "execution_count": 42,
   "outputs": [
    {
     "data": {
      "text/plain": "(6399, 14)"
     },
     "execution_count": 42,
     "metadata": {},
     "output_type": "execute_result"
    }
   ],
   "source": [
    "x = df.drop(columns=['sale_price'],axis=1)\n",
    "x.shape"
   ],
   "metadata": {
    "collapsed": false
   }
  },
  {
   "cell_type": "code",
   "execution_count": 43,
   "outputs": [
    {
     "data": {
      "text/plain": "(6399,)"
     },
     "execution_count": 43,
     "metadata": {},
     "output_type": "execute_result"
    }
   ],
   "source": [
    "y = df['sale_price']\n",
    "y.shape"
   ],
   "metadata": {
    "collapsed": false
   }
  },
  {
   "cell_type": "markdown",
   "source": [
    "1 A) Linear Regression"
   ],
   "metadata": {
    "collapsed": false
   }
  },
  {
   "cell_type": "code",
   "execution_count": 44,
   "outputs": [
    {
     "name": "stdout",
     "output_type": "stream",
     "text": [
      "R2 score:  1.0\n",
      "Adjusted R2_score:  1.0\n",
      "MAE:  0.185\n",
      "MSE:  0.216\n",
      "RMSE:  0.465\n",
      "Average score using cross validation:  0.24108209635642716\n"
     ]
    }
   ],
   "source": [
    "from sklearn.model_selection import train_test_split\n",
    "x_train,x_test,y_train,y_test = train_test_split(x,y,test_size=0.2,random_state=52,train_size=0.8)\n",
    "\n",
    "\n",
    "from sklearn.linear_model import LinearRegression\n",
    "model1 = LinearRegression()\n",
    "model1.fit(x_train,y_train)\n",
    "linear_pred = model1.predict(x_test)\n",
    "\n",
    "\n",
    "from sklearn.metrics import r2_score\n",
    "from sklearn.metrics import mean_absolute_error\n",
    "from sklearn.metrics import mean_squared_error\n",
    "import numpy as np\n",
    "from sklearn.model_selection import cross_val_score\n",
    "r2 = r2_score(y_test,linear_pred)\n",
    "print(\"R2 score: \",np.round(r2,3))\n",
    "n=5790 # n = number of observations (rows)\n",
    "k=26 # k = number of dimensions (independent variables)\n",
    "adj_r2_score = 1 - ((1-r2)*(n-1)/(n-k-1))\n",
    "print(\"Adjusted R2_score: \",np.round(adj_r2_score,3))\n",
    "print(\"MAE: \",np.round(mean_absolute_error(y_test,linear_pred),3))\n",
    "print(\"MSE: \",np.round(mean_squared_error(y_test,linear_pred),3))\n",
    "mse = mean_squared_error(y_test,linear_pred)\n",
    "rmse = np.sqrt(mse)\n",
    "print(\"RMSE: \", np.round(rmse, 3))\n",
    "scores = cross_val_score(model1,x_train,y_train,cv=10,scoring='neg_mean_squared_error')\n",
    "avg_score = np.mean(-scores)\n",
    "print(\"Average score using cross validation: \",avg_score)"
   ],
   "metadata": {
    "collapsed": false
   }
  },
  {
   "cell_type": "markdown",
   "source": [
    "1 B) Linear Regression with Standardization"
   ],
   "metadata": {
    "collapsed": false
   }
  },
  {
   "cell_type": "code",
   "execution_count": 45,
   "outputs": [
    {
     "name": "stdout",
     "output_type": "stream",
     "text": [
      "R2 score:  1.0\n",
      "Adjusted R2_score:  1.0\n",
      "MAE:  0.185\n",
      "MSE:  0.216\n",
      "RMSE:  0.465\n",
      "Average score using cross validation:  0.24108209635642716\n"
     ]
    }
   ],
   "source": [
    "x_train,x_test,y_train,y_test = train_test_split(x,y,test_size = 0.2,random_state=52)\n",
    "\n",
    "\n",
    "from sklearn.preprocessing import StandardScaler\n",
    "scale= StandardScaler()\n",
    "x_train_linear = scale.fit_transform(x_train)\n",
    "x_test_linear = scale.transform(x_test)\n",
    "\n",
    "\n",
    "\n",
    "model2 = LinearRegression()\n",
    "model2.fit(x_train_linear,y_train)\n",
    "linear_pred1 = model2.predict(x_test_linear)\n",
    "\n",
    "\n",
    "\n",
    "r2 = r2_score(y_test,linear_pred1)\n",
    "print(\"R2 score: \",np.round(r2,3))\n",
    "n=5790 # n = number of observations (rows)\n",
    "k=26 # k = number of dimensions (independent variables)\n",
    "adj_r2_score = 1 - ((1-r2)*(n-1)/(n-k-1))\n",
    "print(\"Adjusted R2_score: \",np.round(adj_r2_score,3))\n",
    "print(\"MAE: \",np.round(mean_absolute_error(y_test,linear_pred1),3))\n",
    "print(\"MSE: \",np.round(mean_squared_error(y_test,linear_pred1),3))\n",
    "mse = mean_squared_error(y_test,linear_pred1)\n",
    "rmse = np.sqrt(mse)\n",
    "print(\"RMSE: \", np.round(rmse, 3))\n",
    "scores = cross_val_score(model2,x_train,y_train,cv=10,scoring='neg_mean_squared_error')\n",
    "avg_score = np.mean(-scores)\n",
    "print(\"Average score using cross validation: \",avg_score)"
   ],
   "metadata": {
    "collapsed": false
   }
  },
  {
   "cell_type": "markdown",
   "source": [
    "1 C) Linear Regression with PCA"
   ],
   "metadata": {
    "collapsed": false
   }
  },
  {
   "cell_type": "code",
   "execution_count": 46,
   "outputs": [
    {
     "name": "stdout",
     "output_type": "stream",
     "text": [
      "R2 score:  0.947\n",
      "Adjusted R2_score:  0.947\n",
      "MAE:  34571.391\n",
      "MSE:  4768856441.731\n",
      "RMSE:  69056.907\n",
      "Average score using cross validation:  0.24108209635642716\n"
     ]
    }
   ],
   "source": [
    "x_train,x_test,y_train,y_test = train_test_split(x,y,test_size = 0.2,random_state=52)\n",
    "\n",
    "\n",
    "scale= StandardScaler()\n",
    "x_train_linear = scale.fit_transform(x_train)\n",
    "x_test_linear = scale.transform(x_test)\n",
    "\n",
    "\n",
    "from sklearn.decomposition import PCA\n",
    "pca = PCA(n_components = 5)\n",
    "pca_train = pca.fit_transform(x_train_linear)\n",
    "pca_test = pca.transform(x_test_linear)\n",
    "\n",
    "\n",
    "model2 = LinearRegression()\n",
    "model2.fit(pca_train,y_train)\n",
    "linear_pred1 = model2.predict(pca_test)\n",
    "\n",
    "\n",
    "\n",
    "r2 = r2_score(y_test,linear_pred1)\n",
    "print(\"R2 score: \",np.round(r2,3))\n",
    "n=5790 # n = number of observations (rows)\n",
    "k=26 # k = number of dimensions (independent variables)\n",
    "adj_r2_score = 1 - ((1-r2)*(n-1)/(n-k-1))\n",
    "print(\"Adjusted R2_score: \",np.round(adj_r2_score,3))\n",
    "print(\"MAE: \",np.round(mean_absolute_error(y_test,linear_pred1),3))\n",
    "print(\"MSE: \",np.round(mean_squared_error(y_test,linear_pred1),3))\n",
    "mse = mean_squared_error(y_test,linear_pred1)\n",
    "rmse = np.sqrt(mse)\n",
    "print(\"RMSE: \", np.round(rmse, 3))\n",
    "scores = cross_val_score(model2,x_train,y_train,cv=10,scoring='neg_mean_squared_error')\n",
    "avg_score = np.mean(-scores)\n",
    "print(\"Average score using cross validation: \",avg_score)\n"
   ],
   "metadata": {
    "collapsed": false
   }
  },
  {
   "cell_type": "markdown",
   "source": [
    "2 A) SVR"
   ],
   "metadata": {
    "collapsed": false
   }
  },
  {
   "cell_type": "code",
   "execution_count": 47,
   "outputs": [
    {
     "name": "stdout",
     "output_type": "stream",
     "text": [
      "R2 score:  -0.057\n",
      "Adjusted R2_score:  -0.062\n",
      "MAE:  185476.58\n",
      "MSE:  95506004646.817\n",
      "RMSE:  309040.458\n",
      "Average score using cross validation:  78676301349.8901\n"
     ]
    }
   ],
   "source": [
    "x_train,x_test,y_train,y_test = train_test_split(x,y,random_state=52,test_size=0.2)\n",
    "\n",
    "\n",
    "x_train_svr = scale.fit_transform(x_train)\n",
    "x_test_svr = scale.transform(x_test)\n",
    "\n",
    "\n",
    "from sklearn.svm import SVR\n",
    "regressor = SVR()\n",
    "regressor.fit(x_train_svr, y_train)\n",
    "svr_pred = regressor.predict(x_test_svr)\n",
    "\n",
    "\n",
    "\n",
    "r2 = r2_score(y_test,svr_pred)\n",
    "print(\"R2 score: \",np.round(r2,3))\n",
    "n=5790 # n = number of observations (rows)\n",
    "k=26 # k = number of dimensions (independent variables)\n",
    "adj_r2_score = 1 - ((1-r2)*(n-1)/(n-k-1))\n",
    "print(\"Adjusted R2_score: \",np.round(adj_r2_score,3))\n",
    "print(\"MAE: \",np.round(mean_absolute_error(y_test,svr_pred),3))\n",
    "print(\"MSE: \",np.round(mean_squared_error(y_test,svr_pred),3))\n",
    "mse = mean_squared_error(y_test,svr_pred)\n",
    "rmse = np.sqrt(mse)\n",
    "print(\"RMSE: \", np.round(rmse, 3))\n",
    "scores = cross_val_score(regressor,x_train,y_train,cv=10,scoring='neg_mean_squared_error')\n",
    "avg_score = np.mean(-scores)\n",
    "print(\"Average score using cross validation: \",avg_score)\n"
   ],
   "metadata": {
    "collapsed": false
   }
  },
  {
   "cell_type": "markdown",
   "source": [
    "3 A) Random Forest"
   ],
   "metadata": {
    "collapsed": false
   }
  },
  {
   "cell_type": "code",
   "execution_count": 48,
   "outputs": [
    {
     "name": "stdout",
     "output_type": "stream",
     "text": [
      "R2 score:  0.979\n",
      "Adjusted R2_score:  0.979\n",
      "MAE:  1961.984\n",
      "MSE:  1870682694.46\n",
      "RMSE:  43251.39\n"
     ]
    }
   ],
   "source": [
    "x_train,x_test,y_train,y_test = train_test_split(x,y,random_state=52,test_size=0.2)\n",
    "\n",
    "\n",
    "from sklearn.ensemble import RandomForestRegressor\n",
    "rf = RandomForestRegressor()\n",
    "rf.fit(x_train,y_train)\n",
    "rfr_pred = rf.predict(x_test)\n",
    "\n",
    "\n",
    "RandomForestRegressor()\n",
    "\n",
    "\n",
    "r2 = r2_score(y_test,rfr_pred)\n",
    "print(\"R2 score: \",np.round(r2,3))\n",
    "n=5790 # n = number of observations (rows)\n",
    "k=26 # k = number of dimensions (independent variables)\n",
    "adj_r2_score = 1 - ((1-r2)*(n-1)/(n-k-1))\n",
    "print(\"Adjusted R2_score: \",np.round(adj_r2_score,3))\n",
    "print(\"MAE: \",np.round(mean_absolute_error(y_test,rfr_pred),3))\n",
    "print(\"MSE: \",np.round(mean_squared_error(y_test,rfr_pred),3))\n",
    "mse = mean_squared_error(y_test,rfr_pred)\n",
    "rmse = np.sqrt(mse)\n",
    "print(\"RMSE: \", np.round(rmse, 3))\n",
    "#scores = cross_val_score(rf,x_train,y_train,cv=10,scoring='neg_mean_squared_error')\n",
    "#avg_score = np.mean(-scores)\n",
    "#print(\"Average score using cross validation: \",avg_score)"
   ],
   "metadata": {
    "collapsed": false
   }
  },
  {
   "cell_type": "markdown",
   "source": [
    "3 B) Random Forest With Standardization"
   ],
   "metadata": {
    "collapsed": false
   }
  },
  {
   "cell_type": "code",
   "execution_count": 49,
   "outputs": [
    {
     "name": "stdout",
     "output_type": "stream",
     "text": [
      "R2 score:  0.979\n",
      "Adjusted R2_score:  0.979\n",
      "MAE:  1949.312\n",
      "MSE:  1884417156.17\n",
      "RMSE:  43409.874\n"
     ]
    }
   ],
   "source": [
    "x_train,x_test,y_train,y_test = train_test_split(x,y,random_state=52,test_size=0.2)\n",
    "\n",
    "\n",
    "x_train_rf = scale.fit_transform(x_train)\n",
    "x_test_rf = scale.transform(x_test)\n",
    "\n",
    "\n",
    "\n",
    "rf = RandomForestRegressor()\n",
    "rf.fit(x_train_rf,y_train)\n",
    "rfr_pred = rf.predict(x_test_rf)\n",
    "\n",
    "\n",
    "r2 = r2_score(y_test,rfr_pred)\n",
    "print(\"R2 score: \",np.round(r2,3))\n",
    "n=5790 # n = number of observations (rows)\n",
    "k=26 # k = number of dimensions (independent variables)\n",
    "adj_r2_score = 1 - ((1-r2)*(n-1)/(n-k-1))\n",
    "print(\"Adjusted R2_score: \",np.round(adj_r2_score,3))\n",
    "print(\"MAE: \",np.round(mean_absolute_error(y_test,rfr_pred),3))\n",
    "print(\"MSE: \",np.round(mean_squared_error(y_test,rfr_pred),3))\n",
    "mse = mean_squared_error(y_test,rfr_pred)\n",
    "rmse = np.sqrt(mse)\n",
    "print(\"RMSE: \", np.round(rmse, 3))"
   ],
   "metadata": {
    "collapsed": false
   }
  },
  {
   "cell_type": "markdown",
   "source": [
    "3 C) Random Forest with PCA"
   ],
   "metadata": {
    "collapsed": false
   }
  },
  {
   "cell_type": "code",
   "execution_count": 50,
   "outputs": [
    {
     "name": "stdout",
     "output_type": "stream",
     "text": [
      "R2 score:  0.95\n",
      "Adjusted R2_score:  0.95\n",
      "MAE:  30549.248\n",
      "MSE:  4488594799.094\n",
      "RMSE:  66996.976\n"
     ]
    }
   ],
   "source": [
    "x_train,x_test,y_train,y_test = train_test_split(x,y,random_state=52,test_size=0.2)\n",
    "\n",
    "\n",
    "scale= StandardScaler()\n",
    "x_train_rf = scale.fit_transform(x_train)\n",
    "x_test_rf = scale.transform(x_test)\n",
    "\n",
    "\n",
    "from sklearn.decomposition import PCA\n",
    "pca = PCA(n_components = 5)\n",
    "pca_train = pca.fit_transform(x_train_rf)\n",
    "pca_test = pca.transform(x_test_rf)\n",
    "\n",
    "\n",
    "rf = RandomForestRegressor()\n",
    "rf.fit(pca_train,y_train)\n",
    "rfr_pred = rf.predict(pca_test)\n",
    "\n",
    "\n",
    "r2 = r2_score(y_test,rfr_pred)\n",
    "print(\"R2 score: \",np.round(r2,3))\n",
    "n=5790 # n = number of observations (rows)\n",
    "k=26 # k = number of dimensions (independent variables)\n",
    "adj_r2_score = 1 - ((1-r2)*(n-1)/(n-k-1))\n",
    "print(\"Adjusted R2_score: \",np.round(adj_r2_score,3))\n",
    "print(\"MAE: \",np.round(mean_absolute_error(y_test,rfr_pred),3))\n",
    "print(\"MSE: \",np.round(mean_squared_error(y_test,rfr_pred),3))\n",
    "mse = mean_squared_error(y_test,rfr_pred)\n",
    "rmse = np.sqrt(mse)\n",
    "print(\"RMSE: \", np.round(rmse, 3))\n"
   ],
   "metadata": {
    "collapsed": false
   }
  },
  {
   "cell_type": "markdown",
   "source": [
    "4 A) Decision Tree"
   ],
   "metadata": {
    "collapsed": false
   }
  },
  {
   "cell_type": "code",
   "execution_count": 51,
   "outputs": [
    {
     "name": "stdout",
     "output_type": "stream",
     "text": [
      "R2 score:  0.979\n",
      "Adjusted R2_score:  0.979\n",
      "MAE:  2140.753\n",
      "MSE:  1912018013.894\n",
      "RMSE:  43726.628\n"
     ]
    }
   ],
   "source": [
    "x_train,x_test,y_train,y_test = train_test_split(x,y,random_state=52,test_size=0.2)\n",
    "\n",
    "\n",
    "from sklearn.tree import DecisionTreeRegressor\n",
    "decision = DecisionTreeRegressor()\n",
    "decision.fit(x_train, y_train)\n",
    "dtr_pred = decision.predict(x_test)\n",
    "\n",
    "\n",
    "r2 = r2_score(y_test,dtr_pred)\n",
    "print(\"R2 score: \",np.round(r2,3))\n",
    "n=5790 # n = number of observations (rows)\n",
    "k=26 # k = number of dimensions (independent variables)\n",
    "adj_r2_score = 1 - ((1-r2)*(n-1)/(n-k-1))\n",
    "print(\"Adjusted R2_score: \",np.round(adj_r2_score,3))\n",
    "print(\"MAE: \",np.round(mean_absolute_error(y_test,dtr_pred),3))\n",
    "print(\"MSE: \",np.round(mean_squared_error(y_test,dtr_pred),3))\n",
    "mse = mean_squared_error(y_test,dtr_pred)\n",
    "rmse = np.sqrt(mse)\n",
    "print(\"RMSE: \", np.round(rmse, 3))\n",
    "#scores = cross_val_score(decision,x_train,y_train,cv=10,scoring='neg_mean_squared_error')\n",
    "#avg_score = np.mean(-scores)\n",
    "#print(\"Average score using cross validation: \",avg_score)"
   ],
   "metadata": {
    "collapsed": false
   }
  },
  {
   "cell_type": "markdown",
   "source": [
    "4 B) Decison Tree with Standardization"
   ],
   "metadata": {
    "collapsed": false
   }
  },
  {
   "cell_type": "code",
   "execution_count": 52,
   "outputs": [
    {
     "name": "stdout",
     "output_type": "stream",
     "text": [
      "R2 score:  0.98\n",
      "Adjusted R2_score:  0.98\n",
      "MAE:  2076.303\n",
      "MSE:  1772683032.588\n",
      "RMSE:  42103.243\n"
     ]
    }
   ],
   "source": [
    "x_train,x_test,y_train,y_test = train_test_split(x,y,random_state=52,test_size=0.2)\n",
    "\n",
    "\n",
    "x_train_dt = scale.fit_transform(x_train)\n",
    "x_test_dt = scale.transform(x_test)\n",
    "\n",
    "\n",
    "decision = DecisionTreeRegressor()\n",
    "decision.fit(x_train_dt, y_train)\n",
    "dtr_pred = decision.predict(x_test_dt)\n",
    "\n",
    "\n",
    "r2 = r2_score(y_test,dtr_pred)\n",
    "print(\"R2 score: \",np.round(r2,3))\n",
    "n=5790 # n = number of observations (rows)\n",
    "k=26 # k = number of dimensions (independent variables)\n",
    "adj_r2_score = 1 - ((1-r2)*(n-1)/(n-k-1))\n",
    "print(\"Adjusted R2_score: \",np.round(adj_r2_score,3))\n",
    "print(\"MAE: \",np.round(mean_absolute_error(y_test,dtr_pred),3))\n",
    "print(\"MSE: \",np.round(mean_squared_error(y_test,dtr_pred),3))\n",
    "mse = mean_squared_error(y_test,dtr_pred)\n",
    "rmse = np.sqrt(mse)\n",
    "print(\"RMSE: \", np.round(rmse, 3))\n"
   ],
   "metadata": {
    "collapsed": false
   }
  },
  {
   "cell_type": "markdown",
   "source": [
    "4 C) Decision tree With PCA"
   ],
   "metadata": {
    "collapsed": false
   }
  },
  {
   "cell_type": "code",
   "execution_count": 53,
   "outputs": [
    {
     "name": "stdout",
     "output_type": "stream",
     "text": [
      "R2 score:  0.929\n",
      "Adjusted R2_score:  0.929\n",
      "MAE:  40438.496\n",
      "MSE:  6396860679.427\n",
      "RMSE:  79980.377\n"
     ]
    }
   ],
   "source": [
    "x_train,x_test,y_train,y_test = train_test_split(x,y,random_state=52,test_size=0.2)\n",
    "\n",
    "\n",
    "x_train_dt = scale.fit_transform(x_train)\n",
    "x_test_dt = scale.transform(x_test)\n",
    "\n",
    "\n",
    "from sklearn.decomposition import PCA\n",
    "pca = PCA(n_components = 5)\n",
    "pca_train = pca.fit_transform(x_train_dt)\n",
    "pca_test = pca.transform(x_test_dt)\n",
    "\n",
    "\n",
    "decision = DecisionTreeRegressor()\n",
    "decision.fit(pca_train, y_train)\n",
    "dtr_pred = decision.predict(pca_test)\n",
    "\n",
    "\n",
    "r2 = r2_score(y_test,dtr_pred)\n",
    "print(\"R2 score: \",np.round(r2,3))\n",
    "n=5790 # n = number of observations (rows)\n",
    "k=26 # k = number of dimensions (independent variables)\n",
    "adj_r2_score = 1 - ((1-r2)*(n-1)/(n-k-1))\n",
    "print(\"Adjusted R2_score: \",np.round(adj_r2_score,3))\n",
    "print(\"MAE: \",np.round(mean_absolute_error(y_test,dtr_pred),3))\n",
    "print(\"MSE: \",np.round(mean_squared_error(y_test,dtr_pred),3))\n",
    "mse = mean_squared_error(y_test,dtr_pred)\n",
    "rmse = np.sqrt(mse)\n",
    "print(\"RMSE: \", np.round(rmse, 3))"
   ],
   "metadata": {
    "collapsed": false
   }
  },
  {
   "cell_type": "markdown",
   "source": [
    "5 A) Lasso Regression"
   ],
   "metadata": {
    "collapsed": false
   }
  },
  {
   "cell_type": "code",
   "execution_count": 54,
   "outputs": [
    {
     "name": "stdout",
     "output_type": "stream",
     "text": [
      "R2 score:  1.0\n",
      "Adjusted R2_score:  1.0\n",
      "MAE:  11.271\n",
      "MSE:  217.312\n",
      "RMSE:  14.742\n",
      "Average score using cross validation:  175.6215497376038\n"
     ]
    }
   ],
   "source": [
    "x_train,x_test,y_train,y_test = train_test_split(x,y,random_state=52,test_size=0.2)\n",
    "\n",
    "\n",
    "from sklearn import linear_model\n",
    "lassoReg = linear_model.Lasso()\n",
    "lassoReg.fit(x_train,y_train)\n",
    "lr_pred = lassoReg.predict(x_test)\n",
    "\n",
    "\n",
    "r2 = r2_score(y_test,lr_pred)\n",
    "print(\"R2 score: \",np.round(r2,3))\n",
    "n=5790 # n = number of observations (rows)\n",
    "k=26 # k = number of dimensions (independent variables)\n",
    "adj_r2_score = 1 - ((1-r2)*(n-1)/(n-k-1))\n",
    "print(\"Adjusted R2_score: \",np.round(adj_r2_score,3))\n",
    "print(\"MAE: \",np.round(mean_absolute_error(y_test,lr_pred),3))\n",
    "print(\"MSE: \",np.round(mean_squared_error(y_test,lr_pred),3))\n",
    "mse = mean_squared_error(y_test,lr_pred)\n",
    "rmse = np.sqrt(mse)\n",
    "print(\"RMSE: \", np.round(rmse, 3))\n",
    "scores = cross_val_score(lassoReg,x_train,y_train,cv=10,scoring='neg_mean_squared_error')\n",
    "avg_score = np.mean(-scores)\n",
    "print(\"Average score using cross validation: \",avg_score)\n"
   ],
   "metadata": {
    "collapsed": false
   }
  },
  {
   "cell_type": "markdown",
   "source": [
    "5 B) Lasso Regression with Standardization"
   ],
   "metadata": {
    "collapsed": false
   }
  },
  {
   "cell_type": "code",
   "execution_count": 55,
   "outputs": [
    {
     "name": "stdout",
     "output_type": "stream",
     "text": [
      "R2 score:  1.0\n",
      "Adjusted R2_score:  1.0\n",
      "MAE:  72.024\n",
      "MSE:  74524.824\n",
      "RMSE:  272.992\n",
      "Average score using cross validation:  175.6215497376038\n"
     ]
    }
   ],
   "source": [
    "x_train,x_test,y_train,y_test = train_test_split(x,y,random_state=52,test_size=0.2)\n",
    "\n",
    "\n",
    "scale= StandardScaler()\n",
    "x_train_lasso = scale.fit_transform(x_train)\n",
    "x_test_lasso = scale.transform(x_test)\n",
    "\n",
    "\n",
    "from sklearn import linear_model\n",
    "lassoReg = linear_model.Lasso()\n",
    "lassoReg.fit(x_train_lasso,y_train)\n",
    "lr_pred = lassoReg.predict(x_test_lasso)\n",
    "\n",
    "\n",
    "r2 = r2_score(y_test,lr_pred)\n",
    "print(\"R2 score: \",np.round(r2,3))\n",
    "n=5790 # n = number of observations (rows)\n",
    "k=26 # k = number of dimensions (independent variables)\n",
    "adj_r2_score = 1 - ((1-r2)*(n-1)/(n-k-1))\n",
    "print(\"Adjusted R2_score: \",np.round(adj_r2_score,3))\n",
    "print(\"MAE: \",np.round(mean_absolute_error(y_test,lr_pred),3))\n",
    "print(\"MSE: \",np.round(mean_squared_error(y_test,lr_pred),3))\n",
    "mse = mean_squared_error(y_test,lr_pred)\n",
    "rmse = np.sqrt(mse)\n",
    "print(\"RMSE: \", np.round(rmse, 3))\n",
    "scores = cross_val_score(lassoReg,x_train,y_train,cv=10,scoring='neg_mean_squared_error')\n",
    "avg_score = np.mean(-scores)\n",
    "print(\"Average score using cross validation: \",avg_score)"
   ],
   "metadata": {
    "collapsed": false
   }
  },
  {
   "cell_type": "markdown",
   "source": [
    "5 C) Lasso Regression with PCA"
   ],
   "metadata": {
    "collapsed": false
   }
  },
  {
   "cell_type": "code",
   "execution_count": 56,
   "outputs": [
    {
     "name": "stdout",
     "output_type": "stream",
     "text": [
      "R2 score:  0.947\n",
      "Adjusted R2_score:  0.947\n",
      "MAE:  34571.335\n",
      "MSE:  4768873890.422\n",
      "RMSE:  69057.034\n",
      "Average score using cross validation:  175.6215497376038\n"
     ]
    }
   ],
   "source": [
    "x_train,x_test,y_train,y_test = train_test_split(x,y,random_state=52,test_size=0.2)\n",
    "\n",
    "\n",
    "scale= StandardScaler()\n",
    "x_train_lasso = scale.fit_transform(x_train)\n",
    "x_test_lasso = scale.transform(x_test)\n",
    "\n",
    "\n",
    "pca = PCA(n_components = 5)\n",
    "pca_train = pca.fit_transform(x_train_lasso)\n",
    "pca_test = pca.transform(x_test_lasso)\n",
    "\n",
    "\n",
    "lassoReg = linear_model.Lasso()\n",
    "lassoReg.fit(pca_train,y_train)\n",
    "lr_pred = lassoReg.predict(pca_test)\n",
    "\n",
    "\n",
    "r2 = r2_score(y_test,lr_pred)\n",
    "print(\"R2 score: \",np.round(r2,3))\n",
    "n=5790 # n = number of observations (rows)\n",
    "k=26 # k = number of dimensions (independent variables)\n",
    "adj_r2_score = 1 - ((1-r2)*(n-1)/(n-k-1))\n",
    "print(\"Adjusted R2_score: \",np.round(adj_r2_score,3))\n",
    "print(\"MAE: \",np.round(mean_absolute_error(y_test,lr_pred),3))\n",
    "print(\"MSE: \",np.round(mean_squared_error(y_test,lr_pred),3))\n",
    "mse = mean_squared_error(y_test,lr_pred)\n",
    "rmse = np.sqrt(mse)\n",
    "print(\"RMSE: \", np.round(rmse, 3))\n",
    "scores = cross_val_score(lassoReg,x_train,y_train,cv=10,scoring='neg_mean_squared_error')\n",
    "avg_score = np.mean(-scores)\n",
    "print(\"Average score using cross validation: \",avg_score)"
   ],
   "metadata": {
    "collapsed": false
   }
  }
 ],
 "metadata": {
  "kernelspec": {
   "display_name": "Python 3",
   "language": "python",
   "name": "python3"
  },
  "language_info": {
   "codemirror_mode": {
    "name": "ipython",
    "version": 2
   },
   "file_extension": ".py",
   "mimetype": "text/x-python",
   "name": "python",
   "nbconvert_exporter": "python",
   "pygments_lexer": "ipython2",
   "version": "2.7.6"
  }
 },
 "nbformat": 4,
 "nbformat_minor": 0
}
