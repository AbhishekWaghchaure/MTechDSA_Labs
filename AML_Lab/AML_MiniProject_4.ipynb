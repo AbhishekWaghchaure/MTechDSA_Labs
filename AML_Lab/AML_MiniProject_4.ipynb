{
 "cells": [
  {
   "cell_type": "code",
   "execution_count": 42,
   "outputs": [
    {
     "data": {
      "text/plain": "   index  Unnamed: 0  id           car_name  yr_mfr fuel_type  kms_run  \\\n0      0           0   1       maruti swift    2015    petrol     8063   \n1      1           1   2    maruti alto 800    2016    petrol    23104   \n2      2           2   3  hyundai grand i10    2017    petrol    23402   \n3      3           3   4       maruti swift    2013    diesel    39124   \n4      4           4   5  hyundai grand i10    2015    petrol    22116   \n\n   sale_price   city  times_viewed  ... total_owners broker_quote  \\\n0      386399  noida         18715  ...            2       397677   \n1      265499  noida          2676  ...            1       272935   \n2      477699  noida           609  ...            1       469605   \n3      307999  noida          6511  ...            1       294262   \n4      361499  noida          3225  ...            1       360716   \n\n  original_price  car_rating            ad_created_on fitness_certificate  \\\n0  404177.000000       great  2021-04-04T07:09:18.583                True   \n1  354313.000000       great  2021-03-22T14:07:32.833                True   \n2  550750.603916       great  2021-03-20T05:36:31.311                True   \n3  374326.000000       great  2021-01-21T12:59:19.299                True   \n4  367216.000000       great  2021-04-01T13:33:40.733                True   \n\n   emi_starts_from booking_down_pymnt reserved warranty_avail  \n0             8975              57960    False          False  \n1             6167              39825    False          False  \n2            11096              71655    False          False  \n3             7154              46200    False          False  \n4             8397              54225    False          False  \n\n[5 rows x 32 columns]",
      "text/html": "<div>\n<style scoped>\n    .dataframe tbody tr th:only-of-type {\n        vertical-align: middle;\n    }\n\n    .dataframe tbody tr th {\n        vertical-align: top;\n    }\n\n    .dataframe thead th {\n        text-align: right;\n    }\n</style>\n<table border=\"1\" class=\"dataframe\">\n  <thead>\n    <tr style=\"text-align: right;\">\n      <th></th>\n      <th>index</th>\n      <th>Unnamed: 0</th>\n      <th>id</th>\n      <th>car_name</th>\n      <th>yr_mfr</th>\n      <th>fuel_type</th>\n      <th>kms_run</th>\n      <th>sale_price</th>\n      <th>city</th>\n      <th>times_viewed</th>\n      <th>...</th>\n      <th>total_owners</th>\n      <th>broker_quote</th>\n      <th>original_price</th>\n      <th>car_rating</th>\n      <th>ad_created_on</th>\n      <th>fitness_certificate</th>\n      <th>emi_starts_from</th>\n      <th>booking_down_pymnt</th>\n      <th>reserved</th>\n      <th>warranty_avail</th>\n    </tr>\n  </thead>\n  <tbody>\n    <tr>\n      <th>0</th>\n      <td>0</td>\n      <td>0</td>\n      <td>1</td>\n      <td>maruti swift</td>\n      <td>2015</td>\n      <td>petrol</td>\n      <td>8063</td>\n      <td>386399</td>\n      <td>noida</td>\n      <td>18715</td>\n      <td>...</td>\n      <td>2</td>\n      <td>397677</td>\n      <td>404177.000000</td>\n      <td>great</td>\n      <td>2021-04-04T07:09:18.583</td>\n      <td>True</td>\n      <td>8975</td>\n      <td>57960</td>\n      <td>False</td>\n      <td>False</td>\n    </tr>\n    <tr>\n      <th>1</th>\n      <td>1</td>\n      <td>1</td>\n      <td>2</td>\n      <td>maruti alto 800</td>\n      <td>2016</td>\n      <td>petrol</td>\n      <td>23104</td>\n      <td>265499</td>\n      <td>noida</td>\n      <td>2676</td>\n      <td>...</td>\n      <td>1</td>\n      <td>272935</td>\n      <td>354313.000000</td>\n      <td>great</td>\n      <td>2021-03-22T14:07:32.833</td>\n      <td>True</td>\n      <td>6167</td>\n      <td>39825</td>\n      <td>False</td>\n      <td>False</td>\n    </tr>\n    <tr>\n      <th>2</th>\n      <td>2</td>\n      <td>2</td>\n      <td>3</td>\n      <td>hyundai grand i10</td>\n      <td>2017</td>\n      <td>petrol</td>\n      <td>23402</td>\n      <td>477699</td>\n      <td>noida</td>\n      <td>609</td>\n      <td>...</td>\n      <td>1</td>\n      <td>469605</td>\n      <td>550750.603916</td>\n      <td>great</td>\n      <td>2021-03-20T05:36:31.311</td>\n      <td>True</td>\n      <td>11096</td>\n      <td>71655</td>\n      <td>False</td>\n      <td>False</td>\n    </tr>\n    <tr>\n      <th>3</th>\n      <td>3</td>\n      <td>3</td>\n      <td>4</td>\n      <td>maruti swift</td>\n      <td>2013</td>\n      <td>diesel</td>\n      <td>39124</td>\n      <td>307999</td>\n      <td>noida</td>\n      <td>6511</td>\n      <td>...</td>\n      <td>1</td>\n      <td>294262</td>\n      <td>374326.000000</td>\n      <td>great</td>\n      <td>2021-01-21T12:59:19.299</td>\n      <td>True</td>\n      <td>7154</td>\n      <td>46200</td>\n      <td>False</td>\n      <td>False</td>\n    </tr>\n    <tr>\n      <th>4</th>\n      <td>4</td>\n      <td>4</td>\n      <td>5</td>\n      <td>hyundai grand i10</td>\n      <td>2015</td>\n      <td>petrol</td>\n      <td>22116</td>\n      <td>361499</td>\n      <td>noida</td>\n      <td>3225</td>\n      <td>...</td>\n      <td>1</td>\n      <td>360716</td>\n      <td>367216.000000</td>\n      <td>great</td>\n      <td>2021-04-01T13:33:40.733</td>\n      <td>True</td>\n      <td>8397</td>\n      <td>54225</td>\n      <td>False</td>\n      <td>False</td>\n    </tr>\n  </tbody>\n</table>\n<p>5 rows × 32 columns</p>\n</div>"
     },
     "execution_count": 42,
     "metadata": {},
     "output_type": "execute_result"
    }
   ],
   "source": [
    "import pandas as pd\n",
    "df = pd.read_csv('cars_nullhandled.csv')\n",
    "df.reset_index(inplace=True)\n",
    "df.head()"
   ],
   "metadata": {
    "collapsed": false
   }
  },
  {
   "cell_type": "code",
   "execution_count": 43,
   "outputs": [
    {
     "name": "stdout",
     "output_type": "stream",
     "text": [
      "<class 'pandas.core.frame.DataFrame'>\n",
      "RangeIndex: 6399 entries, 0 to 6398\n",
      "Data columns (total 32 columns):\n",
      " #   Column               Non-Null Count  Dtype  \n",
      "---  ------               --------------  -----  \n",
      " 0   index                6399 non-null   int64  \n",
      " 1   Unnamed: 0           6399 non-null   int64  \n",
      " 2   id                   6399 non-null   int64  \n",
      " 3   car_name             6399 non-null   object \n",
      " 4   yr_mfr               6399 non-null   int64  \n",
      " 5   fuel_type            6399 non-null   object \n",
      " 6   kms_run              6399 non-null   int64  \n",
      " 7   sale_price           6399 non-null   int64  \n",
      " 8   city                 6399 non-null   object \n",
      " 9   times_viewed         6399 non-null   int64  \n",
      " 10  body_type            6399 non-null   object \n",
      " 11  transmission         6399 non-null   object \n",
      " 12  variant              6399 non-null   object \n",
      " 13  assured_buy          6399 non-null   bool   \n",
      " 14  registered_city      6391 non-null   object \n",
      " 15  registered_state     6391 non-null   object \n",
      " 16  is_hot               6399 non-null   bool   \n",
      " 17  rto                  6399 non-null   object \n",
      " 18  source               6399 non-null   object \n",
      " 19  make                 6399 non-null   object \n",
      " 20  model                6399 non-null   object \n",
      " 21  car_availability     6399 non-null   object \n",
      " 22  total_owners         6399 non-null   int64  \n",
      " 23  broker_quote         6399 non-null   int64  \n",
      " 24  original_price       6399 non-null   float64\n",
      " 25  car_rating           6392 non-null   object \n",
      " 26  ad_created_on        6398 non-null   object \n",
      " 27  fitness_certificate  6391 non-null   object \n",
      " 28  emi_starts_from      6399 non-null   int64  \n",
      " 29  booking_down_pymnt   6399 non-null   int64  \n",
      " 30  reserved             6399 non-null   bool   \n",
      " 31  warranty_avail       6399 non-null   bool   \n",
      "dtypes: bool(4), float64(1), int64(11), object(16)\n",
      "memory usage: 1.4+ MB\n"
     ]
    },
    {
     "data": {
      "text/plain": "['assured_buy', 'is_hot', 'reserved', 'warranty_avail']"
     },
     "execution_count": 43,
     "metadata": {},
     "output_type": "execute_result"
    }
   ],
   "source": [
    "df.info()\n",
    "bool_columns = list(df.select_dtypes(include='bool'))\n",
    "bool_columns"
   ],
   "metadata": {
    "collapsed": false
   }
  },
  {
   "cell_type": "code",
   "execution_count": 44,
   "outputs": [
    {
     "data": {
      "text/plain": "[]"
     },
     "execution_count": 44,
     "metadata": {},
     "output_type": "execute_result"
    }
   ],
   "source": [
    "df['assured_buy'] = df['assured_buy'].astype(int)\n",
    "df['is_hot'] = df['is_hot'].astype(int)\n",
    "df['reserved'] = df['reserved'].astype(int)\n",
    "df['warranty_avail'] = df['warranty_avail'].astype(int)\n",
    "bool_columns = list(df.select_dtypes(include='bool'))\n",
    "bool_columns"
   ],
   "metadata": {
    "collapsed": false
   }
  },
  {
   "cell_type": "code",
   "execution_count": 45,
   "outputs": [
    {
     "data": {
      "text/plain": "<Figure size 1080x648 with 2 Axes>",
      "image/png": "[encoded data removed]"
     },
     "metadata": {},
     "output_type": "display_data"
    }
   ],
   "source": [
    "import seaborn as sns\n",
    "import matplotlib.pyplot as plt\n",
    "plt.figure(figsize=(15,9))\n",
    "dataplot = sns.heatmap(df.corr(), cmap=\"RdYlGn\", annot=True)\n",
    "plt.show()"
   ],
   "metadata": {
    "collapsed": false
   }
  },
  {
   "cell_type": "markdown",
   "source": [
    "From above heatmap, ['yr_mfr','broker_qoute','original_price','emi_starts_from','booking_down_pymnt'] have strong correlation with target variable...whereas ['times_viewed','fitness_certificate] have low correlation but can be considered in X."
   ],
   "metadata": {
    "collapsed": false
   }
  },
  {
   "cell_type": "code",
   "execution_count": 46,
   "outputs": [
    {
     "data": {
      "text/plain": "['car_name',\n 'fuel_type',\n 'city',\n 'body_type',\n 'transmission',\n 'variant',\n 'registered_city',\n 'registered_state',\n 'rto',\n 'source',\n 'make',\n 'model',\n 'car_availability',\n 'car_rating',\n 'ad_created_on',\n 'fitness_certificate']"
     },
     "execution_count": 46,
     "metadata": {},
     "output_type": "execute_result"
    }
   ],
   "source": [
    "obj_columns = list(df.select_dtypes(include='object'))\n",
    "obj_columns"
   ],
   "metadata": {
    "collapsed": false
   }
  },
  {
   "cell_type": "markdown",
   "source": [
    "Target Encoding Performed"
   ],
   "metadata": {
    "collapsed": false
   }
  },
  {
   "cell_type": "code",
   "execution_count": 47,
   "outputs": [
    {
     "name": "stderr",
     "output_type": "stream",
     "text": [
      "/opt/anaconda3/lib/python3.9/site-packages/category_encoders/target_encoder.py:122: FutureWarning: Default parameter min_samples_leaf will change in version 2.6.See https://github.com/scikit-learn-contrib/category_encoders/issues/327\n",
      "  warnings.warn(\"Default parameter min_samples_leaf will change in version 2.6.\"\n",
      "/opt/anaconda3/lib/python3.9/site-packages/category_encoders/target_encoder.py:127: FutureWarning: Default parameter smoothing will change in version 2.6.See https://github.com/scikit-learn-contrib/category_encoders/issues/327\n",
      "  warnings.warn(\"Default parameter smoothing will change in version 2.6.\"\n"
     ]
    },
    {
     "data": {
      "text/plain": "   index  Unnamed: 0  id       car_name  yr_mfr      fuel_type  kms_run  \\\n0      0           0   1  414144.433054    2015  391306.642339     8063   \n1      1           1   2  270119.030769    2016  391306.642339    23104   \n2      2           2   3  432492.138211    2017  391306.642339    23402   \n3      3           3   4  414144.433054    2013  611056.708208    39124   \n4      4           4   5  432492.138211    2015  391306.642339    22116   \n5      5           5   6  271602.879227    2018  391306.642339    23534   \n6      6           6   7  285020.508929    2012  611056.708208    41213   \n7      7           7   8  322510.091703    2012  391306.642339    38328   \n8      8           8   9  565667.444444    2014  611056.708208    56402   \n9      9           9  10  326522.703947    2018  391306.642339    32703   \n\n   sale_price           city  times_viewed  ...  total_owners  broker_quote  \\\n0      386399  427978.646209         18715  ...             2        397677   \n1      265499  427978.646209          2676  ...             1        272935   \n2      477699  427978.646209           609  ...             1        469605   \n3      307999  427978.646209          6511  ...             1        294262   \n4      361499  427978.646209          3225  ...             1        360716   \n5      335299  427978.646209          1055  ...             1        343212   \n6      281999  427978.646209           909  ...             1        201200   \n7      321499  427978.646209          2760  ...             3        319200   \n8      456199  427978.646209          2475  ...             1        452023   \n9      281299  427978.646209          2497  ...             1        264597   \n\n   original_price     car_rating  ad_created_on  fitness_certificate  \\\n0   404177.000000  482520.830549   454604.92702        460437.771821   \n1   354313.000000  482520.830549   454604.92702        460437.771821   \n2   550750.603916  482520.830549   454604.92702        460437.771821   \n3   374326.000000  482520.830549   454604.92702        460437.771821   \n4   367216.000000  482520.830549   454604.92702        460437.771821   \n5   439056.000000  482520.830549   454604.92702        460437.771821   \n6   550750.603916  482520.830549   454604.92702        460437.771821   \n7   410764.000000  482520.830549   454604.92702        460437.771821   \n8   566123.000000  482520.830549   454604.92702        460437.771821   \n9   344127.000000  482520.830549   454604.92702        460437.771821   \n\n   emi_starts_from  booking_down_pymnt  reserved  warranty_avail  \n0             8975               57960         0               0  \n1             6167               39825         0               0  \n2            11096               71655         0               0  \n3             7154               46200         0               0  \n4             8397               54225         0               0  \n5             7788               50295         0               0  \n6             6550               42300         0               0  \n7             7468               48225         0               0  \n8            10596               68430         0               0  \n9             6534               42195         0               0  \n\n[10 rows x 32 columns]",
      "text/html": "<div>\n<style scoped>\n    .dataframe tbody tr th:only-of-type {\n        vertical-align: middle;\n    }\n\n    .dataframe tbody tr th {\n        vertical-align: top;\n    }\n\n    .dataframe thead th {\n        text-align: right;\n    }\n</style>\n<table border=\"1\" class=\"dataframe\">\n  <thead>\n    <tr style=\"text-align: right;\">\n      <th></th>\n      <th>index</th>\n      <th>Unnamed: 0</th>\n      <th>id</th>\n      <th>car_name</th>\n      <th>yr_mfr</th>\n      <th>fuel_type</th>\n      <th>kms_run</th>\n      <th>sale_price</th>\n      <th>city</th>\n      <th>times_viewed</th>\n      <th>...</th>\n      <th>total_owners</th>\n      <th>broker_quote</th>\n      <th>original_price</th>\n      <th>car_rating</th>\n      <th>ad_created_on</th>\n      <th>fitness_certificate</th>\n      <th>emi_starts_from</th>\n      <th>booking_down_pymnt</th>\n      <th>reserved</th>\n      <th>warranty_avail</th>\n    </tr>\n  </thead>\n  <tbody>\n    <tr>\n      <th>0</th>\n      <td>0</td>\n      <td>0</td>\n      <td>1</td>\n      <td>414144.433054</td>\n      <td>2015</td>\n      <td>391306.642339</td>\n      <td>8063</td>\n      <td>386399</td>\n      <td>427978.646209</td>\n      <td>18715</td>\n      <td>...</td>\n      <td>2</td>\n      <td>397677</td>\n      <td>404177.000000</td>\n      <td>482520.830549</td>\n      <td>454604.92702</td>\n      <td>460437.771821</td>\n      <td>8975</td>\n      <td>57960</td>\n      <td>0</td>\n      <td>0</td>\n    </tr>\n    <tr>\n      <th>1</th>\n      <td>1</td>\n      <td>1</td>\n      <td>2</td>\n      <td>270119.030769</td>\n      <td>2016</td>\n      <td>391306.642339</td>\n      <td>23104</td>\n      <td>265499</td>\n      <td>427978.646209</td>\n      <td>2676</td>\n      <td>...</td>\n      <td>1</td>\n      <td>272935</td>\n      <td>354313.000000</td>\n      <td>482520.830549</td>\n      <td>454604.92702</td>\n      <td>460437.771821</td>\n      <td>6167</td>\n      <td>39825</td>\n      <td>0</td>\n      <td>0</td>\n    </tr>\n    <tr>\n      <th>2</th>\n      <td>2</td>\n      <td>2</td>\n      <td>3</td>\n      <td>432492.138211</td>\n      <td>2017</td>\n      <td>391306.642339</td>\n      <td>23402</td>\n      <td>477699</td>\n      <td>427978.646209</td>\n      <td>609</td>\n      <td>...</td>\n      <td>1</td>\n      <td>469605</td>\n      <td>550750.603916</td>\n      <td>482520.830549</td>\n      <td>454604.92702</td>\n      <td>460437.771821</td>\n      <td>11096</td>\n      <td>71655</td>\n      <td>0</td>\n      <td>0</td>\n    </tr>\n    <tr>\n      <th>3</th>\n      <td>3</td>\n      <td>3</td>\n      <td>4</td>\n      <td>414144.433054</td>\n      <td>2013</td>\n      <td>611056.708208</td>\n      <td>39124</td>\n      <td>307999</td>\n      <td>427978.646209</td>\n      <td>6511</td>\n      <td>...</td>\n      <td>1</td>\n      <td>294262</td>\n      <td>374326.000000</td>\n      <td>482520.830549</td>\n      <td>454604.92702</td>\n      <td>460437.771821</td>\n      <td>7154</td>\n      <td>46200</td>\n      <td>0</td>\n      <td>0</td>\n    </tr>\n    <tr>\n      <th>4</th>\n      <td>4</td>\n      <td>4</td>\n      <td>5</td>\n      <td>432492.138211</td>\n      <td>2015</td>\n      <td>391306.642339</td>\n      <td>22116</td>\n      <td>361499</td>\n      <td>427978.646209</td>\n      <td>3225</td>\n      <td>...</td>\n      <td>1</td>\n      <td>360716</td>\n      <td>367216.000000</td>\n      <td>482520.830549</td>\n      <td>454604.92702</td>\n      <td>460437.771821</td>\n      <td>8397</td>\n      <td>54225</td>\n      <td>0</td>\n      <td>0</td>\n    </tr>\n    <tr>\n      <th>5</th>\n      <td>5</td>\n      <td>5</td>\n      <td>6</td>\n      <td>271602.879227</td>\n      <td>2018</td>\n      <td>391306.642339</td>\n      <td>23534</td>\n      <td>335299</td>\n      <td>427978.646209</td>\n      <td>1055</td>\n      <td>...</td>\n      <td>1</td>\n      <td>343212</td>\n      <td>439056.000000</td>\n      <td>482520.830549</td>\n      <td>454604.92702</td>\n      <td>460437.771821</td>\n      <td>7788</td>\n      <td>50295</td>\n      <td>0</td>\n      <td>0</td>\n    </tr>\n    <tr>\n      <th>6</th>\n      <td>6</td>\n      <td>6</td>\n      <td>7</td>\n      <td>285020.508929</td>\n      <td>2012</td>\n      <td>611056.708208</td>\n      <td>41213</td>\n      <td>281999</td>\n      <td>427978.646209</td>\n      <td>909</td>\n      <td>...</td>\n      <td>1</td>\n      <td>201200</td>\n      <td>550750.603916</td>\n      <td>482520.830549</td>\n      <td>454604.92702</td>\n      <td>460437.771821</td>\n      <td>6550</td>\n      <td>42300</td>\n      <td>0</td>\n      <td>0</td>\n    </tr>\n    <tr>\n      <th>7</th>\n      <td>7</td>\n      <td>7</td>\n      <td>8</td>\n      <td>322510.091703</td>\n      <td>2012</td>\n      <td>391306.642339</td>\n      <td>38328</td>\n      <td>321499</td>\n      <td>427978.646209</td>\n      <td>2760</td>\n      <td>...</td>\n      <td>3</td>\n      <td>319200</td>\n      <td>410764.000000</td>\n      <td>482520.830549</td>\n      <td>454604.92702</td>\n      <td>460437.771821</td>\n      <td>7468</td>\n      <td>48225</td>\n      <td>0</td>\n      <td>0</td>\n    </tr>\n    <tr>\n      <th>8</th>\n      <td>8</td>\n      <td>8</td>\n      <td>9</td>\n      <td>565667.444444</td>\n      <td>2014</td>\n      <td>611056.708208</td>\n      <td>56402</td>\n      <td>456199</td>\n      <td>427978.646209</td>\n      <td>2475</td>\n      <td>...</td>\n      <td>1</td>\n      <td>452023</td>\n      <td>566123.000000</td>\n      <td>482520.830549</td>\n      <td>454604.92702</td>\n      <td>460437.771821</td>\n      <td>10596</td>\n      <td>68430</td>\n      <td>0</td>\n      <td>0</td>\n    </tr>\n    <tr>\n      <th>9</th>\n      <td>9</td>\n      <td>9</td>\n      <td>10</td>\n      <td>326522.703947</td>\n      <td>2018</td>\n      <td>391306.642339</td>\n      <td>32703</td>\n      <td>281299</td>\n      <td>427978.646209</td>\n      <td>2497</td>\n      <td>...</td>\n      <td>1</td>\n      <td>264597</td>\n      <td>344127.000000</td>\n      <td>482520.830549</td>\n      <td>454604.92702</td>\n      <td>460437.771821</td>\n      <td>6534</td>\n      <td>42195</td>\n      <td>0</td>\n      <td>0</td>\n    </tr>\n  </tbody>\n</table>\n<p>10 rows × 32 columns</p>\n</div>"
     },
     "execution_count": 47,
     "metadata": {},
     "output_type": "execute_result"
    }
   ],
   "source": [
    "from category_encoders import TargetEncoder\n",
    "Targetenc = TargetEncoder()\n",
    "# transforming the column after fitting\n",
    "for obj in obj_columns:\n",
    "    df[obj]= Targetenc.fit_transform(df[obj],y= df['sale_price'])\n",
    "df.head(10)"
   ],
   "metadata": {
    "collapsed": false
   }
  },
  {
   "cell_type": "code",
   "execution_count": 48,
   "outputs": [],
   "source": [
    "x = df.drop(columns=['registered_state', 'index', 'id', 'ad_created_on', 'model', 'times_viewed', 'fitness_certificate','reserved', 'warranty_avail', 'sale_price'], axis=1)\n"
   ],
   "metadata": {
    "collapsed": false
   }
  },
  {
   "cell_type": "code",
   "execution_count": 49,
   "outputs": [],
   "source": [
    "y = df['sale_price']"
   ],
   "metadata": {
    "collapsed": false
   }
  },
  {
   "cell_type": "code",
   "execution_count": 50,
   "outputs": [
    {
     "name": "stdout",
     "output_type": "stream",
     "text": [
      "x shape:  (6399, 22)\n",
      "y shape:  (6399,)\n"
     ]
    }
   ],
   "source": [
    "print(\"x shape: \",x.shape)\n",
    "print(\"y shape: \",y.shape)"
   ],
   "metadata": {
    "collapsed": false
   }
  },
  {
   "cell_type": "code",
   "execution_count": 51,
   "outputs": [
    {
     "name": "stdout",
     "output_type": "stream",
     "text": [
      "<class 'pandas.core.frame.DataFrame'>\n",
      "RangeIndex: 6399 entries, 0 to 6398\n",
      "Data columns (total 22 columns):\n",
      " #   Column              Non-Null Count  Dtype  \n",
      "---  ------              --------------  -----  \n",
      " 0   Unnamed: 0          6399 non-null   int64  \n",
      " 1   car_name            6399 non-null   float64\n",
      " 2   yr_mfr              6399 non-null   int64  \n",
      " 3   fuel_type           6399 non-null   float64\n",
      " 4   kms_run             6399 non-null   int64  \n",
      " 5   city                6399 non-null   float64\n",
      " 6   body_type           6399 non-null   float64\n",
      " 7   transmission        6399 non-null   float64\n",
      " 8   variant             6399 non-null   float64\n",
      " 9   assured_buy         6399 non-null   int64  \n",
      " 10  registered_city     6399 non-null   float64\n",
      " 11  is_hot              6399 non-null   int64  \n",
      " 12  rto                 6399 non-null   float64\n",
      " 13  source              6399 non-null   float64\n",
      " 14  make                6399 non-null   float64\n",
      " 15  car_availability    6399 non-null   float64\n",
      " 16  total_owners        6399 non-null   int64  \n",
      " 17  broker_quote        6399 non-null   int64  \n",
      " 18  original_price      6399 non-null   float64\n",
      " 19  car_rating          6399 non-null   float64\n",
      " 20  emi_starts_from     6399 non-null   int64  \n",
      " 21  booking_down_pymnt  6399 non-null   int64  \n",
      "dtypes: float64(13), int64(9)\n",
      "memory usage: 1.1 MB\n"
     ]
    }
   ],
   "source": [
    "x.info()"
   ],
   "metadata": {
    "collapsed": false
   }
  },
  {
   "cell_type": "markdown",
   "source": [
    "1 A) Linear Regression"
   ],
   "metadata": {
    "collapsed": false
   }
  },
  {
   "cell_type": "code",
   "execution_count": 52,
   "outputs": [
    {
     "name": "stdout",
     "output_type": "stream",
     "text": [
      "R2 score:  1.0\n",
      "Adjusted R2_score:  1.0\n",
      "MAE:  0.192\n",
      "MSE:  0.237\n",
      "RMSE:  0.487\n"
     ]
    }
   ],
   "source": [
    "from sklearn.model_selection import train_test_split\n",
    "x_train,x_test,y_train,y_test = train_test_split(x,y,test_size=0.4,random_state=52)\n",
    "\n",
    "\n",
    "from sklearn.linear_model import LinearRegression\n",
    "model1 = LinearRegression()\n",
    "model1.fit(x_train,y_train)\n",
    "linear_pred = model1.predict(x_test)\n",
    "\n",
    "\n",
    "\n",
    "from sklearn.metrics import r2_score\n",
    "from sklearn.metrics import mean_absolute_error\n",
    "from sklearn.metrics import mean_squared_error\n",
    "import numpy as np\n",
    "from sklearn.model_selection import cross_val_score\n",
    "r2 = r2_score(y_test,linear_pred)\n",
    "print(\"R2 score: \",np.round(r2,3))\n",
    "n=5790 # n = number of observations (rows)\n",
    "k=21 # k = number of dimensions (independent variables)\n",
    "adj_r2_score = 1 - ((1-r2)*(n-1)/(n-k-1))\n",
    "print(\"Adjusted R2_score: \",np.round(adj_r2_score,3))\n",
    "print(\"MAE: \",np.round(mean_absolute_error(y_test,linear_pred),3))\n",
    "print(\"MSE: \",np.round(mean_squared_error(y_test,linear_pred),3))\n",
    "mse = mean_squared_error(y_test,linear_pred)\n",
    "rmse = np.sqrt(mse)\n",
    "print(\"RMSE: \", np.round(rmse, 3))\n",
    "#scores = cross_val_score(model1,x_train,y_train,cv=10,scoring='neg_mean_squared_error')\n",
    "#avg_score = np.mean(-scores)\n",
    "#print(\"Average score using cross validation: \",avg_score)"
   ],
   "metadata": {
    "collapsed": false
   }
  },
  {
   "cell_type": "markdown",
   "source": [
    "1 B) Linear Regression with Standardization"
   ],
   "metadata": {
    "collapsed": false
   }
  },
  {
   "cell_type": "code",
   "execution_count": 53,
   "outputs": [
    {
     "name": "stdout",
     "output_type": "stream",
     "text": [
      "R2 score:  1.0\n",
      "Adjusted R2_score:  1.0\n",
      "MAE:  0.192\n",
      "MSE:  0.237\n",
      "RMSE:  0.487\n"
     ]
    }
   ],
   "source": [
    "x_train,x_test,y_train,y_test = train_test_split(x,y,test_size=0.4,random_state=52)\n",
    "\n",
    "\n",
    "\n",
    "from sklearn.preprocessing import StandardScaler\n",
    "scale= StandardScaler()\n",
    "x_train_linear = scale.fit_transform(x_train)\n",
    "x_test_linear = scale.transform(x_test)\n",
    "\n",
    "\n",
    "\n",
    "model1 = LinearRegression()\n",
    "model1.fit(x_train_linear,y_train)\n",
    "linear_pred = model1.predict(x_test_linear)\n",
    "\n",
    "\n",
    "\n",
    "r2 = r2_score(y_test,linear_pred)\n",
    "print(\"R2 score: \",np.round(r2,3))\n",
    "n=5790 # n = number of observations (rows)\n",
    "k=21 # k = number of dimensions (independent variables)\n",
    "adj_r2_score = 1 - ((1-r2)*(n-1)/(n-k-1))\n",
    "print(\"Adjusted R2_score: \",np.round(adj_r2_score,3))\n",
    "print(\"MAE: \",np.round(mean_absolute_error(y_test,linear_pred),3))\n",
    "print(\"MSE: \",np.round(mean_squared_error(y_test,linear_pred),3))\n",
    "mse = mean_squared_error(y_test,linear_pred)\n",
    "rmse = np.sqrt(mse)\n",
    "print(\"RMSE: \", np.round(rmse, 3))"
   ],
   "metadata": {
    "collapsed": false
   }
  },
  {
   "cell_type": "markdown",
   "source": [
    "1 C) Linear Regression with PCA"
   ],
   "metadata": {
    "collapsed": false
   }
  },
  {
   "cell_type": "code",
   "execution_count": 54,
   "outputs": [
    {
     "name": "stdout",
     "output_type": "stream",
     "text": [
      "R2 score:  0.933\n",
      "Adjusted R2_score:  0.933\n",
      "MAE:  43296.394\n",
      "MSE:  5808769202.293\n",
      "RMSE:  76215.282\n"
     ]
    }
   ],
   "source": [
    "x_train,x_test,y_train,y_test = train_test_split(x,y,test_size=0.4,random_state=52)\n",
    "\n",
    "\n",
    "x_train_linear = scale.fit_transform(x_train)\n",
    "x_test_linear = scale.transform(x_test)\n",
    "\n",
    "\n",
    "\n",
    "from sklearn.decomposition import PCA\n",
    "pca = PCA(n_components = 5)\n",
    "pca_train = pca.fit_transform(x_train_linear)\n",
    "pca_test = pca.transform(x_test_linear)\n",
    "\n",
    "\n",
    "\n",
    "model1 = LinearRegression()\n",
    "model1.fit(pca_train,y_train)\n",
    "linear_pred = model1.predict(pca_test)\n",
    "\n",
    "\n",
    "\n",
    "r2 = r2_score(y_test,linear_pred)\n",
    "print(\"R2 score: \",np.round(r2,3))\n",
    "n=5790 # n = number of observations (rows)\n",
    "k=21 # k = number of dimensions (independent variables)\n",
    "adj_r2_score = 1 - ((1-r2)*(n-1)/(n-k-1))\n",
    "print(\"Adjusted R2_score: \",np.round(adj_r2_score,3))\n",
    "print(\"MAE: \",np.round(mean_absolute_error(y_test,linear_pred),3))\n",
    "print(\"MSE: \",np.round(mean_squared_error(y_test,linear_pred),3))\n",
    "mse = mean_squared_error(y_test,linear_pred)\n",
    "rmse = np.sqrt(mse)\n",
    "print(\"RMSE: \", np.round(rmse, 3))"
   ],
   "metadata": {
    "collapsed": false
   }
  },
  {
   "cell_type": "markdown",
   "source": [
    "2) SVR"
   ],
   "metadata": {
    "collapsed": false
   }
  },
  {
   "cell_type": "code",
   "execution_count": 55,
   "outputs": [
    {
     "name": "stdout",
     "output_type": "stream",
     "text": [
      "R2 score:  -0.057\n",
      "Adjusted R2_score:  -0.061\n",
      "MAE:  185477.207\n",
      "MSE:  95518237888.427\n",
      "RMSE:  309060.25\n"
     ]
    }
   ],
   "source": [
    "x_train,x_test,y_train,y_test = train_test_split(x,y,random_state=52,train_size=0.8)\n",
    "\n",
    "\n",
    "x_train_svr = scale.fit_transform(x_train)\n",
    "x_test_svr = scale.transform(x_test)\n",
    "\n",
    "\n",
    "from sklearn.svm import SVR\n",
    "regressor = SVR()\n",
    "regressor.fit(x_train_svr, y_train)\n",
    "svr_pred = regressor.predict(x_test_svr)\n",
    "\n",
    "\n",
    "r2 = r2_score(y_test,svr_pred)\n",
    "print(\"R2 score: \",np.round(r2,3))\n",
    "n=5790 # n = number of observations (rows)\n",
    "k=21 # k = number of dimensions (independent variables)\n",
    "adj_r2_score = 1 - ((1-r2)*(n-1)/(n-k-1))\n",
    "print(\"Adjusted R2_score: \",np.round(adj_r2_score,3))\n",
    "print(\"MAE: \",np.round(mean_absolute_error(y_test,svr_pred),3))\n",
    "print(\"MSE: \",np.round(mean_squared_error(y_test,svr_pred),3))\n",
    "mse = mean_squared_error(y_test,svr_pred)\n",
    "rmse = np.sqrt(mse)\n",
    "print(\"RMSE: \", np.round(rmse, 3))\n",
    "#scores = cross_val_score(regressor,x_train,y_train,cv=10,scoring='neg_mean_squared_error')\n",
    "#avg_score = np.mean(-scores)\n",
    "#print(\"Average score using cross validation: \",avg_score)"
   ],
   "metadata": {
    "collapsed": false
   }
  },
  {
   "cell_type": "markdown",
   "source": [
    "3 A) Random Forest"
   ],
   "metadata": {
    "collapsed": false
   }
  },
  {
   "cell_type": "code",
   "execution_count": 56,
   "outputs": [
    {
     "name": "stdout",
     "output_type": "stream",
     "text": [
      "R2 score:  0.988\n",
      "Adjusted R2_score:  0.988\n",
      "MAE:  1431.936\n",
      "MSE:  1020244297.93\n",
      "RMSE:  31941.263\n"
     ]
    }
   ],
   "source": [
    "from sklearn.model_selection import train_test_split\n",
    "x_train,x_test,y_train,y_test = train_test_split(x,y,random_state=52,test_size=0.4)\n",
    "\n",
    "\n",
    "from sklearn.ensemble import RandomForestRegressor\n",
    "rf = RandomForestRegressor()\n",
    "rf.fit(x_train,y_train)\n",
    "rfr_pred = rf.predict(x_test)\n",
    "\n",
    "\n",
    "from sklearn.metrics import r2_score\n",
    "from sklearn.metrics import mean_absolute_error\n",
    "from sklearn.metrics import mean_squared_error\n",
    "import numpy as np\n",
    "from sklearn.model_selection import cross_val_score\n",
    "r2 = r2_score(y_test,rfr_pred)\n",
    "print(\"R2 score: \",np.round(r2,3))\n",
    "n=5790 # n = number of observations (rows)\n",
    "k=21 # k = number of dimensions (independent variables)\n",
    "adj_r2_score = 1 - ((1-r2)*(n-1)/(n-k-1))\n",
    "print(\"Adjusted R2_score: \",np.round(adj_r2_score,3))\n",
    "print(\"MAE: \",np.round(mean_absolute_error(y_test,rfr_pred),3))\n",
    "print(\"MSE: \",np.round(mean_squared_error(y_test,rfr_pred),3))\n",
    "mse = mean_squared_error(y_test,rfr_pred)\n",
    "rmse = np.sqrt(mse)\n",
    "print(\"RMSE: \", np.round(rmse, 3))\n",
    "#scores = cross_val_score(rf,x_train,y_train,cv=10,scoring='neg_mean_squared_error')\n",
    "#avg_score = np.mean(-scores)\n",
    "#print(\"Average score using cross validation: \",avg_score)"
   ],
   "metadata": {
    "collapsed": false
   }
  },
  {
   "cell_type": "markdown",
   "source": [
    "3 B) Random Forest with Standardization"
   ],
   "metadata": {
    "collapsed": false
   }
  },
  {
   "cell_type": "code",
   "execution_count": 57,
   "outputs": [
    {
     "name": "stdout",
     "output_type": "stream",
     "text": [
      "R2 score:  0.988\n",
      "Adjusted R2_score:  0.988\n",
      "MAE:  1436.968\n",
      "MSE:  1066610401.958\n",
      "RMSE:  32659.002\n"
     ]
    }
   ],
   "source": [
    "x_train,x_test,y_train,y_test = train_test_split(x,y,random_state=52,test_size=0.4)\n",
    "\n",
    "\n",
    "x_train_rf = scale.fit_transform(x_train)\n",
    "x_test_rf = scale.transform(x_test)\n",
    "\n",
    "\n",
    "rf = RandomForestRegressor()\n",
    "rf.fit(x_train_rf,y_train)\n",
    "rfr_pred = rf.predict(x_test_rf)\n",
    "\n",
    "\n",
    "\n",
    "r2 = r2_score(y_test,rfr_pred)\n",
    "print(\"R2 score: \",np.round(r2,3))\n",
    "n=5790 # n = number of observations (rows)\n",
    "k=21 # k = number of dimensions (independent variables)\n",
    "adj_r2_score = 1 - ((1-r2)*(n-1)/(n-k-1))\n",
    "print(\"Adjusted R2_score: \",np.round(adj_r2_score,3))\n",
    "print(\"MAE: \",np.round(mean_absolute_error(y_test,rfr_pred),3))\n",
    "print(\"MSE: \",np.round(mean_squared_error(y_test,rfr_pred),3))\n",
    "mse = mean_squared_error(y_test,rfr_pred)\n",
    "rmse = np.sqrt(mse)\n",
    "print(\"RMSE: \", np.round(rmse, 3))\n"
   ],
   "metadata": {
    "collapsed": false
   }
  },
  {
   "cell_type": "markdown",
   "source": [
    "3 C) Random Forest with PCA"
   ],
   "metadata": {
    "collapsed": false
   }
  },
  {
   "cell_type": "code",
   "execution_count": 58,
   "outputs": [
    {
     "name": "stdout",
     "output_type": "stream",
     "text": [
      "R2 score:  0.942\n",
      "Adjusted R2_score:  0.941\n",
      "MAE:  39752.235\n",
      "MSE:  5063367536.91\n",
      "RMSE:  71157.344\n"
     ]
    }
   ],
   "source": [
    "x_train,x_test,y_train,y_test = train_test_split(x,y,random_state=52,test_size=0.4)\n",
    "\n",
    "\n",
    "x_train_rf = scale.fit_transform(x_train)\n",
    "x_test_rf = scale.transform(x_test)\n",
    "\n",
    "\n",
    "\n",
    "from sklearn.decomposition import PCA\n",
    "pca = PCA(n_components = 5)\n",
    "pca_train = pca.fit_transform(x_train_rf)\n",
    "pca_test = pca.transform(x_test_rf)\n",
    "\n",
    "\n",
    "\n",
    "rf = RandomForestRegressor()\n",
    "rf.fit(pca_train,y_train)\n",
    "rfr_pred = rf.predict(pca_test)\n",
    "\n",
    "\n",
    "\n",
    "r2 = r2_score(y_test,rfr_pred)\n",
    "print(\"R2 score: \",np.round(r2,3))\n",
    "n=5790 # n = number of observations (rows)\n",
    "k=21 # k = number of dimensions (independent variables)\n",
    "adj_r2_score = 1 - ((1-r2)*(n-1)/(n-k-1))\n",
    "print(\"Adjusted R2_score: \",np.round(adj_r2_score,3))\n",
    "print(\"MAE: \",np.round(mean_absolute_error(y_test,rfr_pred),3))\n",
    "print(\"MSE: \",np.round(mean_squared_error(y_test,rfr_pred),3))\n",
    "mse = mean_squared_error(y_test,rfr_pred)\n",
    "rmse = np.sqrt(mse)\n",
    "print(\"RMSE: \", np.round(rmse, 3))"
   ],
   "metadata": {
    "collapsed": false
   }
  },
  {
   "cell_type": "markdown",
   "source": [
    "4 A) Decision Tree"
   ],
   "metadata": {
    "collapsed": false
   }
  },
  {
   "cell_type": "code",
   "execution_count": 59,
   "outputs": [
    {
     "name": "stdout",
     "output_type": "stream",
     "text": [
      "R2 score:  0.983\n",
      "Adjusted R2_score:  0.983\n",
      "MAE:  2026.793\n",
      "MSE:  1500811772.04\n",
      "RMSE:  38740.312\n"
     ]
    }
   ],
   "source": [
    "x_train,x_test,y_train,y_test = train_test_split(x,y,random_state=52,test_size=0.2)\n",
    "\n",
    "\n",
    "from sklearn.tree import DecisionTreeRegressor\n",
    "decision = DecisionTreeRegressor()\n",
    "decision.fit(x_train, y_train)\n",
    "dtr_pred = decision.predict(x_test)\n",
    "\n",
    "\n",
    "r2 = r2_score(y_test,dtr_pred)\n",
    "print(\"R2 score: \",np.round(r2,3))\n",
    "n=5790 # n = number of observations (rows)\n",
    "k=21 # k = number of dimensions (independent variables)\n",
    "adj_r2_score = 1 - ((1-r2)*(n-1)/(n-k-1))\n",
    "print(\"Adjusted R2_score: \",np.round(adj_r2_score,3))\n",
    "print(\"MAE: \",np.round(mean_absolute_error(y_test,dtr_pred),3))\n",
    "print(\"MSE: \",np.round(mean_squared_error(y_test,dtr_pred),3))\n",
    "mse = mean_squared_error(y_test,dtr_pred)\n",
    "rmse = np.sqrt(mse)\n",
    "print(\"RMSE: \", np.round(rmse, 3))\n",
    "#scores = cross_val_score(decision,x_train,y_train,cv=10,scoring='neg_mean_squared_error')\n",
    "#avg_score = np.mean(-scores)\n",
    "#print(\"Average score using cross validation: \",avg_score)"
   ],
   "metadata": {
    "collapsed": false
   }
  },
  {
   "cell_type": "markdown",
   "source": [
    "4 B) Decision Tree with Standardization"
   ],
   "metadata": {
    "collapsed": false
   }
  },
  {
   "cell_type": "code",
   "execution_count": 60,
   "outputs": [
    {
     "name": "stdout",
     "output_type": "stream",
     "text": [
      "R2 score:  0.979\n",
      "Adjusted R2_score:  0.979\n",
      "MAE:  2218.695\n",
      "MSE:  1873698769.658\n",
      "RMSE:  43286.242\n"
     ]
    }
   ],
   "source": [
    "x_train,x_test,y_train,y_test = train_test_split(x,y,random_state=52,test_size=0.2)\n",
    "\n",
    "\n",
    "x_train_dt = scale.fit_transform(x_train)\n",
    "x_test_dt = scale.transform(x_test)\n",
    "\n",
    "\n",
    "decision = DecisionTreeRegressor()\n",
    "decision.fit(x_train_dt, y_train)\n",
    "dtr_pred = decision.predict(x_test_dt)\n",
    "\n",
    "\n",
    "r2 = r2_score(y_test,dtr_pred)\n",
    "print(\"R2 score: \",np.round(r2,3))\n",
    "n=5790 # n = number of observations (rows)\n",
    "k=21 # k = number of dimensions (independent variables)\n",
    "adj_r2_score = 1 - ((1-r2)*(n-1)/(n-k-1))\n",
    "print(\"Adjusted R2_score: \",np.round(adj_r2_score,3))\n",
    "print(\"MAE: \",np.round(mean_absolute_error(y_test,dtr_pred),3))\n",
    "print(\"MSE: \",np.round(mean_squared_error(y_test,dtr_pred),3))\n",
    "mse = mean_squared_error(y_test,dtr_pred)\n",
    "rmse = np.sqrt(mse)\n",
    "print(\"RMSE: \", np.round(rmse, 3))"
   ],
   "metadata": {
    "collapsed": false
   }
  },
  {
   "cell_type": "markdown",
   "source": [
    "4 C) Decision Tree with PCA"
   ],
   "metadata": {
    "collapsed": false
   }
  },
  {
   "cell_type": "code",
   "execution_count": 62,
   "outputs": [
    {
     "name": "stdout",
     "output_type": "stream",
     "text": [
      "R2 score:  0.919\n",
      "Adjusted R2_score:  0.919\n",
      "MAE:  52499.48\n",
      "MSE:  7328048668.438\n",
      "RMSE:  85604.023\n"
     ]
    }
   ],
   "source": [
    "x_train,x_test,y_train,y_test = train_test_split(x,y,random_state=52,test_size=0.2)\n",
    "\n",
    "\n",
    "x_train_dt = scale.fit_transform(x_train)\n",
    "x_test_dt = scale.transform(x_test)\n",
    "\n",
    "\n",
    "from sklearn.decomposition import PCA\n",
    "pca = PCA(n_components = 5)\n",
    "pca_train = pca.fit_transform(x_train_dt)\n",
    "pca_test = pca.transform(x_test_dt)\n",
    "\n",
    "\n",
    "decision = DecisionTreeRegressor()\n",
    "decision.fit(pca_train, y_train)\n",
    "dtr_pred = decision.predict(pca_test)\n",
    "\n",
    "r2 = r2_score(y_test,dtr_pred)\n",
    "print(\"R2 score: \",np.round(r2,3))\n",
    "n=5790 # n = number of observations (rows)\n",
    "k=21 # k = number of dimensions (independent variables)\n",
    "adj_r2_score = 1 - ((1-r2)*(n-1)/(n-k-1))\n",
    "print(\"Adjusted R2_score: \",np.round(adj_r2_score,3))\n",
    "print(\"MAE: \",np.round(mean_absolute_error(y_test,dtr_pred),3))\n",
    "print(\"MSE: \",np.round(mean_squared_error(y_test,dtr_pred),3))\n",
    "mse = mean_squared_error(y_test,dtr_pred)\n",
    "rmse = np.sqrt(mse)\n",
    "print(\"RMSE: \", np.round(rmse, 3))"
   ],
   "metadata": {
    "collapsed": false
   }
  },
  {
   "cell_type": "markdown",
   "source": [
    "5 A) Lasso Regression"
   ],
   "metadata": {
    "collapsed": false
   }
  },
  {
   "cell_type": "code",
   "execution_count": 63,
   "outputs": [
    {
     "name": "stdout",
     "output_type": "stream",
     "text": [
      "R2 score:  1.0\n",
      "Adjusted R2_score:  1.0\n",
      "MAE:  12.661\n",
      "MSE:  585.895\n",
      "RMSE:  24.205\n"
     ]
    }
   ],
   "source": [
    "from sklearn.model_selection import train_test_split\n",
    "x_train,x_test,y_train,y_test = train_test_split(x,y,random_state=52,train_size=0.8)\n",
    "\n",
    "\n",
    "from sklearn import linear_model\n",
    "lassoReg = linear_model.Lasso()\n",
    "lassoReg.fit(x_train,y_train)\n",
    "lr_pred = lassoReg.predict(x_test)\n",
    "\n",
    "\n",
    "\n",
    "from sklearn.metrics import r2_score\n",
    "from sklearn.metrics import mean_absolute_error\n",
    "from sklearn.metrics import mean_squared_error\n",
    "import numpy as np\n",
    "from sklearn.model_selection import cross_val_score\n",
    "r2 = r2_score(y_test,lr_pred)\n",
    "print(\"R2 score: \",np.round(r2,3))\n",
    "n=5790 # n = number of observations (rows)\n",
    "k=21 # k = number of dimensions (independent variables)\n",
    "adj_r2_score = 1 - ((1-r2)*(n-1)/(n-k-1))\n",
    "print(\"Adjusted R2_score: \",np.round(adj_r2_score,3))\n",
    "print(\"MAE: \",np.round(mean_absolute_error(y_test,lr_pred),3))\n",
    "print(\"MSE: \",np.round(mean_squared_error(y_test,lr_pred),3))\n",
    "mse = mean_squared_error(y_test,lr_pred)\n",
    "rmse = np.sqrt(mse)\n",
    "print(\"RMSE: \", np.round(rmse, 3))\n",
    "#scores = cross_val_score(lassoReg,x_train,y_train,cv=10,scoring='neg_mean_squared_error')\n",
    "#avg_score = np.mean(-scores)\n",
    "#print(\"Average score using cross validation: \",avg_score)"
   ],
   "metadata": {
    "collapsed": false
   }
  },
  {
   "cell_type": "markdown",
   "source": [
    "5 B) Lasso Regression with Standardization"
   ],
   "metadata": {
    "collapsed": false
   }
  },
  {
   "cell_type": "code",
   "execution_count": 64,
   "outputs": [
    {
     "name": "stdout",
     "output_type": "stream",
     "text": [
      "R2 score:  1.0\n",
      "Adjusted R2_score:  1.0\n",
      "MAE:  71.526\n",
      "MSE:  74885.594\n",
      "RMSE:  273.652\n"
     ]
    }
   ],
   "source": [
    "from sklearn.model_selection import train_test_split\n",
    "x_train,x_test,y_train,y_test = train_test_split(x,y,random_state=52,train_size=0.8)\n",
    "\n",
    "\n",
    "\n",
    "from sklearn.preprocessing import StandardScaler\n",
    "scale= StandardScaler()\n",
    "x_train_lasso = scale.fit_transform(x_train)\n",
    "x_test_lasso = scale.transform(x_test)\n",
    "\n",
    "\n",
    "\n",
    "from sklearn import linear_model\n",
    "lassoReg = linear_model.Lasso()\n",
    "lassoReg.fit(x_train_lasso,y_train)\n",
    "lr_pred = lassoReg.predict(x_test_lasso)\n",
    "\n",
    "\n",
    "\n",
    "r2 = r2_score(y_test,lr_pred)\n",
    "print(\"R2 score: \",np.round(r2,3))\n",
    "n=5790 # n = number of observations (rows)\n",
    "k=21 # k = number of dimensions (independent variables)\n",
    "adj_r2_score = 1 - ((1-r2)*(n-1)/(n-k-1))\n",
    "print(\"Adjusted R2_score: \",np.round(adj_r2_score,3))\n",
    "print(\"MAE: \",np.round(mean_absolute_error(y_test,lr_pred),3))\n",
    "print(\"MSE: \",np.round(mean_squared_error(y_test,lr_pred),3))\n",
    "mse = mean_squared_error(y_test,lr_pred)\n",
    "rmse = np.sqrt(mse)\n",
    "print(\"RMSE: \", np.round(rmse, 3))"
   ],
   "metadata": {
    "collapsed": false
   }
  },
  {
   "cell_type": "markdown",
   "source": [
    "5 C) Lasso Regression with PCA"
   ],
   "metadata": {
    "collapsed": false
   }
  },
  {
   "cell_type": "code",
   "execution_count": 65,
   "outputs": [
    {
     "name": "stdout",
     "output_type": "stream",
     "text": [
      "R2 score:  0.923\n",
      "Adjusted R2_score:  0.923\n",
      "MAE:  43815.565\n",
      "MSE:  6922765340.886\n",
      "RMSE:  83203.157\n"
     ]
    }
   ],
   "source": [
    "from sklearn.model_selection import train_test_split\n",
    "x_train,x_test,y_train,y_test = train_test_split(x,y,random_state=52,train_size=0.8)\n",
    "\n",
    "\n",
    "from sklearn.preprocessing import StandardScaler\n",
    "scale= StandardScaler()\n",
    "x_train_lasso = scale.fit_transform(x_train)\n",
    "x_test_lasso = scale.transform(x_test)\n",
    "\n",
    "\n",
    "pca = PCA(n_components = 5)\n",
    "pca_train = pca.fit_transform(x_train_lasso)\n",
    "pca_test = pca.transform(x_test_lasso)\n",
    "\n",
    "\n",
    "lassoReg = linear_model.Lasso()\n",
    "lassoReg.fit(pca_train,y_train)\n",
    "lr_pred = lassoReg.predict(pca_test)\n",
    "\n",
    "\n",
    "r2 = r2_score(y_test,lr_pred)\n",
    "print(\"R2 score: \",np.round(r2,3))\n",
    "n=5790 # n = number of observations (rows)\n",
    "k=21 # k = number of dimensions (independent variables)\n",
    "adj_r2_score = 1 - ((1-r2)*(n-1)/(n-k-1))\n",
    "print(\"Adjusted R2_score: \",np.round(adj_r2_score,3))\n",
    "print(\"MAE: \",np.round(mean_absolute_error(y_test,lr_pred),3))\n",
    "print(\"MSE: \",np.round(mean_squared_error(y_test,lr_pred),3))\n",
    "mse = mean_squared_error(y_test,lr_pred)\n",
    "rmse = np.sqrt(mse)\n",
    "print(\"RMSE: \", np.round(rmse, 3))"
   ],
   "metadata": {
    "collapsed": false
   }
  }
 ],
 "metadata": {
  "kernelspec": {
   "display_name": "Python 3",
   "language": "python",
   "name": "python3"
  },
  "language_info": {
   "codemirror_mode": {
    "name": "ipython",
    "version": 2
   },
   "file_extension": ".py",
   "mimetype": "text/x-python",
   "name": "python",
   "nbconvert_exporter": "python",
   "pygments_lexer": "ipython2",
   "version": "2.7.6"
  }
 },
 "nbformat": 4,
 "nbformat_minor": 0
}
