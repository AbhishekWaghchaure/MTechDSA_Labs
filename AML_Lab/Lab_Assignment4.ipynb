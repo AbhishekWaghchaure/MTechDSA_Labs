{
 "cells": [
  {
   "cell_type": "code",
   "execution_count": 1,
   "metadata": {},
   "outputs": [
    {
     "data": {
      "text/html": [
       "<div>\n",
       "<style scoped>\n",
       "    .dataframe tbody tr th:only-of-type {\n",
       "        vertical-align: middle;\n",
       "    }\n",
       "\n",
       "    .dataframe tbody tr th {\n",
       "        vertical-align: top;\n",
       "    }\n",
       "\n",
       "    .dataframe thead th {\n",
       "        text-align: right;\n",
       "    }\n",
       "</style>\n",
       "<table border=\"1\" class=\"dataframe\">\n",
       "  <thead>\n",
       "    <tr style=\"text-align: right;\">\n",
       "      <th></th>\n",
       "      <th>gender</th>\n",
       "      <th>age</th>\n",
       "      <th>hypertension</th>\n",
       "      <th>heart_disease</th>\n",
       "      <th>ever_married</th>\n",
       "      <th>work_type</th>\n",
       "      <th>Residence_type</th>\n",
       "      <th>avg_glucose_level</th>\n",
       "      <th>bmi</th>\n",
       "      <th>smoking_status</th>\n",
       "      <th>stroke</th>\n",
       "    </tr>\n",
       "  </thead>\n",
       "  <tbody>\n",
       "    <tr>\n",
       "      <th>0</th>\n",
       "      <td>Male</td>\n",
       "      <td>67.0</td>\n",
       "      <td>0</td>\n",
       "      <td>1</td>\n",
       "      <td>Yes</td>\n",
       "      <td>Private</td>\n",
       "      <td>Urban</td>\n",
       "      <td>228.69</td>\n",
       "      <td>36.6</td>\n",
       "      <td>formerly smoked</td>\n",
       "      <td>1</td>\n",
       "    </tr>\n",
       "    <tr>\n",
       "      <th>1</th>\n",
       "      <td>Male</td>\n",
       "      <td>80.0</td>\n",
       "      <td>0</td>\n",
       "      <td>1</td>\n",
       "      <td>Yes</td>\n",
       "      <td>Private</td>\n",
       "      <td>Rural</td>\n",
       "      <td>105.92</td>\n",
       "      <td>32.5</td>\n",
       "      <td>never smoked</td>\n",
       "      <td>1</td>\n",
       "    </tr>\n",
       "    <tr>\n",
       "      <th>2</th>\n",
       "      <td>Female</td>\n",
       "      <td>49.0</td>\n",
       "      <td>0</td>\n",
       "      <td>0</td>\n",
       "      <td>Yes</td>\n",
       "      <td>Private</td>\n",
       "      <td>Urban</td>\n",
       "      <td>171.23</td>\n",
       "      <td>34.4</td>\n",
       "      <td>smokes</td>\n",
       "      <td>1</td>\n",
       "    </tr>\n",
       "    <tr>\n",
       "      <th>3</th>\n",
       "      <td>Female</td>\n",
       "      <td>79.0</td>\n",
       "      <td>1</td>\n",
       "      <td>0</td>\n",
       "      <td>Yes</td>\n",
       "      <td>Self-employed</td>\n",
       "      <td>Rural</td>\n",
       "      <td>174.12</td>\n",
       "      <td>24.0</td>\n",
       "      <td>never smoked</td>\n",
       "      <td>1</td>\n",
       "    </tr>\n",
       "    <tr>\n",
       "      <th>4</th>\n",
       "      <td>Male</td>\n",
       "      <td>81.0</td>\n",
       "      <td>0</td>\n",
       "      <td>0</td>\n",
       "      <td>Yes</td>\n",
       "      <td>Private</td>\n",
       "      <td>Urban</td>\n",
       "      <td>186.21</td>\n",
       "      <td>29.0</td>\n",
       "      <td>formerly smoked</td>\n",
       "      <td>1</td>\n",
       "    </tr>\n",
       "  </tbody>\n",
       "</table>\n",
       "</div>"
      ],
      "text/plain": [
       "   gender   age  hypertension  heart_disease ever_married      work_type  \\\n",
       "0    Male  67.0             0              1          Yes        Private   \n",
       "1    Male  80.0             0              1          Yes        Private   \n",
       "2  Female  49.0             0              0          Yes        Private   \n",
       "3  Female  79.0             1              0          Yes  Self-employed   \n",
       "4    Male  81.0             0              0          Yes        Private   \n",
       "\n",
       "  Residence_type  avg_glucose_level   bmi   smoking_status  stroke  \n",
       "0          Urban             228.69  36.6  formerly smoked       1  \n",
       "1          Rural             105.92  32.5     never smoked       1  \n",
       "2          Urban             171.23  34.4           smokes       1  \n",
       "3          Rural             174.12  24.0     never smoked       1  \n",
       "4          Urban             186.21  29.0  formerly smoked       1  "
      ]
     },
     "execution_count": 1,
     "metadata": {},
     "output_type": "execute_result"
    }
   ],
   "source": [
    "import pandas\n",
    "df = pandas.read_csv('SmokingDataSet.csv')\n",
    "df.head()"
   ]
  },
  {
   "cell_type": "code",
   "execution_count": 2,
   "metadata": {},
   "outputs": [
    {
     "data": {
      "text/plain": [
       "['gender', 'ever_married', 'work_type', 'Residence_type', 'smoking_status']"
      ]
     },
     "execution_count": 2,
     "metadata": {},
     "output_type": "execute_result"
    }
   ],
   "source": [
    "obj_list = list(df.select_dtypes(include='object'))\n",
    "obj_list"
   ]
  },
  {
   "cell_type": "code",
   "execution_count": 3,
   "metadata": {},
   "outputs": [],
   "source": [
    "from sklearn import preprocessing\n",
    "for i in obj_list:\n",
    "    Encoder = preprocessing.LabelEncoder()\n",
    "    df[i]= Encoder.fit_transform(df[i])"
   ]
  },
  {
   "cell_type": "code",
   "execution_count": 4,
   "metadata": {},
   "outputs": [],
   "source": [
    "x = df.drop(columns=['stroke'],axis=1)\n",
    "y = df['stroke']"
   ]
  },
  {
   "cell_type": "code",
   "execution_count": 5,
   "metadata": {},
   "outputs": [],
   "source": [
    "from imblearn.over_sampling import RandomOverSampler\n",
    "over_sampler = RandomOverSampler(sampling_strategy='minority')\n",
    "x,y = over_sampler.fit_resample(x,y)"
   ]
  },
  {
   "cell_type": "code",
   "execution_count": 6,
   "metadata": {},
   "outputs": [],
   "source": [
    "from sklearn.model_selection import train_test_split\n",
    "x_train,x_test,y_train,y_test = train_test_split(x,y,test_size=0.25,stratify=y,random_state=62)"
   ]
  },
  {
   "cell_type": "code",
   "execution_count": 7,
   "metadata": {},
   "outputs": [],
   "source": [
    "from sklearn.linear_model import LogisticRegression\n",
    "logistic_model = LogisticRegression(max_iter=1000)\n",
    "logistic_model.fit(x_train,y_train)\n",
    "logistic_pred = logistic_model.predict(x_test)"
   ]
  },
  {
   "cell_type": "code",
   "execution_count": 8,
   "metadata": {},
   "outputs": [],
   "source": [
    "from sklearn.tree import DecisionTreeClassifier\n",
    "DT_model = DecisionTreeClassifier()\n",
    "DT_model.fit(x_train,y_train)\n",
    "tree_pred = DT_model.predict(x_test)"
   ]
  },
  {
   "cell_type": "code",
   "execution_count": 9,
   "metadata": {},
   "outputs": [],
   "source": [
    "from sklearn import svm\n",
    "model_svm = svm.SVC()\n",
    "model_svm.fit(x_train,y_train)\n",
    "svm_pred = model_svm.predict(x_test)"
   ]
  },
  {
   "cell_type": "code",
   "execution_count": 10,
   "metadata": {},
   "outputs": [],
   "source": [
    "from sklearn.ensemble import RandomForestClassifier\n",
    "RF_model = RandomForestClassifier(n_estimators=1000)\n",
    "RF_model.fit(x_train,y_train)\n",
    "y_pred = RF_model.predict(x_test)"
   ]
  },
  {
   "cell_type": "code",
   "execution_count": 11,
   "metadata": {},
   "outputs": [],
   "source": [
    "from sklearn.ensemble import VotingClassifier\n",
    "final_model = VotingClassifier(\n",
    "    estimators=[('lr',logistic_model), ('dt',DT_model),('svm',model_svm)], voting='hard')"
   ]
  },
  {
   "cell_type": "code",
   "execution_count": 12,
   "metadata": {},
   "outputs": [
    {
     "data": {
      "text/plain": [
       "array([[858, 326],\n",
       "       [200, 983]])"
      ]
     },
     "execution_count": 12,
     "metadata": {},
     "output_type": "execute_result"
    }
   ],
   "source": [
    "from sklearn.metrics import confusion_matrix\n",
    "final_model.fit(x_train,y_train)\n",
    "final_pred = final_model.predict(x_test)\n",
    "cm_log = confusion_matrix(y_test,final_pred)\n",
    "cm_log"
   ]
  },
  {
   "cell_type": "code",
   "execution_count": 15,
   "metadata": {},
   "outputs": [
    {
     "name": "stdout",
     "output_type": "stream",
     "text": [
      "Precision Score for Logistic model 0.7389312977099237\n",
      "Precision Score for Decision model 0.9403815580286169\n",
      "Precision Score for SVM model 0.7257448433919023\n",
      "Precision Score for Ensemble model 0.7509549274255156\n",
      "Precision Score for RandomForest model 0.9817427385892116\n",
      "\n",
      "Recall Score for Logistic model 0.8182586644125106\n",
      "Recall Score for Decision model 1.0\n",
      "Recall Score for SVM model 0.8030431107354185\n",
      "Recall Score for Ensemble model 0.830938292476754\n",
      "Recall Score for RandomForest model 1.0\n",
      "\n",
      "ROC-AUC Score for logistic model 0.7647036565305797\n",
      "ROC-AUC Score for Decision model 0.9683277027027026\n",
      "ROC-AUC Score for SVM model 0.7499168256379796\n",
      "ROC-AUC Score for Ensemble model 0.7778002273194581\n",
      "ROC-AUC Score for RandomForest model 0.9907094594594595\n"
     ]
    }
   ],
   "source": [
    "from sklearn.metrics import precision_score,recall_score,roc_auc_score\n",
    "print(\"Precision Score for Logistic model\",precision_score(y_test,logistic_pred))\n",
    "print(\"Precision Score for Decision model\",precision_score(y_test,tree_pred))\n",
    "print(\"Precision Score for SVM model\",precision_score(y_test,svm_pred))\n",
    "print(\"Precision Score for Ensemble model\",precision_score(y_test,final_pred))\n",
    "print(\"Precision Score for RandomForest model\",precision_score(y_test,y_pred))\n",
    "\n",
    "print(\"\\nRecall Score for Logistic model\",recall_score(y_test,logistic_pred))\n",
    "print(\"Recall Score for Decision model\",recall_score(y_test,tree_pred))\n",
    "print(\"Recall Score for SVM model\",recall_score(y_test,svm_pred))\n",
    "print(\"Recall Score for Ensemble model\",recall_score(y_test,final_pred))\n",
    "print(\"Recall Score for RandomForest model\",recall_score(y_test,y_pred))\n",
    "\n",
    "\n",
    "print(\"\\nROC-AUC Score for logistic model\",roc_auc_score(y_test,logistic_pred))\n",
    "print(\"ROC-AUC Score for Decision model\",roc_auc_score(y_test,tree_pred))\n",
    "print(\"ROC-AUC Score for SVM model\",roc_auc_score(y_test,svm_pred))\n",
    "print(\"ROC-AUC Score for Ensemble model\",roc_auc_score(y_test,final_pred))\n",
    "print(\"ROC-AUC Score for RandomForest model\",roc_auc_score(y_test,y_pred))\n"
   ]
  },
  {
   "cell_type": "code",
   "execution_count": 16,
   "metadata": {},
   "outputs": [
    {
     "name": "stdout",
     "output_type": "stream",
     "text": [
      "+--------------------+-----------------+--------------+---------------+\n",
      "|       Model        | Precision Score | Recall Score | ROC-AUC Score |\n",
      "+--------------------+-----------------+--------------+---------------+\n",
      "|   Logistic Model   |       0.73      |     0.81     |      0.76     |\n",
      "|   Decision Model   |       0.94      |     1.0      |      0.96     |\n",
      "|     SVM Model      |       0.72      |     0.80     |      0.74     |\n",
      "|   Ensemble Model   |       0.75      |     0.83     |      0.77     |\n",
      "| RandomForest Model |       0.98      |     1.0      |      0.99     |\n",
      "+--------------------+-----------------+--------------+---------------+\n"
     ]
    }
   ],
   "source": [
    "from prettytable import PrettyTable\n",
    "Comparision_table = PrettyTable([\"Model\", \"Precision Score\", \"Recall Score\", \"ROC-AUC Score\"])\n",
    "Comparision_table.add_row([\"Logistic Model\",\"0.73\", \"0.81\", \"0.76\"])\n",
    "Comparision_table.add_row([\"Decision Model\",\"0.94\", \"1.0\", \"0.96\"])\n",
    "Comparision_table.add_row([\"SVM Model\",\"0.72\", \"0.80\", \"0.74\"])\n",
    "Comparision_table.add_row([\"Ensemble Model\",\"0.75\", \"0.83\", \"0.77\"])\n",
    "Comparision_table.add_row([\"RandomForest Model\",\"0.98\", \"1.0\", \"0.99\"])\n",
    "\n",
    "print(Comparision_table)\n"
   ]
  }
 ],
 "metadata": {
  "kernelspec": {
   "display_name": "Python 3.8.10 ('Env01')",
   "language": "python",
   "name": "python3"
  },
  "language_info": {
   "codemirror_mode": {
    "name": "ipython",
    "version": 3
   },
   "file_extension": ".py",
   "mimetype": "text/x-python",
   "name": "python",
   "nbconvert_exporter": "python",
   "pygments_lexer": "ipython3",
   "version": "3.8.10"
  },
  "orig_nbformat": 4,
  "vscode": {
   "interpreter": {
    "hash": "c8ba2787a84a7f2f66ebb7354e6e2d953480730db5b3e727c0f12de54f4bace1"
   }
  }
 },
 "nbformat": 4,
 "nbformat_minor": 2
}
