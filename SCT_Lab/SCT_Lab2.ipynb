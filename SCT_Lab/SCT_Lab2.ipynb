{
 "cells": [
  {
   "cell_type": "code",
   "execution_count": 3,
   "metadata": {
    "collapsed": true
   },
   "outputs": [
    {
     "name": "stdout",
     "output_type": "stream",
     "text": [
      "NOR Logic: \n",
      "\n",
      "x1 = 0 and x2 = 0 => y = 1\n",
      "x1 = 0 and x2 = 1 => y = 0\n",
      "x1 = 1 and x2 = 0 => y = 0\n",
      "x1 = 1 and x2 = 1 => y = 0\n"
     ]
    }
   ],
   "source": [
    "#NOR GATE\n",
    "# Importing the required libraries\n",
    "import numpy as np\n",
    "# Defining the activation function\n",
    "def activation_function(y):\n",
    "    if y > 0:\n",
    "        y = 1\n",
    "    elif y <= 0:\n",
    "        y = 0\n",
    "    return y\n",
    "# W = weights of the perceptron model\n",
    "W = np.array([-1, -1])\n",
    "# b = bias of the model\n",
    "b = 1\n",
    "# Defining the perceptron algorithm\n",
    "def perceptron_algorithm(x):\n",
    "    # y = w1x1 + w2x2 + b\n",
    "    y = np.dot(W, x) + b\n",
    "    # y = 1 if Wx+b > 0 else y = 0\n",
    "    y = activation_function(y)\n",
    "    return y\n",
    "# Input values to verify the NOR logic\n",
    "input1 = np.array([0, 0])\n",
    "input2 = np.array([0, 1])\n",
    "input3 = np.array([1, 0])\n",
    "input4 = np.array([1, 1])\n",
    "\n",
    "# Printing the results\n",
    "print('NOR Logic: \\n')\n",
    "print(f'x1 = 0 and x2 = 0 => y = {perceptron_algorithm(input1)}')\n",
    "print(f'x1 = 0 and x2 = 1 => y = {perceptron_algorithm(input2)}')\n",
    "print(f'x1 = 1 and x2 = 0 => y = {perceptron_algorithm(input3)}')\n",
    "print(f'x1 = 1 and x2 = 1 => y = {perceptron_algorithm(input4)}')"
   ]
  },
  {
   "cell_type": "code",
   "execution_count": 4,
   "outputs": [
    {
     "name": "stdout",
     "output_type": "stream",
     "text": [
      "NAND Logic: \n",
      "\n",
      "x1 = 0 and x2 = 0 => y = 1\n",
      "x1 = 0 and x2 = 1 => y = 1\n",
      "x1 = 1 and x2 = 0 => y = 1\n",
      "x1 = 1 and x2 = 1 => y = 0\n"
     ]
    }
   ],
   "source": [
    "#NAND GATE\n",
    "# Importing the required libraries\n",
    "import numpy as np\n",
    "# Defining the activation function\n",
    "def activation_function(y):\n",
    "    if y > 0:\n",
    "        y = 1\n",
    "    elif y <= 0:\n",
    "        y = 0\n",
    "    return y\n",
    "# W = weights of the perceptron model\n",
    "W = np.array([-1, -1])\n",
    "# b = bias of the model\n",
    "b = 2\n",
    "# Defining the perceptron algorithm\n",
    "def perceptron_algorithm(x):\n",
    "    # y = w1x1 + w2x2 + b\n",
    "    y = np.dot(W, x) + b\n",
    "    # y = 1 if Wx+b > 0 else y = 0\n",
    "    y = activation_function(y)\n",
    "    return y\n",
    "# Input values to verify the NOR logic\n",
    "input1 = np.array([0, 0])\n",
    "input2 = np.array([0, 1])\n",
    "input3 = np.array([1, 0])\n",
    "input4 = np.array([1, 1])\n",
    "\n",
    "# Printing the results\n",
    "print('NAND Logic: \\n')\n",
    "print(f'x1 = 0 and x2 = 0 => y = {perceptron_algorithm(input1)}')\n",
    "print(f'x1 = 0 and x2 = 1 => y = {perceptron_algorithm(input2)}')\n",
    "print(f'x1 = 1 and x2 = 0 => y = {perceptron_algorithm(input3)}')\n",
    "print(f'x1 = 1 and x2 = 1 => y = {perceptron_algorithm(input4)}')"
   ],
   "metadata": {
    "collapsed": false
   }
  }
 ],
 "metadata": {
  "kernelspec": {
   "display_name": "Python 3",
   "language": "python",
   "name": "python3"
  },
  "language_info": {
   "codemirror_mode": {
    "name": "ipython",
    "version": 2
   },
   "file_extension": ".py",
   "mimetype": "text/x-python",
   "name": "python",
   "nbconvert_exporter": "python",
   "pygments_lexer": "ipython2",
   "version": "2.7.6"
  }
 },
 "nbformat": 4,
 "nbformat_minor": 0
}
