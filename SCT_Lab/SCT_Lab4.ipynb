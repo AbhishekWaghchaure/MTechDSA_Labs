{
 "cells": [
  {
   "cell_type": "code",
   "execution_count": 1,
   "outputs": [
    {
     "name": "stdout",
     "output_type": "stream",
     "text": [
      "The First Fuzzy Set is : {'a': 0.2, 'b': 0.3, 'c': 0.6, 'd': 0.6}\n",
      "The Second Fuzzy Set is : {'a': 0.9, 'b': 0.9, 'c': 0.4, 'd': 0.5}\n",
      "Fuzzy Set Union is : {'a': 0.9, 'b': 0.9, 'c': 0.6, 'd': 0.6}\n"
     ]
    }
   ],
   "source": [
    "# Example to Demonstrate the\n",
    "# Union of Two Fuzzy Sets\n",
    "A = dict()\n",
    "B = dict()\n",
    "Y = dict()\n",
    "\n",
    "A = {\"a\": 0.2, \"b\": 0.3, \"c\": 0.6, \"d\": 0.6}\n",
    "B = {\"a\": 0.9, \"b\": 0.9, \"c\": 0.4, \"d\": 0.5}\n",
    "\n",
    "print('The First Fuzzy Set is :', A)\n",
    "print('The Second Fuzzy Set is :', B)\n",
    "\n",
    "\n",
    "for A_key, B_key in zip(A, B):\n",
    "    A_value = A[A_key]\n",
    "    B_value = B[B_key]\n",
    "    #print(A_value)\n",
    "\n",
    "    if A_value > B_value:\n",
    "        Y[A_key] = A_value\n",
    "    else:\n",
    "        Y[B_key] = B_value\n",
    "\n",
    "print('Fuzzy Set Union is :', Y)\n"
   ],
   "metadata": {
    "collapsed": false
   }
  },
  {
   "cell_type": "code",
   "execution_count": 2,
   "outputs": [
    {
     "name": "stdout",
     "output_type": "stream",
     "text": [
      "The First Fuzzy Set is : {'a': 0.2, 'b': 0.3, 'c': 0.6, 'd': 0.6}\n",
      "The Second Fuzzy Set is : {'a': 0.9, 'b': 0.9, 'c': 0.4, 'd': 0.5}\n",
      "Fuzzy Set Intersection is : {'a': 0.2, 'b': 0.3, 'c': 0.4, 'd': 0.5}\n"
     ]
    }
   ],
   "source": [
    "# Example to Demonstrate the\n",
    "# Intersection of Two Fuzzy Sets\n",
    "A = dict()\n",
    "B = dict()\n",
    "Y = dict()\n",
    "\n",
    "A = {\"a\": 0.2, \"b\": 0.3, \"c\": 0.6, \"d\": 0.6}\n",
    "B = {\"a\": 0.9, \"b\": 0.9, \"c\": 0.4, \"d\": 0.5}\n",
    "\n",
    "print('The First Fuzzy Set is :', A)\n",
    "print('The Second Fuzzy Set is :', B)\n",
    "\n",
    "\n",
    "for A_key, B_key in zip(A, B):\n",
    "    A_value = A[A_key]\n",
    "    B_value = B[B_key]\n",
    "    #print(A_value)\n",
    "\n",
    "    if A_value < B_value:\n",
    "        Y[A_key] = A_value\n",
    "    else:\n",
    "        Y[B_key] = B_value\n",
    "\n",
    "print('Fuzzy Set Intersection is :', Y)\n"
   ],
   "metadata": {
    "collapsed": false
   }
  },
  {
   "cell_type": "code",
   "execution_count": 3,
   "outputs": [
    {
     "name": "stdout",
     "output_type": "stream",
     "text": [
      "The First Fuzzy Set is : {'a': 0.2, 'b': 0.3, 'c': 0.6, 'd': 0.6}\n",
      "Fuzzy Set Compliment is : {'a': 0.8, 'b': 0.7, 'c': 0.4, 'd': 0.4}\n"
     ]
    }
   ],
   "source": [
    "# Example to Demonstrate the\n",
    "# Compliment of Two Fuzzy Sets\n",
    "A = dict()\n",
    "B = dict()\n",
    "Y = dict()\n",
    "\n",
    "A = {\"a\": 0.2, \"b\": 0.3, \"c\": 0.6, \"d\": 0.6}\n",
    "\n",
    "print('The First Fuzzy Set is :', A)\n",
    "\n",
    "\n",
    "for A_key in A:\n",
    "    Y[A_key] = 1-A[A_key]\n",
    "\n",
    "print('Fuzzy Set Compliment is :', Y)\n"
   ],
   "metadata": {
    "collapsed": false
   }
  }
 ],
 "metadata": {
  "kernelspec": {
   "display_name": "Python 3",
   "language": "python",
   "name": "python3"
  },
  "language_info": {
   "codemirror_mode": {
    "name": "ipython",
    "version": 2
   },
   "file_extension": ".py",
   "mimetype": "text/x-python",
   "name": "python",
   "nbconvert_exporter": "python",
   "pygments_lexer": "ipython2",
   "version": "2.7.6"
  }
 },
 "nbformat": 4,
 "nbformat_minor": 0
}
